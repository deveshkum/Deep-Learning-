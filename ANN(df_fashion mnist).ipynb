{
 "cells": [
  {
   "cell_type": "code",
   "execution_count": 1,
   "id": "1a32275b",
   "metadata": {},
   "outputs": [],
   "source": [
    "### Importing All the req tools for data manipulation\n",
    "\n",
    "import numpy as np\n",
    "import pandas as pd\n",
    "import tensorflow as tf\n",
    "import matplotlib.pyplot as plt"
   ]
  },
  {
   "cell_type": "code",
   "execution_count": 2,
   "id": "10e55e6d",
   "metadata": {},
   "outputs": [],
   "source": [
    "### Importing the Sequential Model & it's layer\n",
    "\n",
    "from tensorflow.keras.models import Sequential\n",
    "from tensorflow.keras.layers import Dense , Flatten"
   ]
  },
  {
   "cell_type": "code",
   "execution_count": 3,
   "id": "91a94abb",
   "metadata": {},
   "outputs": [],
   "source": [
    "### Importing the fashion Dataset\n",
    "\n",
    "from tensorflow.keras.datasets import fashion_mnist"
   ]
  },
  {
   "cell_type": "code",
   "execution_count": 4,
   "id": "813a54ba",
   "metadata": {},
   "outputs": [],
   "source": [
    "### Giving into the X & y (i.e independent & dependent columns)\n",
    "\n",
    "(Xtrain,ytrain),(Xtest,ytest) = fashion_mnist.load_data()"
   ]
  },
  {
   "cell_type": "code",
   "execution_count": 5,
   "id": "a1556bb2",
   "metadata": {},
   "outputs": [
    {
     "data": {
      "text/plain": [
       "((60000, 28, 28), (60000,))"
      ]
     },
     "execution_count": 5,
     "metadata": {},
     "output_type": "execute_result"
    }
   ],
   "source": [
    "### Checking the shape of the training data\n",
    "\n",
    "Xtrain.shape , ytrain.shape"
   ]
  },
  {
   "cell_type": "code",
   "execution_count": 6,
   "id": "cf6554d1",
   "metadata": {},
   "outputs": [
    {
     "data": {
      "text/plain": [
       "((10000, 28, 28), (10000,))"
      ]
     },
     "execution_count": 6,
     "metadata": {},
     "output_type": "execute_result"
    }
   ],
   "source": [
    "### Checking the shape of the testing data\n",
    "\n",
    "Xtest.shape , ytest.shape"
   ]
  },
  {
   "cell_type": "code",
   "execution_count": 7,
   "id": "005cf4e1",
   "metadata": {},
   "outputs": [
    {
     "data": {
      "text/plain": [
       "0    6000\n",
       "1    6000\n",
       "2    6000\n",
       "3    6000\n",
       "4    6000\n",
       "5    6000\n",
       "6    6000\n",
       "7    6000\n",
       "8    6000\n",
       "9    6000\n",
       "dtype: int64"
      ]
     },
     "execution_count": 7,
     "metadata": {},
     "output_type": "execute_result"
    }
   ],
   "source": [
    "## checking the output Node for adding in the last output layer in the model...\n",
    "\n",
    "pd.DataFrame(ytrain).value_counts()"
   ]
  },
  {
   "cell_type": "code",
   "execution_count": 19,
   "id": "595f64ff",
   "metadata": {},
   "outputs": [],
   "source": [
    "### With the Scaling or Transformation\n",
    "\n",
    "Xtrain_s = Xtrain/255\n",
    "Xtest_s = Xtest/255"
   ]
  },
  {
   "cell_type": "code",
   "execution_count": 20,
   "id": "38440e62",
   "metadata": {},
   "outputs": [
    {
     "name": "stdout",
     "output_type": "stream",
     "text": [
      "Model: \"sequential_1\"\n",
      "_________________________________________________________________\n",
      "Layer (type)                 Output Shape              Param #   \n",
      "=================================================================\n",
      "flatten_1 (Flatten)          (None, 784)               0         \n",
      "_________________________________________________________________\n",
      "dense_3 (Dense)              (None, 130)               102050    \n",
      "_________________________________________________________________\n",
      "dense_4 (Dense)              (None, 230)               30130     \n",
      "_________________________________________________________________\n",
      "dense_5 (Dense)              (None, 10)                2310      \n",
      "=================================================================\n",
      "Total params: 134,490\n",
      "Trainable params: 134,490\n",
      "Non-trainable params: 0\n",
      "_________________________________________________________________\n"
     ]
    }
   ],
   "source": [
    "### Creating the new model for checking with the scaling\n",
    "\n",
    "sq1 = Sequential()\n",
    "sq1.add(Flatten(input_shape = (28,28)))\n",
    "sq1.add(Dense(130,activation='relu'))\n",
    "sq1.add(Dense(230,activation='relu'))\n",
    "sq1.add(Dense(10, activation='softmax'))\n",
    "sq1.compile(optimizer='Adam',\n",
    "                loss='sparse_categorical_crossentropy',\n",
    "                    metrics=['acc'])\n",
    "sq1.summary()"
   ]
  },
  {
   "cell_type": "code",
   "execution_count": 21,
   "id": "21f7bc01",
   "metadata": {},
   "outputs": [
    {
     "name": "stdout",
     "output_type": "stream",
     "text": [
      "Train on 60000 samples\n",
      "Epoch 1/15\n",
      "60000/60000 [==============================] - 8s 141us/sample - loss: 0.4792 - acc: 0.8275\n",
      "Epoch 2/15\n",
      "60000/60000 [==============================] - 8s 137us/sample - loss: 0.3582 - acc: 0.8688\n",
      "Epoch 3/15\n",
      "60000/60000 [==============================] - 8s 135us/sample - loss: 0.3234 - acc: 0.8806\n",
      "Epoch 4/15\n",
      "60000/60000 [==============================] - 8s 134us/sample - loss: 0.3001 - acc: 0.8880\n",
      "Epoch 5/15\n",
      "60000/60000 [==============================] - 8s 134us/sample - loss: 0.2836 - acc: 0.8950\n",
      "Epoch 6/15\n",
      "60000/60000 [==============================] - 11s 175us/sample - loss: 0.2690 - acc: 0.8991\n",
      "Epoch 7/15\n",
      "60000/60000 [==============================] - 8s 135us/sample - loss: 0.2566 - acc: 0.9030\n",
      "Epoch 8/15\n",
      "60000/60000 [==============================] - 8s 137us/sample - loss: 0.2447 - acc: 0.9080\n",
      "Epoch 9/15\n",
      "60000/60000 [==============================] - 8s 139us/sample - loss: 0.2353 - acc: 0.9111\n",
      "Epoch 10/15\n",
      "60000/60000 [==============================] - 8s 139us/sample - loss: 0.2260 - acc: 0.9148\n",
      "Epoch 11/15\n",
      "60000/60000 [==============================] - 8s 136us/sample - loss: 0.2209 - acc: 0.9165\n",
      "Epoch 12/15\n",
      "60000/60000 [==============================] - 8s 135us/sample - loss: 0.2089 - acc: 0.9198\n",
      "Epoch 13/15\n",
      "60000/60000 [==============================] - 8s 135us/sample - loss: 0.2035 - acc: 0.9230\n",
      "Epoch 14/15\n",
      "60000/60000 [==============================] - 8s 139us/sample - loss: 0.1968 - acc: 0.9243\n",
      "Epoch 15/15\n",
      "60000/60000 [==============================] - 8s 135us/sample - loss: 0.1906 - acc: 0.9269\n"
     ]
    },
    {
     "data": {
      "text/plain": [
       "<tensorflow.python.keras.callbacks.History at 0x7fd1c6b5f710>"
      ]
     },
     "execution_count": 21,
     "metadata": {},
     "output_type": "execute_result"
    }
   ],
   "source": [
    "### With epochs\n",
    "\n",
    "sq1.fit(Xtrain_s , ytrain , epochs=15 )"
   ]
  },
  {
   "cell_type": "code",
   "execution_count": 22,
   "id": "38117c3a",
   "metadata": {},
   "outputs": [],
   "source": [
    "ypred1 = np.argmax(sq1.predict(Xtest_s),axis=1)"
   ]
  },
  {
   "cell_type": "code",
   "execution_count": 23,
   "id": "b4a292d8",
   "metadata": {},
   "outputs": [
    {
     "data": {
      "text/plain": [
       "0.8807"
      ]
     },
     "execution_count": 23,
     "metadata": {},
     "output_type": "execute_result"
    }
   ],
   "source": [
    "accuracy_score(ytest,ypred1)"
   ]
  },
  {
   "cell_type": "markdown",
   "id": "faef87ff",
   "metadata": {},
   "source": [
    "### Testing with Model"
   ]
  },
  {
   "cell_type": "code",
   "execution_count": 43,
   "id": "175043a7",
   "metadata": {},
   "outputs": [],
   "source": [
    "label = [\"T-shirt/top\",\"Trouser\",\"Pullover\" ,\"Dress\",\"Coat\",\"Sandal\",\"Shirt\",\"Sneaker\",\"Bag\",\"Ankle boot\"] "
   ]
  },
  {
   "cell_type": "code",
   "execution_count": 52,
   "id": "4324541b",
   "metadata": {},
   "outputs": [
    {
     "data": {
      "text/plain": [
       "'T-shirt/top'"
      ]
     },
     "execution_count": 52,
     "metadata": {},
     "output_type": "execute_result"
    }
   ],
   "source": [
    "label[ytrain[1]]"
   ]
  },
  {
   "cell_type": "code",
   "execution_count": 73,
   "id": "19dd24ae",
   "metadata": {},
   "outputs": [
    {
     "data": {
      "text/plain": [
       "'Sandal'"
      ]
     },
     "execution_count": 73,
     "metadata": {},
     "output_type": "execute_result"
    }
   ],
   "source": [
    "label[np.argmax(sq1.predict(Xtest_s[9550].reshape(1,28,28)))]"
   ]
  },
  {
   "cell_type": "code",
   "execution_count": 74,
   "id": "fd860f67",
   "metadata": {},
   "outputs": [
    {
     "data": {
      "text/plain": [
       "<matplotlib.image.AxesImage at 0x7fd1f0f15290>"
      ]
     },
     "execution_count": 74,
     "metadata": {},
     "output_type": "execute_result"
    },
    {
     "data": {
      "image/png": "[encoded data removed]",
      "text/plain": [
       "<Figure size 432x288 with 1 Axes>"
      ]
     },
     "metadata": {
      "needs_background": "light"
     },
     "output_type": "display_data"
    }
   ],
   "source": [
    "plt.imshow(Xtest_s[9550])"
   ]
  },
  {
   "cell_type": "code",
   "execution_count": 59,
   "id": "2bbbb6ec",
   "metadata": {},
   "outputs": [
    {
     "data": {
      "text/plain": [
       "'Shirt'"
      ]
     },
     "execution_count": 59,
     "metadata": {},
     "output_type": "execute_result"
    }
   ],
   "source": [
    "label[np.argmax(sq1.predict(Xtest_s[9580].reshape(1,28,28)))]"
   ]
  },
  {
   "cell_type": "code",
   "execution_count": 71,
   "id": "4c5ef6de",
   "metadata": {},
   "outputs": [
    {
     "data": {
      "text/plain": [
       "<matplotlib.image.AxesImage at 0x7fd180172e50>"
      ]
     },
     "execution_count": 71,
     "metadata": {},
     "output_type": "execute_result"
    },
    {
     "data": {
      "image/png": "[encoded data removed]",
      "text/plain": [
       "<Figure size 432x288 with 1 Axes>"
      ]
     },
     "metadata": {
      "needs_background": "light"
     },
     "output_type": "display_data"
    }
   ],
   "source": [
    "plt.imshow(Xtest_s[9580])"
   ]
  },
  {
   "cell_type": "code",
   "execution_count": 64,
   "id": "2754d0ff",
   "metadata": {},
   "outputs": [
    {
     "data": {
      "text/plain": [
       "'T-shirt/top'"
      ]
     },
     "execution_count": 64,
     "metadata": {},
     "output_type": "execute_result"
    }
   ],
   "source": [
    "label[np.argmax(sq1.predict(Xtest_s[280].reshape(1,28,28)))]"
   ]
  },
  {
   "cell_type": "code",
   "execution_count": 70,
   "id": "599aa2f7",
   "metadata": {},
   "outputs": [
    {
     "data": {
      "text/plain": [
       "<matplotlib.image.AxesImage at 0x7fd1a05c4b10>"
      ]
     },
     "execution_count": 70,
     "metadata": {},
     "output_type": "execute_result"
    },
    {
     "data": {
      "image/png": "[encoded data removed]",
      "text/plain": [
       "<Figure size 432x288 with 1 Axes>"
      ]
     },
     "metadata": {
      "needs_background": "light"
     },
     "output_type": "display_data"
    }
   ],
   "source": [
    "plt.imshow(Xtest_s[280])"
   ]
  },
  {
   "cell_type": "code",
   "execution_count": 66,
   "id": "7fe2b0b5",
   "metadata": {},
   "outputs": [
    {
     "data": {
      "text/plain": [
       "'Trouser'"
      ]
     },
     "execution_count": 66,
     "metadata": {},
     "output_type": "execute_result"
    }
   ],
   "source": [
    "label[np.argmax(sq1.predict(Xtest_s[5643].reshape(1,28,28)))]"
   ]
  },
  {
   "cell_type": "code",
   "execution_count": 68,
   "id": "7e641b73",
   "metadata": {},
   "outputs": [
    {
     "data": {
      "text/plain": [
       "<matplotlib.image.AxesImage at 0x7fd1e03f7110>"
      ]
     },
     "execution_count": 68,
     "metadata": {},
     "output_type": "execute_result"
    },
    {
     "data": {
      "image/png": "[encoded data removed]",
      "text/plain": [
       "<Figure size 432x288 with 1 Axes>"
      ]
     },
     "metadata": {
      "needs_background": "light"
     },
     "output_type": "display_data"
    }
   ],
   "source": [
    "plt.imshow(Xtest_s[5643])"
   ]
  },
  {
   "cell_type": "code",
   "execution_count": 77,
   "id": "ae3697f1",
   "metadata": {},
   "outputs": [
    {
     "data": {
      "text/plain": [
       "'Ankle boot'"
      ]
     },
     "execution_count": 77,
     "metadata": {},
     "output_type": "execute_result"
    }
   ],
   "source": [
    "label[np.argmax(sq1.predict(Xtest_s[583].reshape(1,28,28)))]"
   ]
  },
  {
   "cell_type": "code",
   "execution_count": 78,
   "id": "f1067b94",
   "metadata": {},
   "outputs": [
    {
     "data": {
      "text/plain": [
       "<matplotlib.image.AxesImage at 0x7fd1981ed7d0>"
      ]
     },
     "execution_count": 78,
     "metadata": {},
     "output_type": "execute_result"
    },
    {
     "data": {
      "image/png": "[encoded data removed]",
      "text/plain": [
       "<Figure size 432x288 with 1 Axes>"
      ]
     },
     "metadata": {
      "needs_background": "light"
     },
     "output_type": "display_data"
    }
   ],
   "source": [
    "plt.imshow(Xtest_s[583])"
   ]
  },
  {
   "cell_type": "code",
   "execution_count": 80,
   "id": "462b3fc4",
   "metadata": {},
   "outputs": [
    {
     "data": {
      "text/plain": [
       "'Coat'"
      ]
     },
     "execution_count": 80,
     "metadata": {},
     "output_type": "execute_result"
    }
   ],
   "source": [
    "label[np.argmax(sq1.predict(Xtest_s[57].reshape(1,28,28)))]"
   ]
  },
  {
   "cell_type": "code",
   "execution_count": 81,
   "id": "c72aaef1",
   "metadata": {},
   "outputs": [
    {
     "data": {
      "text/plain": [
       "<matplotlib.image.AxesImage at 0x7fd198294310>"
      ]
     },
     "execution_count": 81,
     "metadata": {},
     "output_type": "execute_result"
    },
    {
     "data": {
      "image/png": "[encoded data removed]",
      "text/plain": [
       "<Figure size 432x288 with 1 Axes>"
      ]
     },
     "metadata": {
      "needs_background": "light"
     },
     "output_type": "display_data"
    }
   ],
   "source": [
    "plt.imshow(Xtest_s[57])"
   ]
  },
  {
   "cell_type": "code",
   "execution_count": 122,
   "id": "c6b4f9eb",
   "metadata": {},
   "outputs": [
    {
     "data": {
      "text/plain": [
       "'Sneaker'"
      ]
     },
     "execution_count": 122,
     "metadata": {},
     "output_type": "execute_result"
    }
   ],
   "source": [
    "label[np.argmax(sq1.predict(Xtest_s[68].reshape(1,28,28)))]"
   ]
  },
  {
   "cell_type": "code",
   "execution_count": 123,
   "id": "a8dbb09b",
   "metadata": {},
   "outputs": [
    {
     "data": {
      "text/plain": [
       "<matplotlib.image.AxesImage at 0x7fd1a2b7ce10>"
      ]
     },
     "execution_count": 123,
     "metadata": {},
     "output_type": "execute_result"
    },
    {
     "data": {
      "image/png": "[encoded data removed]",
      "text/plain": [
       "<Figure size 432x288 with 1 Axes>"
      ]
     },
     "metadata": {
      "needs_background": "light"
     },
     "output_type": "display_data"
    }
   ],
   "source": [
    "plt.imshow(Xtest_s[68])"
   ]
  },
  {
   "cell_type": "code",
   "execution_count": 126,
   "id": "ca03c0a5",
   "metadata": {},
   "outputs": [
    {
     "data": {
      "text/plain": [
       "'Shirt'"
      ]
     },
     "execution_count": 126,
     "metadata": {},
     "output_type": "execute_result"
    }
   ],
   "source": [
    "label[np.argmax(sq1.predict(Xtest_s[6997].reshape(1,28,28)))]"
   ]
  },
  {
   "cell_type": "code",
   "execution_count": 127,
   "id": "063bbdf4",
   "metadata": {},
   "outputs": [
    {
     "data": {
      "text/plain": [
       "<matplotlib.image.AxesImage at 0x7fd190b3b950>"
      ]
     },
     "execution_count": 127,
     "metadata": {},
     "output_type": "execute_result"
    },
    {
     "data": {
      "image/png": "[encoded data removed]",
      "text/plain": [
       "<Figure size 432x288 with 1 Axes>"
      ]
     },
     "metadata": {
      "needs_background": "light"
     },
     "output_type": "display_data"
    }
   ],
   "source": [
    "plt.imshow(Xtest_s[6997])"
   ]
  },
  {
   "cell_type": "code",
   "execution_count": 133,
   "id": "6d0203aa",
   "metadata": {},
   "outputs": [
    {
     "data": {
      "text/plain": [
       "'Dress'"
      ]
     },
     "execution_count": 133,
     "metadata": {},
     "output_type": "execute_result"
    }
   ],
   "source": [
    "label[np.argmax(sq1.predict(Xtest_s[7737].reshape(1,28,28)))]"
   ]
  },
  {
   "cell_type": "code",
   "execution_count": 134,
   "id": "37f6642c",
   "metadata": {},
   "outputs": [
    {
     "data": {
      "text/plain": [
       "<matplotlib.image.AxesImage at 0x7fd1a4861750>"
      ]
     },
     "execution_count": 134,
     "metadata": {},
     "output_type": "execute_result"
    },
    {
     "data": {
      "image/png": "[encoded data removed]",
      "text/plain": [
       "<Figure size 432x288 with 1 Axes>"
      ]
     },
     "metadata": {
      "needs_background": "light"
     },
     "output_type": "display_data"
    }
   ],
   "source": [
    "plt.imshow(Xtest_s[7737])"
   ]
  },
  {
   "cell_type": "code",
   "execution_count": 155,
   "id": "2caefdb9",
   "metadata": {},
   "outputs": [
    {
     "data": {
      "text/plain": [
       "'Pullover'"
      ]
     },
     "execution_count": 155,
     "metadata": {},
     "output_type": "execute_result"
    }
   ],
   "source": [
    "label[np.argmax(sq1.predict(Xtest_s[9914].reshape(1,28,28)))]"
   ]
  },
  {
   "cell_type": "code",
   "execution_count": null,
   "id": "13b68a7d",
   "metadata": {},
   "outputs": [],
   "source": []
  }
 ],
 "metadata": {
  "kernelspec": {
   "display_name": "Python 3 (ipykernel)",
   "language": "python",
   "name": "python3"
  },
  "language_info": {
   "codemirror_mode": {
    "name": "ipython",
    "version": 3
   },
   "file_extension": ".py",
   "mimetype": "text/x-python",
   "name": "python",
   "nbconvert_exporter": "python",
   "pygments_lexer": "ipython3",
   "version": "3.7.13"
  }
 },
 "nbformat": 4,
 "nbformat_minor": 5
}
