{
 "cells": [
  {
   "cell_type": "code",
   "execution_count": 1,
   "id": "7169df25",
   "metadata": {},
   "outputs": [],
   "source": [
    "import pandas as pd\n",
    "import numpy as np\n",
    "import cv2\n",
    "import os"
   ]
  },
  {
   "cell_type": "code",
   "execution_count": 2,
   "id": "26258188",
   "metadata": {},
   "outputs": [],
   "source": [
    "imgpath = \"/Users/dev/Personal/DS & AI Class Notes/CNN-Data/Face-Emotion/\""
   ]
  },
  {
   "cell_type": "code",
   "execution_count": 3,
   "id": "6d284a66",
   "metadata": {},
   "outputs": [
    {
     "data": {
      "text/plain": [
       "'/Users/dev/Personal/DS & AI Class Notes/CNN-Data/Face-Emotion/'"
      ]
     },
     "execution_count": 3,
     "metadata": {},
     "output_type": "execute_result"
    }
   ],
   "source": [
    "imgpath"
   ]
  },
  {
   "cell_type": "code",
   "execution_count": 4,
   "id": "f040f29a",
   "metadata": {},
   "outputs": [],
   "source": [
    "allimages = os.listdir(imgpath + 'angry/')"
   ]
  },
  {
   "cell_type": "code",
   "execution_count": 5,
   "id": "53ebcc95",
   "metadata": {},
   "outputs": [
    {
     "data": {
      "text/plain": [
       "['Training_35668808.jpg',\n",
       " 'Training_92439792.jpg',\n",
       " 'Training_41634629.jpg',\n",
       " 'Training_78260987.jpg',\n",
       " 'Training_23736738.jpg',\n",
       " 'Training_16211575.jpg',\n",
       " 'Training_99062607.jpg',\n",
       " 'Training_66055698.jpg',\n",
       " 'Training_80720718.jpg',\n",
       " 'Training_82073038.jpg',\n",
       " 'Training_40416731.jpg',\n",
       " 'Training_69523426.jpg',\n",
       " 'Training_18270369.jpg',\n",
       " 'Training_36682771.jpg',\n",
       " 'Training_41252773.jpg',\n",
       " 'Training_22786311.jpg',\n",
       " 'Training_67604214.jpg',\n",
       " 'Training_36835461.jpg',\n",
       " 'Training_90294393.jpg',\n",
       " 'Training_14056996.jpg',\n",
       " 'Training_8365769.jpg',\n",
       " 'Training_57882843.jpg',\n",
       " 'Training_65767860.jpg',\n",
       " 'Training_49587286.jpg',\n",
       " 'Training_41716463.jpg',\n",
       " 'Training_43738681.jpg',\n",
       " 'Training_53972909.jpg',\n",
       " 'Training_46073007.jpg',\n",
       " 'Training_75439466.jpg',\n",
       " 'Training_46639816.jpg',\n",
       " 'Training_20968527.jpg',\n",
       " 'Training_70923480.jpg',\n",
       " 'Training_26143246.jpg',\n",
       " 'Training_18424991.jpg',\n",
       " 'Training_41614923.jpg',\n",
       " 'Training_38587645.jpg',\n",
       " 'Training_94101610.jpg',\n",
       " 'Training_79786106.jpg',\n",
       " 'Training_90579915.jpg',\n",
       " 'Training_73990468.jpg',\n",
       " 'Training_78688570.jpg',\n",
       " 'Training_18460889.jpg',\n",
       " 'Training_72703242.jpg',\n",
       " 'Training_37090011.jpg',\n",
       " 'Training_24963813.jpg',\n",
       " 'Training_92065742.jpg',\n",
       " 'Training_19226789.jpg',\n",
       " 'Training_12661221.jpg',\n",
       " 'Training_60344662.jpg',\n",
       " 'Training_6011098.jpg',\n",
       " 'Training_54634892.jpg',\n",
       " 'Training_74526445.jpg',\n",
       " 'Training_48469260.jpg',\n",
       " 'Training_57359473.jpg',\n",
       " 'Training_48130684.jpg',\n",
       " 'Training_93882459.jpg',\n",
       " 'Training_53024841.jpg',\n",
       " 'Training_60157856.jpg',\n",
       " 'Training_2952566.jpg',\n",
       " 'Training_53935854.jpg',\n",
       " 'Training_28157012.jpg',\n",
       " 'Training_27475992.jpg',\n",
       " 'Training_80045907.jpg',\n",
       " 'Training_39798594.jpg',\n",
       " 'Training_37752731.jpg',\n",
       " 'Training_63051630.jpg',\n",
       " 'Training_35790553.jpg',\n",
       " 'Training_22662478.jpg',\n",
       " 'Training_98571389.jpg',\n",
       " 'Training_13965818.jpg',\n",
       " 'Training_3309884.jpg',\n",
       " 'Training_97783044.jpg',\n",
       " 'Training_91876216.jpg',\n",
       " 'Training_78379622.jpg',\n",
       " 'Training_62169045.jpg',\n",
       " 'Training_7675518.jpg',\n",
       " 'Training_66532755.jpg',\n",
       " 'Training_53019336.jpg',\n",
       " 'Training_88769857.jpg',\n",
       " 'Training_28016112.jpg',\n",
       " 'Training_83260074.jpg',\n",
       " 'Training_42530548.jpg',\n",
       " 'Training_77665862.jpg',\n",
       " 'Training_70447362.jpg',\n",
       " 'Training_7034051.jpg',\n",
       " 'Training_96497363.jpg',\n",
       " 'Training_92732284.jpg',\n",
       " 'Training_69393579.jpg',\n",
       " 'Training_64655133.jpg',\n",
       " 'Training_61939951.jpg',\n",
       " 'Training_47717578.jpg',\n",
       " 'Training_33687835.jpg',\n",
       " 'Training_87488099.jpg',\n",
       " 'Training_94821976.jpg',\n",
       " 'Training_85126698.jpg',\n",
       " 'Training_62659134.jpg',\n",
       " 'Training_93449014.jpg',\n",
       " 'Training_67175729.jpg',\n",
       " 'Training_75624538.jpg',\n",
       " 'Training_60337263.jpg',\n",
       " 'Training_70299484.jpg',\n",
       " 'Training_28724674.jpg',\n",
       " 'Training_57850656.jpg',\n",
       " 'Training_34228276.jpg',\n",
       " 'Training_89053844.jpg',\n",
       " 'Training_87745090.jpg',\n",
       " 'Training_65004742.jpg',\n",
       " 'Training_36414634.jpg',\n",
       " 'Training_90778912.jpg',\n",
       " 'Training_96450416.jpg',\n",
       " 'Training_4772243.jpg',\n",
       " 'Training_85515066.jpg',\n",
       " 'Training_2461109.jpg',\n",
       " 'Training_37552574.jpg',\n",
       " 'Training_8967182.jpg',\n",
       " 'Training_98801026.jpg',\n",
       " 'Training_30818053.jpg',\n",
       " 'Training_70451070.jpg',\n",
       " 'Training_38338367.jpg',\n",
       " 'Training_72365091.jpg',\n",
       " 'Training_24800797.jpg',\n",
       " 'Training_67356835.jpg',\n",
       " 'Training_7981296.jpg',\n",
       " 'Training_19214465.jpg',\n",
       " 'Training_33359399.jpg',\n",
       " 'Training_28382287.jpg',\n",
       " 'Training_24890384.jpg',\n",
       " 'Training_69067131.jpg',\n",
       " 'Training_6522288.jpg',\n",
       " 'Training_40219937.jpg',\n",
       " 'Training_3094261.jpg',\n",
       " 'Training_92806075.jpg',\n",
       " 'Training_36430783.jpg',\n",
       " 'Training_17561724.jpg',\n",
       " 'Training_93949311.jpg',\n",
       " 'Training_999232.jpg',\n",
       " 'Training_63167630.jpg',\n",
       " 'Training_7865887.jpg',\n",
       " 'Training_82332156.jpg',\n",
       " 'Training_81732829.jpg',\n",
       " 'Training_29066246.jpg',\n",
       " 'Training_84055562.jpg',\n",
       " 'Training_94803240.jpg',\n",
       " 'Training_31029069.jpg',\n",
       " 'Training_11888118.jpg',\n",
       " 'Training_55134498.jpg',\n",
       " 'Training_33408401.jpg',\n",
       " 'Training_10278738.jpg',\n",
       " 'Training_98509019.jpg',\n",
       " 'Training_95428981.jpg',\n",
       " 'Training_8001493.jpg',\n",
       " 'Training_50449072.jpg',\n",
       " 'Training_87798227.jpg',\n",
       " 'Training_7786122.jpg',\n",
       " 'Training_17664633.jpg',\n",
       " 'Training_27379882.jpg',\n",
       " 'Training_54806380.jpg',\n",
       " 'Training_34769209.jpg',\n",
       " 'Training_69286607.jpg',\n",
       " 'Training_31007141.jpg',\n",
       " 'Training_77632091.jpg',\n",
       " 'Training_92472619.jpg',\n",
       " 'Training_66097651.jpg',\n",
       " 'Training_32571770.jpg',\n",
       " 'Training_29956706.jpg',\n",
       " 'Training_94204100.jpg',\n",
       " 'Training_1184435.jpg',\n",
       " 'Training_85411017.jpg',\n",
       " 'Training_10503476.jpg',\n",
       " 'Training_18403526.jpg',\n",
       " 'Training_4314640.jpg',\n",
       " 'Training_10922970.jpg',\n",
       " 'Training_74177577.jpg',\n",
       " 'Training_89255724.jpg',\n",
       " 'Training_45379376.jpg',\n",
       " 'Training_7180536.jpg',\n",
       " 'Training_36950159.jpg',\n",
       " 'Training_89257669.jpg',\n",
       " 'Training_57846579.jpg',\n",
       " 'Training_18468344.jpg',\n",
       " 'Training_45888207.jpg',\n",
       " 'Training_55804133.jpg',\n",
       " 'Training_56656714.jpg',\n",
       " 'Training_42055867.jpg',\n",
       " 'Training_17450738.jpg',\n",
       " 'Training_13521344.jpg',\n",
       " 'Training_35701263.jpg',\n",
       " 'Training_32345088.jpg',\n",
       " 'Training_25291602.jpg',\n",
       " 'Training_46583314.jpg',\n",
       " 'Training_89436635.jpg',\n",
       " 'Training_31752247.jpg',\n",
       " 'Training_70676714.jpg',\n",
       " 'Training_75000207.jpg',\n",
       " 'Training_88027194.jpg',\n",
       " 'Training_96309473.jpg',\n",
       " 'Training_22083557.jpg',\n",
       " 'Training_9375450.jpg',\n",
       " 'Training_86178100.jpg',\n",
       " 'Training_23625584.jpg',\n",
       " 'Training_3865960.jpg',\n",
       " 'Training_22890433.jpg',\n",
       " 'Training_9294862.jpg',\n",
       " 'Training_79996719.jpg',\n",
       " 'Training_68363401.jpg',\n",
       " 'Training_45362636.jpg',\n",
       " 'Training_26681413.jpg',\n",
       " 'Training_56795171.jpg',\n",
       " 'Training_54670948.jpg',\n",
       " 'Training_13790669.jpg',\n",
       " 'Training_81205651.jpg',\n",
       " 'Training_92711299.jpg',\n",
       " 'Training_94196223.jpg',\n",
       " 'Training_872654.jpg',\n",
       " 'Training_59191939.jpg',\n",
       " 'Training_90017584.jpg',\n",
       " 'Training_19037832.jpg',\n",
       " 'Training_28843195.jpg',\n",
       " 'Training_50095517.jpg',\n",
       " 'Training_67404285.jpg',\n",
       " 'Training_85348715.jpg',\n",
       " 'Training_58904534.jpg',\n",
       " 'Training_42092055.jpg',\n",
       " 'Training_70313637.jpg',\n",
       " 'Training_54639179.jpg',\n",
       " 'Training_23539303.jpg',\n",
       " 'Training_6332388.jpg',\n",
       " 'Training_58811677.jpg',\n",
       " 'Training_58102713.jpg',\n",
       " 'Training_81399691.jpg',\n",
       " 'Training_47667868.jpg',\n",
       " 'Training_2269690.jpg',\n",
       " 'Training_76251775.jpg',\n",
       " 'Training_30032614.jpg',\n",
       " 'Training_36798728.jpg',\n",
       " 'Training_20815081.jpg',\n",
       " 'Training_71159478.jpg',\n",
       " 'Training_11275727.jpg',\n",
       " 'Training_89489992.jpg',\n",
       " 'Training_69134390.jpg',\n",
       " 'Training_12409483.jpg',\n",
       " 'Training_93956392.jpg',\n",
       " 'Training_60986125.jpg',\n",
       " 'Training_51970741.jpg',\n",
       " 'Training_25463356.jpg',\n",
       " 'Training_51155395.jpg',\n",
       " 'Training_27236991.jpg',\n",
       " 'Training_36791054.jpg',\n",
       " 'Training_88076124.jpg',\n",
       " 'Training_68186609.jpg',\n",
       " 'Training_77500304.jpg',\n",
       " 'Training_3128563.jpg',\n",
       " 'Training_38729129.jpg',\n",
       " 'Training_92372087.jpg',\n",
       " 'Training_83505715.jpg',\n",
       " 'Training_13917123.jpg',\n",
       " 'Training_44695606.jpg',\n",
       " 'Training_79698663.jpg',\n",
       " 'Training_73425315.jpg',\n",
       " 'Training_44019301.jpg',\n",
       " 'Training_98482160.jpg',\n",
       " 'Training_41349436.jpg',\n",
       " 'Training_79087518.jpg',\n",
       " 'Training_72882193.jpg',\n",
       " 'Training_88391908.jpg',\n",
       " 'Training_40535666.jpg',\n",
       " 'Training_63766171.jpg',\n",
       " 'Training_80140263.jpg',\n",
       " 'Training_15794224.jpg',\n",
       " 'Training_83148421.jpg',\n",
       " 'Training_98902458.jpg',\n",
       " 'Training_26991794.jpg',\n",
       " 'Training_70392303.jpg',\n",
       " 'Training_19903870.jpg',\n",
       " 'Training_397587.jpg',\n",
       " 'Training_38557671.jpg',\n",
       " 'Training_42030637.jpg',\n",
       " 'Training_426842.jpg',\n",
       " 'Training_60003551.jpg',\n",
       " 'Training_27900159.jpg',\n",
       " 'Training_63081016.jpg',\n",
       " 'Training_91040085.jpg',\n",
       " 'Training_38455066.jpg',\n",
       " 'Training_7535030.jpg',\n",
       " 'Training_77489078.jpg',\n",
       " 'Training_74059930.jpg',\n",
       " 'Training_65397218.jpg',\n",
       " 'Training_61596872.jpg',\n",
       " 'Training_54377587.jpg',\n",
       " 'Training_35439197.jpg',\n",
       " 'Training_37417413.jpg',\n",
       " 'Training_85188979.jpg',\n",
       " 'Training_58785141.jpg',\n",
       " 'Training_43040006.jpg',\n",
       " 'Training_64715460.jpg',\n",
       " 'Training_9946110.jpg',\n",
       " 'Training_93032281.jpg',\n",
       " 'Training_80928400.jpg',\n",
       " 'Training_23585159.jpg',\n",
       " 'Training_96129692.jpg',\n",
       " 'Training_7007467.jpg',\n",
       " 'Training_34783639.jpg',\n",
       " 'Training_43352525.jpg',\n",
       " 'Training_66883925.jpg',\n",
       " 'Training_16824041.jpg',\n",
       " 'Training_42490058.jpg',\n",
       " 'Training_99585644.jpg',\n",
       " 'Training_34273701.jpg',\n",
       " 'Training_90141844.jpg',\n",
       " 'Training_39614591.jpg',\n",
       " 'Training_50254044.jpg',\n",
       " 'Training_7059533.jpg',\n",
       " 'Training_43313545.jpg',\n",
       " 'Training_20841954.jpg',\n",
       " 'Training_93306995.jpg',\n",
       " 'Training_77778159.jpg',\n",
       " 'Training_86876143.jpg',\n",
       " 'Training_13202061.jpg',\n",
       " 'Training_43612309.jpg',\n",
       " 'Training_37045798.jpg',\n",
       " 'Training_44106194.jpg',\n",
       " 'Training_13043913.jpg',\n",
       " 'Training_14823194.jpg',\n",
       " 'Training_51464036.jpg',\n",
       " 'Training_81048890.jpg',\n",
       " 'Training_89715888.jpg',\n",
       " 'Training_32360815.jpg',\n",
       " 'Training_90101092.jpg',\n",
       " 'Training_44898129.jpg',\n",
       " 'Training_78759538.jpg',\n",
       " 'Training_90926247.jpg',\n",
       " 'Training_9767672.jpg',\n",
       " 'Training_72323038.jpg',\n",
       " 'Training_46496486.jpg',\n",
       " 'Training_97272077.jpg',\n",
       " 'Training_89418657.jpg',\n",
       " 'Training_45054060.jpg',\n",
       " 'Training_46232619.jpg',\n",
       " 'Training_76207451.jpg',\n",
       " 'Training_36101026.jpg',\n",
       " 'Training_56803130.jpg',\n",
       " 'Training_23630570.jpg',\n",
       " 'Training_96565451.jpg',\n",
       " 'Training_2745951.jpg',\n",
       " 'Training_17385604.jpg',\n",
       " 'Training_25812708.jpg',\n",
       " 'Training_81590567.jpg',\n",
       " 'Training_41770652.jpg',\n",
       " 'Training_67740521.jpg',\n",
       " 'Training_83435749.jpg',\n",
       " 'Training_88898734.jpg',\n",
       " 'Training_81635822.jpg',\n",
       " 'Training_18219531.jpg',\n",
       " 'Training_8764085.jpg',\n",
       " 'Training_1534315.jpg',\n",
       " 'Training_35944873.jpg',\n",
       " 'Training_30471447.jpg',\n",
       " 'Training_37480357.jpg',\n",
       " 'Training_31364104.jpg',\n",
       " 'Training_22039397.jpg',\n",
       " 'Training_3945046.jpg',\n",
       " 'Training_34978535.jpg',\n",
       " 'Training_72953480.jpg',\n",
       " 'Training_24210427.jpg',\n",
       " 'Training_49727699.jpg',\n",
       " 'Training_76895722.jpg',\n",
       " 'Training_73148291.jpg',\n",
       " 'Training_53117640.jpg',\n",
       " 'Training_3601553.jpg',\n",
       " 'Training_4780941.jpg',\n",
       " 'Training_35695824.jpg',\n",
       " 'Training_80976958.jpg',\n",
       " 'Training_93355857.jpg',\n",
       " 'Training_64702531.jpg',\n",
       " 'Training_89686561.jpg',\n",
       " 'Training_89795509.jpg',\n",
       " 'Training_31705730.jpg',\n",
       " 'Training_14399797.jpg',\n",
       " 'Training_42529557.jpg',\n",
       " 'Training_30337890.jpg',\n",
       " 'Training_39767783.jpg',\n",
       " 'Training_30731743.jpg',\n",
       " 'Training_28099812.jpg',\n",
       " 'Training_23734703.jpg',\n",
       " 'Training_2081591.jpg',\n",
       " 'Training_89270955.jpg',\n",
       " 'Training_51002390.jpg',\n",
       " 'Training_98565856.jpg',\n",
       " 'Training_20343576.jpg',\n",
       " 'Training_25899060.jpg',\n",
       " 'Training_5615130.jpg',\n",
       " 'Training_82660355.jpg',\n",
       " 'Training_78745676.jpg',\n",
       " 'Training_27473649.jpg',\n",
       " 'Training_90665996.jpg',\n",
       " 'Training_59953801.jpg',\n",
       " 'Training_12216843.jpg',\n",
       " 'Training_26725211.jpg',\n",
       " 'Training_19843851.jpg',\n",
       " 'Training_24212027.jpg',\n",
       " 'Training_41057276.jpg',\n",
       " 'Training_42135809.jpg',\n",
       " 'Training_52020878.jpg',\n",
       " 'Training_89091722.jpg',\n",
       " 'Training_14918881.jpg',\n",
       " 'Training_76528373.jpg',\n",
       " 'Training_51611438.jpg',\n",
       " 'Training_27913087.jpg',\n",
       " 'Training_364963.jpg',\n",
       " 'Training_15351749.jpg',\n",
       " 'Training_65700594.jpg',\n",
       " 'Training_17201713.jpg',\n",
       " 'Training_17796854.jpg',\n",
       " 'Training_46696601.jpg',\n",
       " 'Training_56328770.jpg',\n",
       " 'Training_73139864.jpg',\n",
       " 'Training_27165790.jpg',\n",
       " 'Training_93888957.jpg',\n",
       " 'Training_68819420.jpg',\n",
       " 'Training_42203456.jpg',\n",
       " 'Training_65978744.jpg',\n",
       " 'Training_8240676.jpg',\n",
       " 'Training_68597684.jpg',\n",
       " 'Training_7139588.jpg',\n",
       " 'Training_96520454.jpg',\n",
       " 'Training_27705571.jpg',\n",
       " 'Training_68784132.jpg',\n",
       " 'Training_53784931.jpg',\n",
       " 'Training_96310900.jpg',\n",
       " 'Training_78162290.jpg',\n",
       " 'Training_72845195.jpg',\n",
       " 'Training_90745717.jpg',\n",
       " 'Training_50609770.jpg',\n",
       " 'Training_11175213.jpg',\n",
       " 'Training_53557482.jpg',\n",
       " 'Training_58232441.jpg',\n",
       " 'Training_41780173.jpg',\n",
       " 'Training_98956544.jpg',\n",
       " 'Training_77885235.jpg',\n",
       " 'Training_15361067.jpg',\n",
       " 'Training_15498699.jpg',\n",
       " 'Training_50437183.jpg',\n",
       " 'Training_76241015.jpg',\n",
       " 'Training_20614593.jpg',\n",
       " 'Training_64320822.jpg',\n",
       " 'Training_74024702.jpg',\n",
       " 'Training_28519605.jpg',\n",
       " 'Training_15496677.jpg',\n",
       " 'Training_57889082.jpg',\n",
       " 'Training_48907456.jpg',\n",
       " 'Training_49475760.jpg',\n",
       " 'Training_77407481.jpg',\n",
       " 'Training_70351349.jpg',\n",
       " 'Training_94975276.jpg',\n",
       " 'Training_52828086.jpg',\n",
       " 'Training_7928172.jpg',\n",
       " 'Training_32821877.jpg',\n",
       " 'Training_96772745.jpg',\n",
       " 'Training_97898490.jpg',\n",
       " 'Training_46828657.jpg',\n",
       " 'Training_3703219.jpg',\n",
       " 'Training_52504873.jpg',\n",
       " 'Training_61773462.jpg',\n",
       " 'Training_32741556.jpg',\n",
       " 'Training_74335310.jpg',\n",
       " 'Training_51379605.jpg',\n",
       " 'Training_35519736.jpg',\n",
       " 'Training_70728333.jpg',\n",
       " 'Training_50797170.jpg',\n",
       " 'Training_32705300.jpg',\n",
       " 'Training_84528806.jpg',\n",
       " 'Training_38308488.jpg',\n",
       " 'Training_46501880.jpg',\n",
       " 'Training_73701597.jpg',\n",
       " 'Training_56302589.jpg',\n",
       " 'Training_88063272.jpg',\n",
       " 'Training_52563817.jpg',\n",
       " 'Training_44044013.jpg',\n",
       " 'Training_60264995.jpg',\n",
       " 'Training_62232414.jpg',\n",
       " 'Training_98000381.jpg',\n",
       " 'Training_85377243.jpg',\n",
       " 'Training_32639374.jpg',\n",
       " 'Training_78614565.jpg',\n",
       " 'Training_60376349.jpg',\n",
       " 'Training_80419679.jpg',\n",
       " 'Training_23240301.jpg',\n",
       " 'Training_77230089.jpg',\n",
       " 'Training_77965100.jpg',\n",
       " 'Training_15311033.jpg',\n",
       " 'Training_435383.jpg',\n",
       " 'Training_74201076.jpg',\n",
       " 'Training_99547128.jpg',\n",
       " 'Training_10422050.jpg',\n",
       " 'Training_86560742.jpg',\n",
       " 'Training_34917726.jpg',\n",
       " 'Training_96279434.jpg',\n",
       " 'Training_6236670.jpg',\n",
       " 'Training_50976988.jpg',\n",
       " 'Training_64297450.jpg',\n",
       " 'Training_1741870.jpg',\n",
       " 'Training_38969663.jpg',\n",
       " 'Training_55557287.jpg',\n",
       " 'Training_25381827.jpg',\n",
       " 'Training_27263765.jpg',\n",
       " 'Training_28297061.jpg',\n",
       " 'Training_90231701.jpg',\n",
       " 'Training_73316542.jpg',\n",
       " 'Training_53902556.jpg',\n",
       " 'Training_4189496.jpg',\n",
       " 'Training_25396368.jpg',\n",
       " 'Training_56085499.jpg',\n",
       " 'Training_12974019.jpg',\n",
       " 'Training_51338649.jpg',\n",
       " 'Training_95873270.jpg',\n",
       " 'Training_88788715.jpg',\n",
       " 'Training_74370648.jpg',\n",
       " 'Training_35926639.jpg',\n",
       " 'Training_16084063.jpg',\n",
       " 'Training_20628939.jpg',\n",
       " 'Training_3514915.jpg',\n",
       " 'Training_36466893.jpg',\n",
       " 'Training_80724752.jpg',\n",
       " 'Training_55534250.jpg',\n",
       " 'Training_63886658.jpg',\n",
       " 'Training_41244301.jpg',\n",
       " 'Training_65772714.jpg',\n",
       " 'Training_82588523.jpg',\n",
       " 'Training_79051417.jpg',\n",
       " 'Training_91865442.jpg',\n",
       " 'Training_35937287.jpg',\n",
       " 'Training_5016510.jpg',\n",
       " 'Training_84273122.jpg',\n",
       " 'Training_90271872.jpg',\n",
       " 'Training_80285343.jpg',\n",
       " 'Training_48839755.jpg',\n",
       " 'Training_28667373.jpg',\n",
       " 'Training_65866393.jpg',\n",
       " 'Training_1854333.jpg',\n",
       " 'Training_71327482.jpg',\n",
       " 'Training_65103407.jpg',\n",
       " 'Training_72910812.jpg',\n",
       " 'Training_25510140.jpg',\n",
       " 'Training_99667913.jpg',\n",
       " 'Training_74453786.jpg',\n",
       " 'Training_36143827.jpg',\n",
       " 'Training_8899662.jpg',\n",
       " 'Training_98565517.jpg',\n",
       " 'Training_23785053.jpg',\n",
       " 'Training_22007903.jpg',\n",
       " 'Training_28633118.jpg',\n",
       " 'Training_61879181.jpg',\n",
       " 'Training_94409693.jpg',\n",
       " 'Training_47945437.jpg',\n",
       " 'Training_95827594.jpg',\n",
       " 'Training_92079543.jpg',\n",
       " 'Training_8475486.jpg',\n",
       " 'Training_98547173.jpg',\n",
       " 'Training_49351700.jpg',\n",
       " 'Training_20870568.jpg',\n",
       " 'Training_51228089.jpg',\n",
       " 'Training_66238780.jpg',\n",
       " 'Training_51702497.jpg',\n",
       " 'Training_90246614.jpg',\n",
       " 'Training_65844913.jpg',\n",
       " 'Training_52284633.jpg',\n",
       " 'Training_29641857.jpg',\n",
       " 'Training_51377214.jpg',\n",
       " 'Training_95918957.jpg',\n",
       " 'Training_68846875.jpg',\n",
       " 'Training_36495674.jpg',\n",
       " 'Training_41869284.jpg',\n",
       " 'Training_54232828.jpg',\n",
       " 'Training_87448734.jpg',\n",
       " 'Training_94245173.jpg',\n",
       " 'Training_39616340.jpg',\n",
       " 'Training_74337661.jpg',\n",
       " 'Training_77747421.jpg',\n",
       " 'Training_81289095.jpg',\n",
       " 'Training_4975319.jpg',\n",
       " 'Training_39394836.jpg',\n",
       " 'Training_98612653.jpg',\n",
       " 'Training_63920666.jpg',\n",
       " 'Training_22833016.jpg',\n",
       " 'Training_24306297.jpg',\n",
       " 'Training_20317679.jpg',\n",
       " 'Training_63918104.jpg',\n",
       " 'Training_97883881.jpg',\n",
       " 'Training_80034450.jpg',\n",
       " 'Training_58952832.jpg',\n",
       " 'Training_36795431.jpg',\n",
       " 'Training_80482515.jpg',\n",
       " 'Training_21078661.jpg',\n",
       " 'Training_90798162.jpg',\n",
       " 'Training_83680167.jpg',\n",
       " 'Training_15458095.jpg',\n",
       " 'Training_4537951.jpg',\n",
       " 'Training_51535718.jpg',\n",
       " 'Training_11206889.jpg',\n",
       " 'Training_3598867.jpg',\n",
       " 'Training_96970361.jpg',\n",
       " 'Training_24553032.jpg',\n",
       " 'Training_73441735.jpg',\n",
       " 'Training_9316292.jpg',\n",
       " 'Training_87246740.jpg',\n",
       " 'Training_37173005.jpg',\n",
       " 'Training_35092482.jpg',\n",
       " 'Training_32295480.jpg',\n",
       " 'Training_7866351.jpg',\n",
       " 'Training_31625396.jpg',\n",
       " 'Training_24409466.jpg',\n",
       " 'Training_51810677.jpg',\n",
       " 'Training_39889509.jpg',\n",
       " 'Training_65419284.jpg',\n",
       " 'Training_37408641.jpg',\n",
       " 'Training_63722125.jpg',\n",
       " 'Training_5924068.jpg',\n",
       " 'Training_49434117.jpg',\n",
       " 'Training_11478843.jpg',\n",
       " 'Training_7647963.jpg',\n",
       " 'Training_84261686.jpg',\n",
       " 'Training_94843851.jpg',\n",
       " 'Training_39536203.jpg',\n",
       " 'Training_13782684.jpg',\n",
       " 'Training_80806504.jpg',\n",
       " 'Training_97821212.jpg',\n",
       " 'Training_992349.jpg',\n",
       " 'Training_2832685.jpg',\n",
       " 'Training_51319902.jpg',\n",
       " 'Training_10295477.jpg',\n",
       " 'Training_29054231.jpg',\n",
       " 'Training_66292595.jpg',\n",
       " 'Training_46676243.jpg',\n",
       " 'Training_17861397.jpg',\n",
       " 'Training_64773483.jpg',\n",
       " 'Training_36760136.jpg',\n",
       " 'Training_45215094.jpg',\n",
       " 'Training_29384255.jpg',\n",
       " 'Training_67906196.jpg',\n",
       " 'Training_58040491.jpg',\n",
       " 'Training_36600629.jpg',\n",
       " 'Training_99633760.jpg',\n",
       " 'Training_84313589.jpg',\n",
       " 'Training_17871635.jpg',\n",
       " 'Training_29828989.jpg',\n",
       " 'Training_54751348.jpg',\n",
       " 'Training_14227929.jpg',\n",
       " 'Training_40062320.jpg',\n",
       " 'Training_12407292.jpg',\n",
       " 'Training_9357218.jpg',\n",
       " 'Training_53714328.jpg',\n",
       " 'Training_6452225.jpg',\n",
       " 'Training_39520111.jpg',\n",
       " 'Training_64809520.jpg',\n",
       " 'Training_5099181.jpg',\n",
       " 'Training_74109722.jpg',\n",
       " 'Training_86484994.jpg',\n",
       " 'Training_72892964.jpg',\n",
       " 'Training_39007771.jpg',\n",
       " 'Training_35952595.jpg',\n",
       " 'Training_84305894.jpg',\n",
       " 'Training_34606810.jpg',\n",
       " 'Training_96313559.jpg',\n",
       " 'Training_64805326.jpg',\n",
       " 'Training_98524402.jpg',\n",
       " 'Training_15127879.jpg',\n",
       " 'Training_55732049.jpg',\n",
       " 'Training_74146784.jpg',\n",
       " 'Training_16765414.jpg',\n",
       " 'Training_4196158.jpg',\n",
       " 'Training_67465286.jpg',\n",
       " 'Training_29336183.jpg',\n",
       " 'Training_71105711.jpg',\n",
       " 'Training_43064995.jpg',\n",
       " 'Training_17902383.jpg',\n",
       " 'Training_73056256.jpg',\n",
       " 'Training_24625492.jpg',\n",
       " 'Training_8092955.jpg',\n",
       " 'Training_54578574.jpg',\n",
       " 'Training_83744483.jpg',\n",
       " 'Training_7213486.jpg',\n",
       " 'Training_64620568.jpg',\n",
       " 'Training_5230340.jpg',\n",
       " 'Training_1797833.jpg',\n",
       " 'Training_86531929.jpg',\n",
       " 'Training_20952119.jpg',\n",
       " 'Training_76749650.jpg',\n",
       " 'Training_38961941.jpg',\n",
       " 'Training_46853948.jpg',\n",
       " 'Training_50385584.jpg',\n",
       " 'Training_35227874.jpg',\n",
       " 'Training_93158048.jpg',\n",
       " 'Training_89114103.jpg',\n",
       " 'Training_75516680.jpg',\n",
       " 'Training_14530363.jpg',\n",
       " 'Training_7584402.jpg',\n",
       " 'Training_82090617.jpg',\n",
       " 'Training_25693582.jpg',\n",
       " 'Training_22255187.jpg',\n",
       " 'Training_83967723.jpg',\n",
       " 'Training_79279322.jpg',\n",
       " 'Training_86431040.jpg',\n",
       " 'Training_72428050.jpg',\n",
       " 'Training_233976.jpg',\n",
       " 'Training_97799153.jpg',\n",
       " 'Training_19060950.jpg',\n",
       " 'Training_34350902.jpg',\n",
       " 'Training_65635338.jpg',\n",
       " 'Training_48000797.jpg',\n",
       " 'Training_80830471.jpg',\n",
       " 'Training_78644633.jpg',\n",
       " 'Training_36910355.jpg',\n",
       " 'Training_58757567.jpg',\n",
       " 'Training_76603229.jpg',\n",
       " 'Training_88371146.jpg',\n",
       " 'Training_38783891.jpg',\n",
       " 'Training_88233361.jpg',\n",
       " 'Training_47954856.jpg',\n",
       " 'Training_94921622.jpg',\n",
       " 'Training_36937259.jpg',\n",
       " 'Training_93683601.jpg',\n",
       " 'Training_77700353.jpg',\n",
       " 'Training_3184672.jpg',\n",
       " 'Training_23087152.jpg',\n",
       " 'Training_94049486.jpg',\n",
       " 'Training_62720547.jpg',\n",
       " 'Training_22407840.jpg',\n",
       " 'Training_79804916.jpg',\n",
       " 'Training_5344760.jpg',\n",
       " 'Training_95585807.jpg',\n",
       " 'Training_175233.jpg',\n",
       " 'Training_26681159.jpg',\n",
       " 'Training_7039189.jpg',\n",
       " 'Training_78725795.jpg',\n",
       " 'Training_38864434.jpg',\n",
       " 'Training_63914663.jpg',\n",
       " 'Training_61974936.jpg',\n",
       " 'Training_91403171.jpg',\n",
       " 'Training_37858560.jpg',\n",
       " 'Training_99305179.jpg',\n",
       " 'Training_83671996.jpg',\n",
       " 'Training_76878533.jpg',\n",
       " 'Training_84166964.jpg',\n",
       " 'Training_22070624.jpg',\n",
       " 'Training_30943681.jpg',\n",
       " 'Training_6799271.jpg',\n",
       " 'Training_47349966.jpg',\n",
       " 'Training_36585909.jpg',\n",
       " 'Training_18679815.jpg',\n",
       " 'Training_37957889.jpg',\n",
       " 'Training_51484503.jpg',\n",
       " 'Training_10899258.jpg',\n",
       " 'Training_69980073.jpg',\n",
       " 'Training_46729816.jpg',\n",
       " 'Training_43485342.jpg',\n",
       " 'Training_2245342.jpg',\n",
       " 'Training_97448968.jpg',\n",
       " 'Training_18699711.jpg',\n",
       " 'Training_39909256.jpg',\n",
       " 'Training_29410080.jpg',\n",
       " 'Training_11860503.jpg',\n",
       " 'Training_95812869.jpg',\n",
       " 'Training_23272363.jpg',\n",
       " 'Training_64957700.jpg',\n",
       " 'Training_68366970.jpg',\n",
       " 'Training_15469459.jpg',\n",
       " 'Training_69860150.jpg',\n",
       " 'Training_52654745.jpg',\n",
       " 'Training_76437888.jpg',\n",
       " 'Training_86680180.jpg',\n",
       " 'Training_98895078.jpg',\n",
       " 'Training_13919685.jpg',\n",
       " 'Training_54890912.jpg',\n",
       " 'Training_92923391.jpg',\n",
       " 'Training_18384206.jpg',\n",
       " 'Training_86407057.jpg',\n",
       " 'Training_22825924.jpg',\n",
       " 'Training_1779888.jpg',\n",
       " 'Training_97328753.jpg',\n",
       " 'Training_57057434.jpg',\n",
       " 'Training_80974557.jpg',\n",
       " 'Training_40818838.jpg',\n",
       " 'Training_47408977.jpg',\n",
       " 'Training_40052197.jpg',\n",
       " 'Training_64881187.jpg',\n",
       " 'Training_39209137.jpg',\n",
       " 'Training_7548793.jpg',\n",
       " 'Training_7850555.jpg',\n",
       " 'Training_91228393.jpg',\n",
       " 'Training_38771608.jpg',\n",
       " 'Training_90498244.jpg',\n",
       " 'Training_65020222.jpg',\n",
       " 'Training_35543832.jpg',\n",
       " 'Training_20835143.jpg',\n",
       " 'Training_49566280.jpg',\n",
       " 'Training_84052157.jpg',\n",
       " 'Training_54273056.jpg',\n",
       " 'Training_85047673.jpg',\n",
       " 'Training_67046912.jpg',\n",
       " 'Training_14621559.jpg',\n",
       " 'Training_11666027.jpg',\n",
       " 'Training_44237297.jpg',\n",
       " 'Training_49227078.jpg',\n",
       " 'Training_44639059.jpg',\n",
       " 'Training_28275568.jpg',\n",
       " 'Training_65652362.jpg',\n",
       " 'Training_5500179.jpg',\n",
       " 'Training_47869727.jpg',\n",
       " 'Training_54933277.jpg',\n",
       " 'Training_35638545.jpg',\n",
       " 'Training_16526420.jpg',\n",
       " 'Training_19259158.jpg',\n",
       " 'Training_21706252.jpg',\n",
       " 'Training_66803716.jpg',\n",
       " 'Training_84317470.jpg',\n",
       " 'Training_44830316.jpg',\n",
       " 'Training_23633484.jpg',\n",
       " 'Training_95575116.jpg',\n",
       " 'Training_35051145.jpg',\n",
       " 'Training_93122651.jpg',\n",
       " 'Training_43390138.jpg',\n",
       " 'Training_96869394.jpg',\n",
       " 'Training_96072860.jpg',\n",
       " 'Training_31344013.jpg',\n",
       " 'Training_61705108.jpg',\n",
       " 'Training_44104008.jpg',\n",
       " 'Training_25605469.jpg',\n",
       " 'Training_28589417.jpg',\n",
       " 'Training_13976691.jpg',\n",
       " 'Training_4296848.jpg',\n",
       " 'Training_81177327.jpg',\n",
       " 'Training_12383687.jpg',\n",
       " 'Training_56235068.jpg',\n",
       " 'Training_65348734.jpg',\n",
       " 'Training_60894860.jpg',\n",
       " 'Training_15272626.jpg',\n",
       " 'Training_88933837.jpg',\n",
       " 'Training_95558047.jpg',\n",
       " 'Training_95209047.jpg',\n",
       " 'Training_81569305.jpg',\n",
       " 'Training_12006812.jpg',\n",
       " 'Training_61652087.jpg',\n",
       " 'Training_41766585.jpg',\n",
       " 'Training_7232489.jpg',\n",
       " 'Training_52193451.jpg',\n",
       " 'Training_54747919.jpg',\n",
       " 'Training_73207712.jpg',\n",
       " 'Training_20106254.jpg',\n",
       " 'Training_37403500.jpg',\n",
       " 'Training_58113578.jpg',\n",
       " 'Training_75513329.jpg',\n",
       " 'Training_32138342.jpg',\n",
       " 'Training_59500155.jpg',\n",
       " 'Training_65546768.jpg',\n",
       " 'Training_73494876.jpg',\n",
       " 'Training_53123534.jpg',\n",
       " 'Training_24567425.jpg',\n",
       " 'Training_92541764.jpg',\n",
       " 'Training_35261572.jpg',\n",
       " 'Training_92166104.jpg',\n",
       " 'Training_8513502.jpg',\n",
       " 'Training_12775696.jpg',\n",
       " 'Training_15462493.jpg',\n",
       " 'Training_75874075.jpg',\n",
       " 'Training_96165688.jpg',\n",
       " 'Training_2778426.jpg',\n",
       " 'Training_56467777.jpg',\n",
       " 'Training_82666051.jpg',\n",
       " 'Training_63560409.jpg',\n",
       " 'Training_47220126.jpg',\n",
       " 'Training_25282295.jpg',\n",
       " 'Training_95073545.jpg',\n",
       " 'Training_42237509.jpg',\n",
       " 'Training_80946888.jpg',\n",
       " 'Training_26564782.jpg',\n",
       " 'Training_39230417.jpg',\n",
       " 'Training_53571720.jpg',\n",
       " 'Training_90586495.jpg',\n",
       " 'Training_89154121.jpg',\n",
       " 'Training_43089638.jpg',\n",
       " 'Training_85448416.jpg',\n",
       " 'Training_2729866.jpg',\n",
       " 'Training_53987417.jpg',\n",
       " 'Training_25413066.jpg',\n",
       " 'Training_84789870.jpg',\n",
       " 'Training_43697890.jpg',\n",
       " 'Training_83142725.jpg',\n",
       " 'Training_54303163.jpg',\n",
       " 'Training_71314314.jpg',\n",
       " 'Training_23159017.jpg',\n",
       " 'Training_10131352.jpg',\n",
       " 'Training_63137016.jpg',\n",
       " 'Training_66405499.jpg',\n",
       " 'Training_56766407.jpg',\n",
       " 'Training_72290578.jpg',\n",
       " 'Training_13081843.jpg',\n",
       " 'Training_6478197.jpg',\n",
       " 'Training_21574245.jpg',\n",
       " 'Training_71385343.jpg',\n",
       " 'Training_10161559.jpg',\n",
       " 'Training_80694454.jpg',\n",
       " 'Training_82094076.jpg',\n",
       " 'Training_14054767.jpg',\n",
       " 'Training_29857623.jpg',\n",
       " 'Training_3645316.jpg',\n",
       " 'Training_56789171.jpg',\n",
       " 'Training_31835561.jpg',\n",
       " 'Training_87601167.jpg',\n",
       " 'Training_70504908.jpg',\n",
       " 'Training_19605770.jpg',\n",
       " 'Training_57799077.jpg',\n",
       " 'Training_21931435.jpg',\n",
       " 'Training_98381033.jpg',\n",
       " 'Training_46369632.jpg',\n",
       " 'Training_36936795.jpg',\n",
       " 'Training_65219022.jpg',\n",
       " 'Training_64754567.jpg',\n",
       " 'Training_96383161.jpg',\n",
       " 'Training_33837916.jpg',\n",
       " 'Training_36367693.jpg',\n",
       " 'Training_45938264.jpg',\n",
       " 'Training_95244608.jpg',\n",
       " 'Training_60374809.jpg',\n",
       " 'Training_4348648.jpg',\n",
       " 'Training_72929129.jpg',\n",
       " 'Training_32769196.jpg',\n",
       " 'Training_48651623.jpg',\n",
       " 'Training_40016111.jpg',\n",
       " 'Training_3261533.jpg',\n",
       " 'Training_39805082.jpg',\n",
       " 'Training_64515232.jpg',\n",
       " 'Training_49490477.jpg',\n",
       " 'Training_16052786.jpg',\n",
       " 'Training_35386854.jpg',\n",
       " 'Training_34668853.jpg',\n",
       " 'Training_24687742.jpg',\n",
       " 'Training_25376117.jpg',\n",
       " 'Training_13659242.jpg',\n",
       " 'Training_64169442.jpg',\n",
       " 'Training_10333072.jpg',\n",
       " 'Training_4154554.jpg',\n",
       " 'Training_54878698.jpg',\n",
       " 'Training_20583731.jpg',\n",
       " 'Training_97311919.jpg',\n",
       " 'Training_98638872.jpg',\n",
       " 'Training_10882484.jpg',\n",
       " 'Training_99762841.jpg',\n",
       " 'Training_68696493.jpg',\n",
       " 'Training_40193053.jpg',\n",
       " 'Training_15848209.jpg',\n",
       " 'Training_67264539.jpg',\n",
       " 'Training_67053339.jpg',\n",
       " 'Training_77494953.jpg',\n",
       " 'Training_78392730.jpg',\n",
       " 'Training_51146675.jpg',\n",
       " 'Training_94314538.jpg',\n",
       " 'Training_18775545.jpg',\n",
       " 'Training_14976970.jpg',\n",
       " 'Training_91200387.jpg',\n",
       " 'Training_13325591.jpg',\n",
       " 'Training_13994952.jpg',\n",
       " 'Training_66943482.jpg',\n",
       " 'Training_19426501.jpg',\n",
       " 'Training_27576455.jpg',\n",
       " 'Training_8122893.jpg',\n",
       " 'Training_94116368.jpg',\n",
       " 'Training_21623038.jpg',\n",
       " 'Training_45374079.jpg',\n",
       " 'Training_22855971.jpg',\n",
       " 'Training_7778825.jpg',\n",
       " 'Training_71414588.jpg',\n",
       " 'Training_65813083.jpg',\n",
       " 'Training_48442778.jpg',\n",
       " 'Training_2861619.jpg',\n",
       " 'Training_32873448.jpg',\n",
       " 'Training_84359093.jpg',\n",
       " 'Training_73677822.jpg',\n",
       " 'Training_95486699.jpg',\n",
       " 'Training_28670157.jpg',\n",
       " 'Training_88504568.jpg',\n",
       " 'Training_36279917.jpg',\n",
       " 'Training_93373048.jpg',\n",
       " 'Training_2323777.jpg',\n",
       " 'Training_99098778.jpg',\n",
       " 'Training_88657413.jpg',\n",
       " 'Training_38998897.jpg',\n",
       " 'Training_67844205.jpg',\n",
       " 'Training_81195994.jpg',\n",
       " 'Training_9428051.jpg',\n",
       " 'Training_45216401.jpg',\n",
       " 'Training_23900654.jpg',\n",
       " 'Training_89563369.jpg',\n",
       " 'Training_82655511.jpg',\n",
       " 'Training_15058314.jpg',\n",
       " 'Training_90648037.jpg',\n",
       " 'Training_47532195.jpg',\n",
       " 'Training_18926048.jpg',\n",
       " 'Training_83642350.jpg',\n",
       " 'Training_61150757.jpg',\n",
       " 'Training_26424238.jpg',\n",
       " ...]"
      ]
     },
     "execution_count": 5,
     "metadata": {},
     "output_type": "execute_result"
    }
   ],
   "source": [
    "allimages"
   ]
  },
  {
   "cell_type": "code",
   "execution_count": 6,
   "id": "3bb0d8ab",
   "metadata": {},
   "outputs": [],
   "source": [
    "dataset = []\n",
    "labels = []"
   ]
  },
  {
   "cell_type": "code",
   "execution_count": 7,
   "id": "1fd4a126",
   "metadata": {},
   "outputs": [
    {
     "data": {
      "text/plain": [
       "0"
      ]
     },
     "execution_count": 7,
     "metadata": {},
     "output_type": "execute_result"
    }
   ],
   "source": [
    "len(dataset)"
   ]
  },
  {
   "cell_type": "code",
   "execution_count": 8,
   "id": "5841147f",
   "metadata": {},
   "outputs": [
    {
     "data": {
      "text/plain": [
       "0"
      ]
     },
     "execution_count": 8,
     "metadata": {},
     "output_type": "execute_result"
    }
   ],
   "source": [
    "len(labels)"
   ]
  },
  {
   "cell_type": "code",
   "execution_count": 9,
   "id": "e0c97caf",
   "metadata": {},
   "outputs": [],
   "source": [
    "from tensorflow.keras.preprocessing.image import img_to_array"
   ]
  },
  {
   "cell_type": "markdown",
   "id": "edddd6a3",
   "metadata": {},
   "source": [
    "## Angry-0"
   ]
  },
  {
   "cell_type": "code",
   "execution_count": 10,
   "id": "cc9ae8f1",
   "metadata": {},
   "outputs": [],
   "source": [
    "# for img in allimages:\n",
    "#     pic = cv2.imread(imgpath + 'angry/' + img)\n",
    "#     print(pic.shape)\n",
    "#     print(pic.dtype)\n",
    "#     print(\"*********************************\")\n",
    "#     pic = cv2.resize(pic,(48,48))\n",
    "#     pic =   img_to_array(pic)\n",
    "#     print(pic.shape)\n",
    "#     print(pic.dtype)"
   ]
  },
  {
   "cell_type": "code",
   "execution_count": 11,
   "id": "60f54203",
   "metadata": {},
   "outputs": [
    {
     "name": "stdout",
     "output_type": "stream",
     "text": [
      "Done\n"
     ]
    }
   ],
   "source": [
    "for img in allimages:\n",
    "    pic = cv2.imread(imgpath + 'angry/' + img)\n",
    "    pic = cv2.resize(pic,(48,48))\n",
    "    pic = img_to_array(pic)\n",
    "    dataset.append(pic)\n",
    "    labels.append(0)\n",
    "print(\"Done\")"
   ]
  },
  {
   "cell_type": "code",
   "execution_count": 12,
   "id": "2e61c72f",
   "metadata": {},
   "outputs": [
    {
     "name": "stdout",
     "output_type": "stream",
     "text": [
      "3995\n",
      "3995\n"
     ]
    }
   ],
   "source": [
    "print(len(dataset))\n",
    "print(len(labels))"
   ]
  },
  {
   "cell_type": "markdown",
   "id": "1919a6f2",
   "metadata": {},
   "source": [
    "## Disgust-1"
   ]
  },
  {
   "cell_type": "code",
   "execution_count": 13,
   "id": "66eb927b",
   "metadata": {},
   "outputs": [],
   "source": [
    "allimages = os.listdir(imgpath + 'disgust/')"
   ]
  },
  {
   "cell_type": "code",
   "execution_count": 14,
   "id": "7b748c02",
   "metadata": {},
   "outputs": [
    {
     "data": {
      "text/plain": [
       "436"
      ]
     },
     "execution_count": 14,
     "metadata": {},
     "output_type": "execute_result"
    }
   ],
   "source": [
    "len(allimages)"
   ]
  },
  {
   "cell_type": "code",
   "execution_count": 15,
   "id": "66743201",
   "metadata": {},
   "outputs": [
    {
     "name": "stdout",
     "output_type": "stream",
     "text": [
      "Done\n"
     ]
    }
   ],
   "source": [
    "for img in allimages:\n",
    "    pic = cv2.imread(imgpath + 'disgust/' + img)\n",
    "    pic = cv2.resize(pic,(48,48))\n",
    "    pic = img_to_array(pic)\n",
    "    dataset.append(pic)\n",
    "    labels.append(1)\n",
    "print(\"Done\")"
   ]
  },
  {
   "cell_type": "code",
   "execution_count": 16,
   "id": "5fff57d2",
   "metadata": {},
   "outputs": [
    {
     "name": "stdout",
     "output_type": "stream",
     "text": [
      "4431\n",
      "4431\n"
     ]
    }
   ],
   "source": [
    "print(len(dataset))\n",
    "print(len(labels)) "
   ]
  },
  {
   "cell_type": "markdown",
   "id": "99558ff9",
   "metadata": {},
   "source": [
    "## Fear-2"
   ]
  },
  {
   "cell_type": "code",
   "execution_count": 17,
   "id": "52630c66",
   "metadata": {},
   "outputs": [
    {
     "name": "stdout",
     "output_type": "stream",
     "text": [
      "Done\n",
      "8528\n",
      "8528\n"
     ]
    }
   ],
   "source": [
    "allimages = os.listdir(imgpath + 'fear/')\n",
    "len(allimages)\n",
    "for img in allimages:\n",
    "    pic = cv2.imread(imgpath + 'fear/' + img)\n",
    "    pic = cv2.resize(pic,(48,48))\n",
    "    pic = img_to_array(pic)\n",
    "    dataset.append(pic)\n",
    "    labels.append(2)\n",
    "print(\"Done\")\n",
    "print(len(dataset))\n",
    "print(len(labels))"
   ]
  },
  {
   "cell_type": "code",
   "execution_count": 18,
   "id": "7b38acd2",
   "metadata": {},
   "outputs": [
    {
     "data": {
      "text/plain": [
       "array([0, 1, 2])"
      ]
     },
     "execution_count": 18,
     "metadata": {},
     "output_type": "execute_result"
    }
   ],
   "source": [
    "pd.DataFrame(labels)[0].unique()"
   ]
  },
  {
   "cell_type": "markdown",
   "id": "6e26d2ab",
   "metadata": {},
   "source": [
    "## Happy -3"
   ]
  },
  {
   "cell_type": "code",
   "execution_count": 19,
   "id": "97a1395c",
   "metadata": {},
   "outputs": [
    {
     "name": "stdout",
     "output_type": "stream",
     "text": [
      "Done\n",
      "15743\n",
      "15743\n"
     ]
    }
   ],
   "source": [
    "allimages = os.listdir(imgpath + 'happy/')\n",
    "len(allimages)\n",
    "for img in allimages:\n",
    "    pic = cv2.imread(imgpath + 'happy/' + img)\n",
    "    pic = cv2.resize(pic,(48,48))\n",
    "    pic = img_to_array(pic)\n",
    "    dataset.append(pic)\n",
    "    labels.append(3)\n",
    "print(\"Done\")\n",
    "print(len(dataset))\n",
    "print(len(labels))"
   ]
  },
  {
   "cell_type": "code",
   "execution_count": 20,
   "id": "a9080d5c",
   "metadata": {},
   "outputs": [
    {
     "data": {
      "text/plain": [
       "array([0, 1, 2, 3])"
      ]
     },
     "execution_count": 20,
     "metadata": {},
     "output_type": "execute_result"
    }
   ],
   "source": [
    "pd.DataFrame(labels)[0].unique()"
   ]
  },
  {
   "cell_type": "markdown",
   "id": "0df241a8",
   "metadata": {},
   "source": [
    "## Neutral-4"
   ]
  },
  {
   "cell_type": "code",
   "execution_count": 21,
   "id": "c18b553e",
   "metadata": {},
   "outputs": [
    {
     "name": "stdout",
     "output_type": "stream",
     "text": [
      "Done\n",
      "20708\n",
      "20708\n"
     ]
    }
   ],
   "source": [
    "allimages = os.listdir(imgpath + 'neutral/')\n",
    "len(allimages)\n",
    "for img in allimages:\n",
    "    pic = cv2.imread(imgpath + 'neutral/' + img)\n",
    "    pic = cv2.resize(pic,(48,48))\n",
    "    pic = img_to_array(pic)\n",
    "    dataset.append(pic)\n",
    "    labels.append(4)\n",
    "print(\"Done\")\n",
    "print(len(dataset))\n",
    "print(len(labels))"
   ]
  },
  {
   "cell_type": "code",
   "execution_count": 22,
   "id": "50e588a4",
   "metadata": {},
   "outputs": [
    {
     "data": {
      "text/plain": [
       "array([0, 1, 2, 3, 4])"
      ]
     },
     "execution_count": 22,
     "metadata": {},
     "output_type": "execute_result"
    }
   ],
   "source": [
    "pd.DataFrame(labels)[0].unique()"
   ]
  },
  {
   "cell_type": "markdown",
   "id": "9bf24369",
   "metadata": {},
   "source": [
    "## Sad - 5"
   ]
  },
  {
   "cell_type": "code",
   "execution_count": 23,
   "id": "2ba1a2b1",
   "metadata": {},
   "outputs": [
    {
     "name": "stdout",
     "output_type": "stream",
     "text": [
      "Done\n",
      "25538\n",
      "25538\n"
     ]
    }
   ],
   "source": [
    "allimages = os.listdir(imgpath + 'sad/')\n",
    "len(allimages)\n",
    "for img in allimages:\n",
    "    pic = cv2.imread(imgpath + 'sad/' + img)\n",
    "    pic = cv2.resize(pic,(48,48))\n",
    "    pic = img_to_array(pic)\n",
    "    dataset.append(pic)\n",
    "    labels.append(5)\n",
    "print(\"Done\")\n",
    "print(len(dataset))\n",
    "print(len(labels))"
   ]
  },
  {
   "cell_type": "code",
   "execution_count": 24,
   "id": "3692b03d",
   "metadata": {},
   "outputs": [
    {
     "data": {
      "text/plain": [
       "array([0, 1, 2, 3, 4, 5])"
      ]
     },
     "execution_count": 24,
     "metadata": {},
     "output_type": "execute_result"
    }
   ],
   "source": [
    "pd.DataFrame(labels)[0].unique()"
   ]
  },
  {
   "cell_type": "markdown",
   "id": "17c2210c",
   "metadata": {},
   "source": [
    "## Surprise-6"
   ]
  },
  {
   "cell_type": "code",
   "execution_count": 25,
   "id": "4c85eef8",
   "metadata": {},
   "outputs": [
    {
     "name": "stdout",
     "output_type": "stream",
     "text": [
      "Done\n",
      "28709\n",
      "28709\n"
     ]
    }
   ],
   "source": [
    "allimages = os.listdir(imgpath + 'surprise/')\n",
    "len(allimages)\n",
    "for img in allimages:\n",
    "    pic = cv2.imread(imgpath + 'surprise/' + img)\n",
    "    pic = cv2.resize(pic,(48,48))\n",
    "    pic = img_to_array(pic)\n",
    "    dataset.append(pic)\n",
    "    labels.append(6)\n",
    "print(\"Done\")\n",
    "print(len(dataset))\n",
    "print(len(labels))"
   ]
  },
  {
   "cell_type": "code",
   "execution_count": 26,
   "id": "1e584e84",
   "metadata": {},
   "outputs": [
    {
     "data": {
      "text/plain": [
       "array([0, 1, 2, 3, 4, 5, 6])"
      ]
     },
     "execution_count": 26,
     "metadata": {},
     "output_type": "execute_result"
    }
   ],
   "source": [
    "pd.DataFrame(labels)[0].unique()"
   ]
  },
  {
   "cell_type": "markdown",
   "id": "074cb864",
   "metadata": {},
   "source": [
    "## Data Scaling"
   ]
  },
  {
   "cell_type": "code",
   "execution_count": 27,
   "id": "370c094c",
   "metadata": {},
   "outputs": [],
   "source": [
    "dataset1 = np.array(dataset ,dtype = \"float\")/255.0"
   ]
  },
  {
   "cell_type": "code",
   "execution_count": 28,
   "id": "d309cd24",
   "metadata": {},
   "outputs": [
    {
     "data": {
      "text/plain": [
       "array([[[[0.70980392, 0.70980392, 0.70980392],\n",
       "         [0.70196078, 0.70196078, 0.70196078],\n",
       "         [0.69411765, 0.69411765, 0.69411765],\n",
       "         ...,\n",
       "         [0.71372549, 0.71372549, 0.71372549],\n",
       "         [0.71372549, 0.71372549, 0.71372549],\n",
       "         [0.71372549, 0.71372549, 0.71372549]],\n",
       "\n",
       "        [[0.70196078, 0.70196078, 0.70196078],\n",
       "         [0.69803922, 0.69803922, 0.69803922],\n",
       "         [0.69019608, 0.69019608, 0.69019608],\n",
       "         ...,\n",
       "         [0.70196078, 0.70196078, 0.70196078],\n",
       "         [0.69411765, 0.69411765, 0.69411765],\n",
       "         [0.68627451, 0.68627451, 0.68627451]],\n",
       "\n",
       "        [[0.70196078, 0.70196078, 0.70196078],\n",
       "         [0.69803922, 0.69803922, 0.69803922],\n",
       "         [0.69019608, 0.69019608, 0.69019608],\n",
       "         ...,\n",
       "         [0.67843137, 0.67843137, 0.67843137],\n",
       "         [0.70196078, 0.70196078, 0.70196078],\n",
       "         [0.7254902 , 0.7254902 , 0.7254902 ]],\n",
       "\n",
       "        ...,\n",
       "\n",
       "        [[0.76862745, 0.76862745, 0.76862745],\n",
       "         [0.70980392, 0.70980392, 0.70980392],\n",
       "         [0.74901961, 0.74901961, 0.74901961],\n",
       "         ...,\n",
       "         [0.90196078, 0.90196078, 0.90196078],\n",
       "         [0.89411765, 0.89411765, 0.89411765],\n",
       "         [0.80392157, 0.80392157, 0.80392157]],\n",
       "\n",
       "        [[0.76078431, 0.76078431, 0.76078431],\n",
       "         [0.72941176, 0.72941176, 0.72941176],\n",
       "         [0.78431373, 0.78431373, 0.78431373],\n",
       "         ...,\n",
       "         [0.89019608, 0.89019608, 0.89019608],\n",
       "         [0.87058824, 0.87058824, 0.87058824],\n",
       "         [0.91372549, 0.91372549, 0.91372549]],\n",
       "\n",
       "        [[0.77647059, 0.77647059, 0.77647059],\n",
       "         [0.77254902, 0.77254902, 0.77254902],\n",
       "         [0.83137255, 0.83137255, 0.83137255],\n",
       "         ...,\n",
       "         [0.88627451, 0.88627451, 0.88627451],\n",
       "         [0.85882353, 0.85882353, 0.85882353],\n",
       "         [0.95294118, 0.95294118, 0.95294118]]],\n",
       "\n",
       "\n",
       "       [[[0.08235294, 0.08235294, 0.08235294],\n",
       "         [0.07058824, 0.07058824, 0.07058824],\n",
       "         [0.10588235, 0.10588235, 0.10588235],\n",
       "         ...,\n",
       "         [0.32941176, 0.32941176, 0.32941176],\n",
       "         [0.20392157, 0.20392157, 0.20392157],\n",
       "         [0.24705882, 0.24705882, 0.24705882]],\n",
       "\n",
       "        [[0.08235294, 0.08235294, 0.08235294],\n",
       "         [0.08235294, 0.08235294, 0.08235294],\n",
       "         [0.10980392, 0.10980392, 0.10980392],\n",
       "         ...,\n",
       "         [0.34509804, 0.34509804, 0.34509804],\n",
       "         [0.28235294, 0.28235294, 0.28235294],\n",
       "         [0.36078431, 0.36078431, 0.36078431]],\n",
       "\n",
       "        [[0.09019608, 0.09019608, 0.09019608],\n",
       "         [0.10980392, 0.10980392, 0.10980392],\n",
       "         [0.12941176, 0.12941176, 0.12941176],\n",
       "         ...,\n",
       "         [0.4       , 0.4       , 0.4       ],\n",
       "         [0.41176471, 0.41176471, 0.41176471],\n",
       "         [0.45882353, 0.45882353, 0.45882353]],\n",
       "\n",
       "        ...,\n",
       "\n",
       "        [[0.99607843, 0.99607843, 0.99607843],\n",
       "         [0.99215686, 0.99215686, 0.99215686],\n",
       "         [1.        , 1.        , 1.        ],\n",
       "         ...,\n",
       "         [0.63921569, 0.63921569, 0.63921569],\n",
       "         [0.61960784, 0.61960784, 0.61960784],\n",
       "         [0.61176471, 0.61176471, 0.61176471]],\n",
       "\n",
       "        [[1.        , 1.        , 1.        ],\n",
       "         [1.        , 1.        , 1.        ],\n",
       "         [1.        , 1.        , 1.        ],\n",
       "         ...,\n",
       "         [0.59607843, 0.59607843, 0.59607843],\n",
       "         [0.64705882, 0.64705882, 0.64705882],\n",
       "         [0.59607843, 0.59607843, 0.59607843]],\n",
       "\n",
       "        [[0.99607843, 0.99607843, 0.99607843],\n",
       "         [1.        , 1.        , 1.        ],\n",
       "         [0.99215686, 0.99215686, 0.99215686],\n",
       "         ...,\n",
       "         [0.61568627, 0.61568627, 0.61568627],\n",
       "         [0.57647059, 0.57647059, 0.57647059],\n",
       "         [0.56078431, 0.56078431, 0.56078431]]],\n",
       "\n",
       "\n",
       "       [[[0.16078431, 0.16078431, 0.16078431],\n",
       "         [0.24705882, 0.24705882, 0.24705882],\n",
       "         [0.33333333, 0.33333333, 0.33333333],\n",
       "         ...,\n",
       "         [0.13333333, 0.13333333, 0.13333333],\n",
       "         [0.1372549 , 0.1372549 , 0.1372549 ],\n",
       "         [0.1254902 , 0.1254902 , 0.1254902 ]],\n",
       "\n",
       "        [[0.14117647, 0.14117647, 0.14117647],\n",
       "         [0.21960784, 0.21960784, 0.21960784],\n",
       "         [0.30196078, 0.30196078, 0.30196078],\n",
       "         ...,\n",
       "         [0.1254902 , 0.1254902 , 0.1254902 ],\n",
       "         [0.10980392, 0.10980392, 0.10980392],\n",
       "         [0.13333333, 0.13333333, 0.13333333]],\n",
       "\n",
       "        [[0.12941176, 0.12941176, 0.12941176],\n",
       "         [0.19607843, 0.19607843, 0.19607843],\n",
       "         [0.3254902 , 0.3254902 , 0.3254902 ],\n",
       "         ...,\n",
       "         [0.15686275, 0.15686275, 0.15686275],\n",
       "         [0.09019608, 0.09019608, 0.09019608],\n",
       "         [0.12941176, 0.12941176, 0.12941176]],\n",
       "\n",
       "        ...,\n",
       "\n",
       "        [[0.51764706, 0.51764706, 0.51764706],\n",
       "         [0.5372549 , 0.5372549 , 0.5372549 ],\n",
       "         [0.52941176, 0.52941176, 0.52941176],\n",
       "         ...,\n",
       "         [0.33333333, 0.33333333, 0.33333333],\n",
       "         [0.29411765, 0.29411765, 0.29411765],\n",
       "         [0.32156863, 0.32156863, 0.32156863]],\n",
       "\n",
       "        [[0.49411765, 0.49411765, 0.49411765],\n",
       "         [0.54117647, 0.54117647, 0.54117647],\n",
       "         [0.58039216, 0.58039216, 0.58039216],\n",
       "         ...,\n",
       "         [0.35294118, 0.35294118, 0.35294118],\n",
       "         [0.31764706, 0.31764706, 0.31764706],\n",
       "         [0.30588235, 0.30588235, 0.30588235]],\n",
       "\n",
       "        [[0.48627451, 0.48627451, 0.48627451],\n",
       "         [0.54509804, 0.54509804, 0.54509804],\n",
       "         [0.59607843, 0.59607843, 0.59607843],\n",
       "         ...,\n",
       "         [0.37647059, 0.37647059, 0.37647059],\n",
       "         [0.33333333, 0.33333333, 0.33333333],\n",
       "         [0.31764706, 0.31764706, 0.31764706]]],\n",
       "\n",
       "\n",
       "       ...,\n",
       "\n",
       "\n",
       "       [[[0.98431373, 0.98431373, 0.98431373],\n",
       "         [0.98431373, 0.98431373, 0.98431373],\n",
       "         [0.97254902, 0.97254902, 0.97254902],\n",
       "         ...,\n",
       "         [0.97254902, 0.97254902, 0.97254902],\n",
       "         [0.98431373, 0.98431373, 0.98431373],\n",
       "         [0.98039216, 0.98039216, 0.98039216]],\n",
       "\n",
       "        [[0.98431373, 0.98431373, 0.98431373],\n",
       "         [0.98431373, 0.98431373, 0.98431373],\n",
       "         [0.99607843, 0.99607843, 0.99607843],\n",
       "         ...,\n",
       "         [0.98039216, 0.98039216, 0.98039216],\n",
       "         [0.98039216, 0.98039216, 0.98039216],\n",
       "         [0.98431373, 0.98431373, 0.98431373]],\n",
       "\n",
       "        [[0.98039216, 0.98039216, 0.98039216],\n",
       "         [0.98039216, 0.98039216, 0.98039216],\n",
       "         [0.98431373, 0.98431373, 0.98431373],\n",
       "         ...,\n",
       "         [0.97254902, 0.97254902, 0.97254902],\n",
       "         [0.97647059, 0.97647059, 0.97647059],\n",
       "         [0.96862745, 0.96862745, 0.96862745]],\n",
       "\n",
       "        ...,\n",
       "\n",
       "        [[0.98823529, 0.98823529, 0.98823529],\n",
       "         [0.97254902, 0.97254902, 0.97254902],\n",
       "         [0.98431373, 0.98431373, 0.98431373],\n",
       "         ...,\n",
       "         [0.92941176, 0.92941176, 0.92941176],\n",
       "         [0.91764706, 0.91764706, 0.91764706],\n",
       "         [0.9254902 , 0.9254902 , 0.9254902 ]],\n",
       "\n",
       "        [[0.98039216, 0.98039216, 0.98039216],\n",
       "         [0.98431373, 0.98431373, 0.98431373],\n",
       "         [0.98431373, 0.98431373, 0.98431373],\n",
       "         ...,\n",
       "         [0.92941176, 0.92941176, 0.92941176],\n",
       "         [0.92941176, 0.92941176, 0.92941176],\n",
       "         [0.94117647, 0.94117647, 0.94117647]],\n",
       "\n",
       "        [[0.99215686, 0.99215686, 0.99215686],\n",
       "         [0.98431373, 0.98431373, 0.98431373],\n",
       "         [0.98431373, 0.98431373, 0.98431373],\n",
       "         ...,\n",
       "         [0.9372549 , 0.9372549 , 0.9372549 ],\n",
       "         [0.94117647, 0.94117647, 0.94117647],\n",
       "         [0.94509804, 0.94509804, 0.94509804]]],\n",
       "\n",
       "\n",
       "       [[[0.99215686, 0.99215686, 0.99215686],\n",
       "         [0.99215686, 0.99215686, 0.99215686],\n",
       "         [1.        , 1.        , 1.        ],\n",
       "         ...,\n",
       "         [0.99215686, 0.99215686, 0.99215686],\n",
       "         [0.99215686, 0.99215686, 0.99215686],\n",
       "         [1.        , 1.        , 1.        ]],\n",
       "\n",
       "        [[0.99215686, 0.99215686, 0.99215686],\n",
       "         [0.99607843, 0.99607843, 0.99607843],\n",
       "         [0.98823529, 0.98823529, 0.98823529],\n",
       "         ...,\n",
       "         [0.99607843, 0.99607843, 0.99607843],\n",
       "         [0.99215686, 0.99215686, 0.99215686],\n",
       "         [0.99607843, 0.99607843, 0.99607843]],\n",
       "\n",
       "        [[1.        , 1.        , 1.        ],\n",
       "         [1.        , 1.        , 1.        ],\n",
       "         [1.        , 1.        , 1.        ],\n",
       "         ...,\n",
       "         [0.99607843, 0.99607843, 0.99607843],\n",
       "         [0.99215686, 0.99215686, 0.99215686],\n",
       "         [1.        , 1.        , 1.        ]],\n",
       "\n",
       "        ...,\n",
       "\n",
       "        [[0.09411765, 0.09411765, 0.09411765],\n",
       "         [0.08627451, 0.08627451, 0.08627451],\n",
       "         [0.07843137, 0.07843137, 0.07843137],\n",
       "         ...,\n",
       "         [0.13333333, 0.13333333, 0.13333333],\n",
       "         [0.14901961, 0.14901961, 0.14901961],\n",
       "         [0.13333333, 0.13333333, 0.13333333]],\n",
       "\n",
       "        [[0.09411765, 0.09411765, 0.09411765],\n",
       "         [0.05882353, 0.05882353, 0.05882353],\n",
       "         [0.09019608, 0.09019608, 0.09019608],\n",
       "         ...,\n",
       "         [0.14509804, 0.14509804, 0.14509804],\n",
       "         [0.1372549 , 0.1372549 , 0.1372549 ],\n",
       "         [0.14509804, 0.14509804, 0.14509804]],\n",
       "\n",
       "        [[0.09803922, 0.09803922, 0.09803922],\n",
       "         [0.08235294, 0.08235294, 0.08235294],\n",
       "         [0.05882353, 0.05882353, 0.05882353],\n",
       "         ...,\n",
       "         [0.14509804, 0.14509804, 0.14509804],\n",
       "         [0.13333333, 0.13333333, 0.13333333],\n",
       "         [0.14509804, 0.14509804, 0.14509804]]],\n",
       "\n",
       "\n",
       "       [[[0.96862745, 0.96862745, 0.96862745],\n",
       "         [0.99215686, 0.99215686, 0.99215686],\n",
       "         [0.99607843, 0.99607843, 0.99607843],\n",
       "         ...,\n",
       "         [0.02745098, 0.02745098, 0.02745098],\n",
       "         [0.03529412, 0.03529412, 0.03529412],\n",
       "         [0.03529412, 0.03529412, 0.03529412]],\n",
       "\n",
       "        [[0.98039216, 0.98039216, 0.98039216],\n",
       "         [0.69803922, 0.69803922, 0.69803922],\n",
       "         [0.64705882, 0.64705882, 0.64705882],\n",
       "         ...,\n",
       "         [0.05882353, 0.05882353, 0.05882353],\n",
       "         [0.03921569, 0.03921569, 0.03921569],\n",
       "         [0.07058824, 0.07058824, 0.07058824]],\n",
       "\n",
       "        [[0.83529412, 0.83529412, 0.83529412],\n",
       "         [0.62352941, 0.62352941, 0.62352941],\n",
       "         [0.9254902 , 0.9254902 , 0.9254902 ],\n",
       "         ...,\n",
       "         [0.09019608, 0.09019608, 0.09019608],\n",
       "         [0.02745098, 0.02745098, 0.02745098],\n",
       "         [0.05490196, 0.05490196, 0.05490196]],\n",
       "\n",
       "        ...,\n",
       "\n",
       "        [[0.99215686, 0.99215686, 0.99215686],\n",
       "         [1.        , 1.        , 1.        ],\n",
       "         [1.        , 1.        , 1.        ],\n",
       "         ...,\n",
       "         [0.25098039, 0.25098039, 0.25098039],\n",
       "         [0.34901961, 0.34901961, 0.34901961],\n",
       "         [0.40784314, 0.40784314, 0.40784314]],\n",
       "\n",
       "        [[0.99215686, 0.99215686, 0.99215686],\n",
       "         [0.91764706, 0.91764706, 0.91764706],\n",
       "         [0.85098039, 0.85098039, 0.85098039],\n",
       "         ...,\n",
       "         [0.23921569, 0.23921569, 0.23921569],\n",
       "         [0.36470588, 0.36470588, 0.36470588],\n",
       "         [0.44705882, 0.44705882, 0.44705882]],\n",
       "\n",
       "        [[0.61568627, 0.61568627, 0.61568627],\n",
       "         [0.56470588, 0.56470588, 0.56470588],\n",
       "         [0.5254902 , 0.5254902 , 0.5254902 ],\n",
       "         ...,\n",
       "         [0.25098039, 0.25098039, 0.25098039],\n",
       "         [0.44313725, 0.44313725, 0.44313725],\n",
       "         [0.57254902, 0.57254902, 0.57254902]]]])"
      ]
     },
     "execution_count": 28,
     "metadata": {},
     "output_type": "execute_result"
    }
   ],
   "source": [
    "dataset1"
   ]
  },
  {
   "cell_type": "code",
   "execution_count": 29,
   "id": "5f43d528",
   "metadata": {},
   "outputs": [],
   "source": [
    "exp = { 0 :\"Angry\" , 1 : \"Disgust\" , 2 : \"Fear\",\n",
    "        3 : \"Happy\" , 4 : \"neutral\" , 5: \"sad\",\n",
    "          6 : \"Surprise\"}"
   ]
  },
  {
   "cell_type": "code",
   "execution_count": 30,
   "id": "45f4d88f",
   "metadata": {},
   "outputs": [],
   "source": [
    "import matplotlib.pyplot as plt"
   ]
  },
  {
   "cell_type": "code",
   "execution_count": 31,
   "id": "66f95b2e",
   "metadata": {},
   "outputs": [
    {
     "data": {
      "text/plain": [
       "<matplotlib.image.AxesImage at 0x7ff4057e9390>"
      ]
     },
     "execution_count": 31,
     "metadata": {},
     "output_type": "execute_result"
    },
    {
     "data": {
      "image/png": "[encoded data removed]",
      "text/plain": [
       "<Figure size 432x288 with 1 Axes>"
      ]
     },
     "metadata": {
      "needs_background": "light"
     },
     "output_type": "display_data"
    }
   ],
   "source": [
    "plt.imshow(dataset1[101])"
   ]
  },
  {
   "cell_type": "code",
   "execution_count": 32,
   "id": "ee00e00e",
   "metadata": {},
   "outputs": [
    {
     "data": {
      "text/plain": [
       "'Angry'"
      ]
     },
     "execution_count": 32,
     "metadata": {},
     "output_type": "execute_result"
    }
   ],
   "source": [
    "exp[labels[101]]"
   ]
  },
  {
   "cell_type": "code",
   "execution_count": 33,
   "id": "e5518371",
   "metadata": {},
   "outputs": [
    {
     "data": {
      "text/plain": [
       "<matplotlib.image.AxesImage at 0x7ff411242f50>"
      ]
     },
     "execution_count": 33,
     "metadata": {},
     "output_type": "execute_result"
    },
    {
     "data": {
      "image/png": "[encoded data removed]",
      "text/plain": [
       "<Figure size 432x288 with 1 Axes>"
      ]
     },
     "metadata": {
      "needs_background": "light"
     },
     "output_type": "display_data"
    }
   ],
   "source": [
    "plt.imshow(dataset1[1021])"
   ]
  },
  {
   "cell_type": "code",
   "execution_count": 34,
   "id": "d4a73a79",
   "metadata": {},
   "outputs": [
    {
     "data": {
      "text/plain": [
       "'Angry'"
      ]
     },
     "execution_count": 34,
     "metadata": {},
     "output_type": "execute_result"
    }
   ],
   "source": [
    "exp[labels[1021]]"
   ]
  },
  {
   "cell_type": "code",
   "execution_count": 35,
   "id": "651d9594",
   "metadata": {},
   "outputs": [
    {
     "data": {
      "text/plain": [
       "numpy.ndarray"
      ]
     },
     "execution_count": 35,
     "metadata": {},
     "output_type": "execute_result"
    }
   ],
   "source": [
    "type(dataset1)"
   ]
  },
  {
   "cell_type": "code",
   "execution_count": 36,
   "id": "6f9a8755",
   "metadata": {},
   "outputs": [],
   "source": [
    "labels = np.array(labels)"
   ]
  },
  {
   "cell_type": "code",
   "execution_count": 37,
   "id": "90215d23",
   "metadata": {},
   "outputs": [
    {
     "data": {
      "text/plain": [
       "array([0, 0, 0, ..., 6, 6, 6])"
      ]
     },
     "execution_count": 37,
     "metadata": {},
     "output_type": "execute_result"
    }
   ],
   "source": [
    "labels"
   ]
  },
  {
   "cell_type": "markdown",
   "id": "feaf0f9b",
   "metadata": {},
   "source": [
    "## Splitting Using train_test"
   ]
  },
  {
   "cell_type": "code",
   "execution_count": 38,
   "id": "ce5259f3",
   "metadata": {},
   "outputs": [],
   "source": [
    "from sklearn.model_selection import train_test_split"
   ]
  },
  {
   "cell_type": "code",
   "execution_count": 39,
   "id": "e313047f",
   "metadata": {},
   "outputs": [],
   "source": [
    "Xtrain,Xtest,ytrain,ytest = train_test_split(dataset1,labels,test_size=0.20,random_state=44)"
   ]
  },
  {
   "cell_type": "code",
   "execution_count": 40,
   "id": "b2c23b57",
   "metadata": {},
   "outputs": [
    {
     "data": {
      "text/plain": [
       "((22967, 48, 48, 3), (5742, 48, 48, 3), (28709, 48, 48, 3))"
      ]
     },
     "execution_count": 40,
     "metadata": {},
     "output_type": "execute_result"
    }
   ],
   "source": [
    "Xtrain.shape , Xtest.shape , dataset1.shape"
   ]
  },
  {
   "cell_type": "markdown",
   "id": "db527c84",
   "metadata": {},
   "source": [
    "## Model"
   ]
  },
  {
   "cell_type": "code",
   "execution_count": 41,
   "id": "a369f3c4",
   "metadata": {},
   "outputs": [],
   "source": [
    "from tensorflow.keras.models import Sequential"
   ]
  },
  {
   "cell_type": "code",
   "execution_count": 42,
   "id": "14398aad",
   "metadata": {},
   "outputs": [],
   "source": [
    "model = Sequential()"
   ]
  },
  {
   "cell_type": "code",
   "execution_count": 43,
   "id": "b64eca26",
   "metadata": {},
   "outputs": [],
   "source": [
    "from tensorflow.keras.layers import Dense,Flatten,Conv2D,Dropout,BatchNormalization,MaxPooling2D"
   ]
  },
  {
   "cell_type": "code",
   "execution_count": 44,
   "id": "76bd5064",
   "metadata": {},
   "outputs": [
    {
     "name": "stderr",
     "output_type": "stream",
     "text": [
      "2022-05-28 10:32:47.285004: I tensorflow/core/platform/cpu_feature_guard.cc:145] This TensorFlow binary is optimized with Intel(R) MKL-DNN to use the following CPU instructions in performance critical operations:  SSE4.1 SSE4.2\n",
      "To enable them in non-MKL-DNN operations, rebuild TensorFlow with the appropriate compiler flags.\n",
      "2022-05-28 10:32:47.290998: I tensorflow/core/common_runtime/process_util.cc:115] Creating new thread pool with default inter op setting: 8. Tune using inter_op_parallelism_threads for best performance.\n"
     ]
    }
   ],
   "source": [
    "model.add(Conv2D(32,(3,3),activation='relu',padding=\"same\",\n",
    "                input_shape = (48,48,3)))\n",
    "model.add(MaxPooling2D(pool_size=(3,3)))\n",
    "model.add(Dropout(0.25))\n",
    "model.add(BatchNormalization(axis=-1))"
   ]
  },
  {
   "cell_type": "code",
   "execution_count": 45,
   "id": "8caf657f",
   "metadata": {},
   "outputs": [],
   "source": [
    "model.add(Conv2D(64 ,(3,3),activation='relu',padding=\"same\"))\n",
    "model.add(MaxPooling2D(pool_size=(3,3)))\n",
    "model.add(Dropout(0.25))\n",
    "model.add(BatchNormalization(axis=-1))"
   ]
  },
  {
   "cell_type": "code",
   "execution_count": 46,
   "id": "5e46171a",
   "metadata": {},
   "outputs": [],
   "source": [
    "model.add(Conv2D(64 ,(3,3),activation='relu',padding=\"same\"))\n",
    "model.add(MaxPooling2D(pool_size=(2,2)))\n",
    "model.add(Dropout(0.25))\n",
    "model.add(BatchNormalization(axis=-1))"
   ]
  },
  {
   "cell_type": "code",
   "execution_count": 47,
   "id": "afc45ac6",
   "metadata": {},
   "outputs": [],
   "source": [
    "model.add(Conv2D(256 ,(3,3),activation='relu',padding=\"same\"))\n",
    "model.add(MaxPooling2D(pool_size=(2,2)))\n",
    "model.add(Dropout(0.25))\n",
    "model.add(BatchNormalization(axis=-1))"
   ]
  },
  {
   "cell_type": "code",
   "execution_count": 48,
   "id": "74718ca8",
   "metadata": {},
   "outputs": [],
   "source": [
    "model.add(Conv2D(256 ,(3,3),activation='relu',padding=\"same\"))\n",
    "model.add(MaxPooling2D(pool_size=(1,1)))\n",
    "model.add(Dropout(0.25))\n",
    "model.add(BatchNormalization(axis=-1))"
   ]
  },
  {
   "cell_type": "code",
   "execution_count": 49,
   "id": "65b22257",
   "metadata": {},
   "outputs": [],
   "source": [
    "model.add(Flatten())\n",
    "model.add(Dense(1024,activation='relu'))\n",
    "model.add(BatchNormalization())\n",
    "model.add(Dropout(0.25))"
   ]
  },
  {
   "cell_type": "code",
   "execution_count": 50,
   "id": "e9041ddb",
   "metadata": {},
   "outputs": [],
   "source": [
    "model.add(Dense(7,activation=\"softmax\"))"
   ]
  },
  {
   "cell_type": "code",
   "execution_count": 51,
   "id": "e6854c80",
   "metadata": {},
   "outputs": [
    {
     "name": "stdout",
     "output_type": "stream",
     "text": [
      "Model: \"sequential\"\n",
      "_________________________________________________________________\n",
      "Layer (type)                 Output Shape              Param #   \n",
      "=================================================================\n",
      "conv2d (Conv2D)              (None, 48, 48, 32)        896       \n",
      "_________________________________________________________________\n",
      "max_pooling2d (MaxPooling2D) (None, 16, 16, 32)        0         \n",
      "_________________________________________________________________\n",
      "dropout (Dropout)            (None, 16, 16, 32)        0         \n",
      "_________________________________________________________________\n",
      "batch_normalization (BatchNo (None, 16, 16, 32)        128       \n",
      "_________________________________________________________________\n",
      "conv2d_1 (Conv2D)            (None, 16, 16, 64)        18496     \n",
      "_________________________________________________________________\n",
      "max_pooling2d_1 (MaxPooling2 (None, 5, 5, 64)          0         \n",
      "_________________________________________________________________\n",
      "dropout_1 (Dropout)          (None, 5, 5, 64)          0         \n",
      "_________________________________________________________________\n",
      "batch_normalization_1 (Batch (None, 5, 5, 64)          256       \n",
      "_________________________________________________________________\n",
      "conv2d_2 (Conv2D)            (None, 5, 5, 64)          36928     \n",
      "_________________________________________________________________\n",
      "max_pooling2d_2 (MaxPooling2 (None, 2, 2, 64)          0         \n",
      "_________________________________________________________________\n",
      "dropout_2 (Dropout)          (None, 2, 2, 64)          0         \n",
      "_________________________________________________________________\n",
      "batch_normalization_2 (Batch (None, 2, 2, 64)          256       \n",
      "_________________________________________________________________\n",
      "conv2d_3 (Conv2D)            (None, 2, 2, 256)         147712    \n",
      "_________________________________________________________________\n",
      "max_pooling2d_3 (MaxPooling2 (None, 1, 1, 256)         0         \n",
      "_________________________________________________________________\n",
      "dropout_3 (Dropout)          (None, 1, 1, 256)         0         \n",
      "_________________________________________________________________\n",
      "batch_normalization_3 (Batch (None, 1, 1, 256)         1024      \n",
      "_________________________________________________________________\n",
      "conv2d_4 (Conv2D)            (None, 1, 1, 256)         590080    \n",
      "_________________________________________________________________\n",
      "max_pooling2d_4 (MaxPooling2 (None, 1, 1, 256)         0         \n",
      "_________________________________________________________________\n",
      "dropout_4 (Dropout)          (None, 1, 1, 256)         0         \n",
      "_________________________________________________________________\n",
      "batch_normalization_4 (Batch (None, 1, 1, 256)         1024      \n",
      "_________________________________________________________________\n",
      "flatten (Flatten)            (None, 256)               0         \n",
      "_________________________________________________________________\n",
      "dense (Dense)                (None, 1024)              263168    \n",
      "_________________________________________________________________\n",
      "batch_normalization_5 (Batch (None, 1024)              4096      \n",
      "_________________________________________________________________\n",
      "dropout_5 (Dropout)          (None, 1024)              0         \n",
      "_________________________________________________________________\n",
      "dense_1 (Dense)              (None, 7)                 7175      \n",
      "=================================================================\n",
      "Total params: 1,071,239\n",
      "Trainable params: 1,067,847\n",
      "Non-trainable params: 3,392\n",
      "_________________________________________________________________\n"
     ]
    }
   ],
   "source": [
    "model.summary()"
   ]
  },
  {
   "cell_type": "code",
   "execution_count": 52,
   "id": "a1bdd09e",
   "metadata": {},
   "outputs": [],
   "source": [
    "model.compile(optimizer = 'Adam',loss = \"sparse_categorical_crossentropy\",metrics = [\"accuracy\"])"
   ]
  },
  {
   "cell_type": "code",
   "execution_count": null,
   "id": "41d2a544",
   "metadata": {},
   "outputs": [
    {
     "name": "stdout",
     "output_type": "stream",
     "text": [
      "Train on 22967 samples\n",
      "Epoch 1/20\n",
      "22967/22967 [==============================] - 171s 7ms/sample - loss: 2.1779 - accuracy: 0.2044\n",
      "Epoch 2/20\n",
      "22967/22967 [==============================] - 180s 8ms/sample - loss: 1.9199 - accuracy: 0.2237\n",
      "Epoch 3/20\n",
      "22967/22967 [==============================] - 148s 6ms/sample - loss: 1.8608 - accuracy: 0.2457\n",
      "Epoch 4/20\n",
      "22967/22967 [==============================] - 126s 5ms/sample - loss: 1.8049 - accuracy: 0.2804\n",
      "Epoch 5/20\n",
      "22967/22967 [==============================] - 145s 6ms/sample - loss: 1.6855 - accuracy: 0.3411\n",
      "Epoch 6/20\n",
      "22967/22967 [==============================] - 176s 8ms/sample - loss: 1.6072 - accuracy: 0.3787\n",
      "Epoch 7/20\n",
      "22967/22967 [==============================] - 169s 7ms/sample - loss: 1.5560 - accuracy: 0.4001\n",
      "Epoch 8/20\n",
      "22967/22967 [==============================] - 175s 8ms/sample - loss: 1.4968 - accuracy: 0.4215\n",
      "Epoch 9/20\n",
      "22967/22967 [==============================] - 131s 6ms/sample - loss: 1.4618 - accuracy: 0.4343\n",
      "Epoch 10/20\n",
      "22967/22967 [==============================] - 125s 5ms/sample - loss: 1.4436 - accuracy: 0.4483\n",
      "Epoch 11/20\n",
      "22967/22967 [==============================] - 123s 5ms/sample - loss: 1.4165 - accuracy: 0.4570\n",
      "Epoch 12/20\n",
      "22967/22967 [==============================] - 123s 5ms/sample - loss: 1.3840 - accuracy: 0.4672\n",
      "Epoch 13/20\n",
      "22967/22967 [==============================] - 128s 6ms/sample - loss: 1.3756 - accuracy: 0.4759\n",
      "Epoch 14/20\n",
      "22967/22967 [==============================] - 120s 5ms/sample - loss: 1.3407 - accuracy: 0.4913\n",
      "Epoch 15/20\n",
      "22967/22967 [==============================] - 119s 5ms/sample - loss: 1.3397 - accuracy: 0.4934\n",
      "Epoch 16/20\n",
      "22967/22967 [==============================] - 119s 5ms/sample - loss: 1.3206 - accuracy: 0.5000\n",
      "Epoch 17/20\n",
      "22967/22967 [==============================] - 119s 5ms/sample - loss: 1.3038 - accuracy: 0.5046\n",
      "Epoch 18/20\n",
      "22967/22967 [==============================] - 119s 5ms/sample - loss: 1.2964 - accuracy: 0.5087\n",
      "Epoch 19/20\n",
      "22967/22967 [==============================] - 121s 5ms/sample - loss: 1.2873 - accuracy: 0.5103\n",
      "Epoch 20/20\n",
      "20480/22967 [=========================>....] - ETA: 12s - loss: 1.2735 - accuracy: 0.5176"
     ]
    }
   ],
   "source": [
    "model.fit(Xtrain,ytrain,epochs = 20)"
   ]
  },
  {
   "cell_type": "code",
   "execution_count": null,
   "id": "b53e95e1",
   "metadata": {},
   "outputs": [],
   "source": [
    "model.evaluate(Xtest,ytest)"
   ]
  },
  {
   "cell_type": "code",
   "execution_count": null,
   "id": "c2387b46",
   "metadata": {},
   "outputs": [],
   "source": [
    "test = cv2.imread(\"/Users/dev/Personal/DS & AI Class Notes/CNN-Data/Face-Emotion/disgust/Training_1654496.jpg\")"
   ]
  },
  {
   "cell_type": "code",
   "execution_count": null,
   "id": "58f1b7f7",
   "metadata": {},
   "outputs": [],
   "source": [
    "test = cv2.resize(test,(48,48))"
   ]
  },
  {
   "cell_type": "code",
   "execution_count": null,
   "id": "5819b0bc",
   "metadata": {},
   "outputs": [],
   "source": [
    "test.shape"
   ]
  },
  {
   "cell_type": "code",
   "execution_count": null,
   "id": "277c9b1a",
   "metadata": {},
   "outputs": [],
   "source": [
    "test = np.array(test,dtype = 'float')/255"
   ]
  },
  {
   "cell_type": "code",
   "execution_count": null,
   "id": "eb10c0c0",
   "metadata": {},
   "outputs": [],
   "source": [
    "plt.imshow(test)"
   ]
  },
  {
   "cell_type": "code",
   "execution_count": null,
   "id": "db9d915e",
   "metadata": {},
   "outputs": [],
   "source": [
    "test = test.reshape(1,48,48,3)"
   ]
  },
  {
   "cell_type": "code",
   "execution_count": null,
   "id": "1b838c5a",
   "metadata": {},
   "outputs": [],
   "source": [
    "np.argmax(model.predict(test))"
   ]
  },
  {
   "cell_type": "code",
   "execution_count": null,
   "id": "5b54da6e",
   "metadata": {},
   "outputs": [],
   "source": [
    "model.predict(test)"
   ]
  },
  {
   "cell_type": "code",
   "execution_count": null,
   "id": "e02e1707",
   "metadata": {},
   "outputs": [],
   "source": [
    "np.argmax(model.predict(test))"
   ]
  },
  {
   "cell_type": "code",
   "execution_count": null,
   "id": "a6400caf",
   "metadata": {},
   "outputs": [],
   "source": [
    "exp[np.argmax(model.predict(test))]"
   ]
  },
  {
   "cell_type": "markdown",
   "id": "1731685c",
   "metadata": {},
   "source": [
    "## From WebCam"
   ]
  },
  {
   "cell_type": "code",
   "execution_count": null,
   "id": "868a022a",
   "metadata": {},
   "outputs": [],
   "source": [
    "import cv2"
   ]
  },
  {
   "cell_type": "code",
   "execution_count": null,
   "id": "e3fe70a9",
   "metadata": {},
   "outputs": [],
   "source": [
    "cam = cv2.VideoCapture(0)"
   ]
  },
  {
   "cell_type": "code",
   "execution_count": null,
   "id": "a5865e0f",
   "metadata": {},
   "outputs": [],
   "source": [
    "result,image = cam.read()\n",
    "print(result)"
   ]
  },
  {
   "cell_type": "code",
   "execution_count": null,
   "id": "0bce55bb",
   "metadata": {},
   "outputs": [],
   "source": [
    "plt.imshow(image)"
   ]
  },
  {
   "cell_type": "code",
   "execution_count": null,
   "id": "03373753",
   "metadata": {},
   "outputs": [],
   "source": [
    "test3 = cv2.resize(image,(48,48))"
   ]
  },
  {
   "cell_type": "code",
   "execution_count": null,
   "id": "3a692fab",
   "metadata": {},
   "outputs": [],
   "source": [
    "test3 = np.array(test3,dtype = 'float')/255"
   ]
  },
  {
   "cell_type": "code",
   "execution_count": null,
   "id": "e6d3a57e",
   "metadata": {},
   "outputs": [],
   "source": [
    "test3 = test3.reshape(1,48,48,3)"
   ]
  },
  {
   "cell_type": "code",
   "execution_count": null,
   "id": "80276a3d",
   "metadata": {},
   "outputs": [],
   "source": [
    "exp[np.argmax(model.predict(test3))]"
   ]
  }
 ],
 "metadata": {
  "kernelspec": {
   "display_name": "Python 3 (ipykernel)",
   "language": "python",
   "name": "python3"
  },
  "language_info": {
   "codemirror_mode": {
    "name": "ipython",
    "version": 3
   },
   "file_extension": ".py",
   "mimetype": "text/x-python",
   "name": "python",
   "nbconvert_exporter": "python",
   "pygments_lexer": "ipython3",
   "version": "3.7.13"
  }
 },
 "nbformat": 4,
 "nbformat_minor": 5
}
