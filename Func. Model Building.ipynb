{
 "cells": [
  {
   "cell_type": "code",
   "execution_count": 1,
   "id": "22d2606b",
   "metadata": {},
   "outputs": [],
   "source": [
    "import numpy as np\n",
    "import pandas as pd\n",
    "import tensorflow as tf"
   ]
  },
  {
   "cell_type": "code",
   "execution_count": 2,
   "id": "71f17b88",
   "metadata": {},
   "outputs": [],
   "source": [
    "from tensorflow.keras.models import Model"
   ]
  },
  {
   "cell_type": "code",
   "execution_count": 3,
   "id": "1707ca14",
   "metadata": {},
   "outputs": [],
   "source": [
    "from tensorflow.keras.layers import Dense , Input"
   ]
  },
  {
   "cell_type": "code",
   "execution_count": 4,
   "id": "718970c5",
   "metadata": {},
   "outputs": [],
   "source": [
    "i = Input(shape=784) ## 28*28"
   ]
  },
  {
   "cell_type": "code",
   "execution_count": 5,
   "id": "87717026",
   "metadata": {},
   "outputs": [
    {
     "name": "stderr",
     "output_type": "stream",
     "text": [
      "2022-04-29 17:50:29.260917: I tensorflow/core/platform/cpu_feature_guard.cc:145] This TensorFlow binary is optimized with Intel(R) MKL-DNN to use the following CPU instructions in performance critical operations:  SSE4.1 SSE4.2\n",
      "To enable them in non-MKL-DNN operations, rebuild TensorFlow with the appropriate compiler flags.\n",
      "2022-04-29 17:50:29.264156: I tensorflow/core/common_runtime/process_util.cc:115] Creating new thread pool with default inter op setting: 8. Tune using inter_op_parallelism_threads for best performance.\n"
     ]
    }
   ],
   "source": [
    "hl1 = Dense(112,activation='relu')(i)"
   ]
  },
  {
   "cell_type": "code",
   "execution_count": 6,
   "id": "a834b6b3",
   "metadata": {},
   "outputs": [],
   "source": [
    "hl2 = Dense(122,activation='relu')(hl1)"
   ]
  },
  {
   "cell_type": "code",
   "execution_count": 7,
   "id": "badd2b8d",
   "metadata": {},
   "outputs": [],
   "source": [
    "out = Dense(10,activation='softmax')(hl2)"
   ]
  },
  {
   "cell_type": "code",
   "execution_count": 10,
   "id": "64d97113",
   "metadata": {},
   "outputs": [
    {
     "data": {
      "text/plain": [
       "<tf.Tensor 'dense_2/Identity:0' shape=(None, 10) dtype=float32>"
      ]
     },
     "execution_count": 10,
     "metadata": {},
     "output_type": "execute_result"
    }
   ],
   "source": [
    "out"
   ]
  },
  {
   "cell_type": "code",
   "execution_count": 13,
   "id": "1aaceb42",
   "metadata": {},
   "outputs": [],
   "source": [
    "fm1 = Model(inputs = i , outputs = out)"
   ]
  },
  {
   "cell_type": "code",
   "execution_count": 14,
   "id": "69a2d690",
   "metadata": {},
   "outputs": [
    {
     "data": {
      "text/plain": [
       "<tensorflow.python.keras.engine.training.Model at 0x7fb90228e790>"
      ]
     },
     "execution_count": 14,
     "metadata": {},
     "output_type": "execute_result"
    }
   ],
   "source": [
    "fm1"
   ]
  },
  {
   "cell_type": "code",
   "execution_count": 16,
   "id": "b020f84c",
   "metadata": {},
   "outputs": [
    {
     "name": "stdout",
     "output_type": "stream",
     "text": [
      "Model: \"model_1\"\n",
      "_________________________________________________________________\n",
      "Layer (type)                 Output Shape              Param #   \n",
      "=================================================================\n",
      "input_1 (InputLayer)         [(None, 784)]             0         \n",
      "_________________________________________________________________\n",
      "dense (Dense)                (None, 112)               87920     \n",
      "_________________________________________________________________\n",
      "dense_1 (Dense)              (None, 122)               13786     \n",
      "_________________________________________________________________\n",
      "dense_2 (Dense)              (None, 10)                1230      \n",
      "=================================================================\n",
      "Total params: 102,936\n",
      "Trainable params: 102,936\n",
      "Non-trainable params: 0\n",
      "_________________________________________________________________\n"
     ]
    }
   ],
   "source": [
    "fm1.summary()"
   ]
  },
  {
   "cell_type": "markdown",
   "id": "db43dbb7",
   "metadata": {},
   "source": [
    "## OR"
   ]
  },
  {
   "cell_type": "code",
   "execution_count": 17,
   "id": "0db94411",
   "metadata": {},
   "outputs": [],
   "source": [
    "i1 = Input(shape=784) ## 28*28"
   ]
  },
  {
   "cell_type": "code",
   "execution_count": 19,
   "id": "029f86da",
   "metadata": {},
   "outputs": [],
   "source": [
    "hl3 = Dense(112,activation='relu')"
   ]
  },
  {
   "cell_type": "code",
   "execution_count": 20,
   "id": "b56ba02b",
   "metadata": {},
   "outputs": [],
   "source": [
    "hl4 = Dense(122,activation='relu')"
   ]
  },
  {
   "cell_type": "code",
   "execution_count": 21,
   "id": "96055481",
   "metadata": {},
   "outputs": [],
   "source": [
    "out1 = Dense(10,activation='softmax')"
   ]
  },
  {
   "cell_type": "code",
   "execution_count": 23,
   "id": "34a900c5",
   "metadata": {},
   "outputs": [],
   "source": [
    "x1 = hl3(i1)"
   ]
  },
  {
   "cell_type": "code",
   "execution_count": 24,
   "id": "0639406a",
   "metadata": {},
   "outputs": [],
   "source": [
    "y1 = hl4(x1)"
   ]
  },
  {
   "cell_type": "code",
   "execution_count": 25,
   "id": "13f16d57",
   "metadata": {},
   "outputs": [],
   "source": [
    "z1 = out1(y1)"
   ]
  },
  {
   "cell_type": "code",
   "execution_count": 29,
   "id": "32aa2dad",
   "metadata": {},
   "outputs": [],
   "source": [
    "fm2 = Model(inputs = i1 , outputs = z1) "
   ]
  },
  {
   "cell_type": "code",
   "execution_count": 30,
   "id": "0670efc8",
   "metadata": {},
   "outputs": [
    {
     "name": "stdout",
     "output_type": "stream",
     "text": [
      "Model: \"model_5\"\n",
      "_________________________________________________________________\n",
      "Layer (type)                 Output Shape              Param #   \n",
      "=================================================================\n",
      "input_2 (InputLayer)         [(None, 784)]             0         \n",
      "_________________________________________________________________\n",
      "dense_4 (Dense)              (None, 112)               87920     \n",
      "_________________________________________________________________\n",
      "dense_5 (Dense)              (None, 122)               13786     \n",
      "_________________________________________________________________\n",
      "dense_6 (Dense)              (None, 10)                1230      \n",
      "=================================================================\n",
      "Total params: 102,936\n",
      "Trainable params: 102,936\n",
      "Non-trainable params: 0\n",
      "_________________________________________________________________\n"
     ]
    }
   ],
   "source": [
    "fm2.summary()"
   ]
  },
  {
   "cell_type": "markdown",
   "id": "44645b76",
   "metadata": {},
   "source": [
    "## OR"
   ]
  },
  {
   "cell_type": "code",
   "execution_count": 31,
   "id": "266a89fe",
   "metadata": {},
   "outputs": [],
   "source": [
    "from tensorflow.keras.layers import Flatten"
   ]
  },
  {
   "cell_type": "code",
   "execution_count": 41,
   "id": "a038fa5e",
   "metadata": {},
   "outputs": [],
   "source": [
    "i2 = Input(shape=(28,28))"
   ]
  },
  {
   "cell_type": "code",
   "execution_count": 42,
   "id": "0f560e49",
   "metadata": {},
   "outputs": [],
   "source": [
    "hl5 = Dense(112,activation='relu')"
   ]
  },
  {
   "cell_type": "code",
   "execution_count": 43,
   "id": "d679f236",
   "metadata": {},
   "outputs": [],
   "source": [
    "hl6 = Dense(122,activation='relu')"
   ]
  },
  {
   "cell_type": "code",
   "execution_count": 44,
   "id": "2e664dd4",
   "metadata": {},
   "outputs": [],
   "source": [
    "out2 = Dense(10,activation='softmax')"
   ]
  },
  {
   "cell_type": "code",
   "execution_count": 46,
   "id": "2090d47f",
   "metadata": {},
   "outputs": [],
   "source": [
    "flat = Flatten()"
   ]
  },
  {
   "cell_type": "code",
   "execution_count": 48,
   "id": "d5ac5c83",
   "metadata": {},
   "outputs": [],
   "source": [
    "fl1 = flat(i2)"
   ]
  },
  {
   "cell_type": "code",
   "execution_count": 49,
   "id": "016c938f",
   "metadata": {},
   "outputs": [],
   "source": [
    "x2 = hl5(fl1)"
   ]
  },
  {
   "cell_type": "code",
   "execution_count": 50,
   "id": "332f4a9d",
   "metadata": {},
   "outputs": [],
   "source": [
    "y2= hl6(x2)"
   ]
  },
  {
   "cell_type": "code",
   "execution_count": 51,
   "id": "bb470c11",
   "metadata": {},
   "outputs": [],
   "source": [
    "z2 = out2(y2)"
   ]
  },
  {
   "cell_type": "code",
   "execution_count": 52,
   "id": "f291e9ee",
   "metadata": {},
   "outputs": [],
   "source": [
    "fm3 = Model(inputs = i2 , outputs = z2) "
   ]
  },
  {
   "cell_type": "code",
   "execution_count": 53,
   "id": "c41ce5f6",
   "metadata": {},
   "outputs": [
    {
     "name": "stdout",
     "output_type": "stream",
     "text": [
      "Model: \"model_6\"\n",
      "_________________________________________________________________\n",
      "Layer (type)                 Output Shape              Param #   \n",
      "=================================================================\n",
      "input_4 (InputLayer)         [(None, 28, 28)]          0         \n",
      "_________________________________________________________________\n",
      "flatten_5 (Flatten)          (None, 784)               0         \n",
      "_________________________________________________________________\n",
      "dense_10 (Dense)             (None, 112)               87920     \n",
      "_________________________________________________________________\n",
      "dense_11 (Dense)             (None, 122)               13786     \n",
      "_________________________________________________________________\n",
      "dense_12 (Dense)             (None, 10)                1230      \n",
      "=================================================================\n",
      "Total params: 102,936\n",
      "Trainable params: 102,936\n",
      "Non-trainable params: 0\n",
      "_________________________________________________________________\n"
     ]
    }
   ],
   "source": [
    "fm3.summary()"
   ]
  },
  {
   "cell_type": "code",
   "execution_count": null,
   "id": "c2ab0925",
   "metadata": {},
   "outputs": [],
   "source": []
  }
 ],
 "metadata": {
  "kernelspec": {
   "display_name": "Python 3 (ipykernel)",
   "language": "python",
   "name": "python3"
  },
  "language_info": {
   "codemirror_mode": {
    "name": "ipython",
    "version": 3
   },
   "file_extension": ".py",
   "mimetype": "text/x-python",
   "name": "python",
   "nbconvert_exporter": "python",
   "pygments_lexer": "ipython3",
   "version": "3.7.13"
  }
 },
 "nbformat": 4,
 "nbformat_minor": 5
}
