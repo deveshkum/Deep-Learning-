{
 "cells": [
  {
   "cell_type": "code",
   "execution_count": 859,
   "id": "02e993d5",
   "metadata": {},
   "outputs": [],
   "source": [
    "import pandas as pd"
   ]
  },
  {
   "cell_type": "code",
   "execution_count": 860,
   "id": "2b386227",
   "metadata": {},
   "outputs": [],
   "source": [
    "dfspam = pd.read_csv(\"/Users/dev/Personal/DS & AI Class Notes/Data Sets/NLP/spam.csv\")"
   ]
  },
  {
   "cell_type": "code",
   "execution_count": 861,
   "id": "786d3ee0",
   "metadata": {},
   "outputs": [],
   "source": [
    "dfspam.drop([\"Unnamed: 2\",\"Unnamed: 3\",\"Unnamed: 4\"],axis=1,inplace=True)"
   ]
  },
  {
   "cell_type": "code",
   "execution_count": 862,
   "id": "46d54584",
   "metadata": {},
   "outputs": [
    {
     "data": {
      "text/html": [
       "<div>\n",
       "<style scoped>\n",
       "    .dataframe tbody tr th:only-of-type {\n",
       "        vertical-align: middle;\n",
       "    }\n",
       "\n",
       "    .dataframe tbody tr th {\n",
       "        vertical-align: top;\n",
       "    }\n",
       "\n",
       "    .dataframe thead th {\n",
       "        text-align: right;\n",
       "    }\n",
       "</style>\n",
       "<table border=\"1\" class=\"dataframe\">\n",
       "  <thead>\n",
       "    <tr style=\"text-align: right;\">\n",
       "      <th></th>\n",
       "      <th>v1</th>\n",
       "      <th>v2</th>\n",
       "    </tr>\n",
       "  </thead>\n",
       "  <tbody>\n",
       "    <tr>\n",
       "      <th>0</th>\n",
       "      <td>ham</td>\n",
       "      <td>Go until jurong point, crazy.. Available only ...</td>\n",
       "    </tr>\n",
       "    <tr>\n",
       "      <th>1</th>\n",
       "      <td>ham</td>\n",
       "      <td>Ok lar... Joking wif u oni...</td>\n",
       "    </tr>\n",
       "    <tr>\n",
       "      <th>2</th>\n",
       "      <td>spam</td>\n",
       "      <td>Free entry in 2 a wkly comp to win FA Cup fina...</td>\n",
       "    </tr>\n",
       "    <tr>\n",
       "      <th>3</th>\n",
       "      <td>ham</td>\n",
       "      <td>U dun say so early hor... U c already then say...</td>\n",
       "    </tr>\n",
       "    <tr>\n",
       "      <th>4</th>\n",
       "      <td>ham</td>\n",
       "      <td>Nah I don't think he goes to usf, he lives aro...</td>\n",
       "    </tr>\n",
       "    <tr>\n",
       "      <th>...</th>\n",
       "      <td>...</td>\n",
       "      <td>...</td>\n",
       "    </tr>\n",
       "    <tr>\n",
       "      <th>5567</th>\n",
       "      <td>spam</td>\n",
       "      <td>This is the 2nd time we have tried 2 contact u...</td>\n",
       "    </tr>\n",
       "    <tr>\n",
       "      <th>5568</th>\n",
       "      <td>ham</td>\n",
       "      <td>Will Ã_ b going to esplanade fr home?</td>\n",
       "    </tr>\n",
       "    <tr>\n",
       "      <th>5569</th>\n",
       "      <td>ham</td>\n",
       "      <td>Pity, * was in mood for that. So...any other s...</td>\n",
       "    </tr>\n",
       "    <tr>\n",
       "      <th>5570</th>\n",
       "      <td>ham</td>\n",
       "      <td>The guy did some bitching but I acted like i'd...</td>\n",
       "    </tr>\n",
       "    <tr>\n",
       "      <th>5571</th>\n",
       "      <td>ham</td>\n",
       "      <td>Rofl. Its true to its name</td>\n",
       "    </tr>\n",
       "  </tbody>\n",
       "</table>\n",
       "<p>5572 rows × 2 columns</p>\n",
       "</div>"
      ],
      "text/plain": [
       "        v1                                                 v2\n",
       "0      ham  Go until jurong point, crazy.. Available only ...\n",
       "1      ham                      Ok lar... Joking wif u oni...\n",
       "2     spam  Free entry in 2 a wkly comp to win FA Cup fina...\n",
       "3      ham  U dun say so early hor... U c already then say...\n",
       "4      ham  Nah I don't think he goes to usf, he lives aro...\n",
       "...    ...                                                ...\n",
       "5567  spam  This is the 2nd time we have tried 2 contact u...\n",
       "5568   ham              Will Ã_ b going to esplanade fr home?\n",
       "5569   ham  Pity, * was in mood for that. So...any other s...\n",
       "5570   ham  The guy did some bitching but I acted like i'd...\n",
       "5571   ham                         Rofl. Its true to its name\n",
       "\n",
       "[5572 rows x 2 columns]"
      ]
     },
     "execution_count": 862,
     "metadata": {},
     "output_type": "execute_result"
    }
   ],
   "source": [
    "dfspam"
   ]
  },
  {
   "cell_type": "code",
   "execution_count": 863,
   "id": "2e3f0776",
   "metadata": {},
   "outputs": [],
   "source": [
    "dfspam.columns = [\"Label\",\"Message\"]"
   ]
  },
  {
   "cell_type": "code",
   "execution_count": 864,
   "id": "9e46f70a",
   "metadata": {},
   "outputs": [
    {
     "data": {
      "text/html": [
       "<div>\n",
       "<style scoped>\n",
       "    .dataframe tbody tr th:only-of-type {\n",
       "        vertical-align: middle;\n",
       "    }\n",
       "\n",
       "    .dataframe tbody tr th {\n",
       "        vertical-align: top;\n",
       "    }\n",
       "\n",
       "    .dataframe thead th {\n",
       "        text-align: right;\n",
       "    }\n",
       "</style>\n",
       "<table border=\"1\" class=\"dataframe\">\n",
       "  <thead>\n",
       "    <tr style=\"text-align: right;\">\n",
       "      <th></th>\n",
       "      <th>Label</th>\n",
       "      <th>Message</th>\n",
       "    </tr>\n",
       "  </thead>\n",
       "  <tbody>\n",
       "    <tr>\n",
       "      <th>0</th>\n",
       "      <td>ham</td>\n",
       "      <td>Go until jurong point, crazy.. Available only ...</td>\n",
       "    </tr>\n",
       "    <tr>\n",
       "      <th>1</th>\n",
       "      <td>ham</td>\n",
       "      <td>Ok lar... Joking wif u oni...</td>\n",
       "    </tr>\n",
       "    <tr>\n",
       "      <th>2</th>\n",
       "      <td>spam</td>\n",
       "      <td>Free entry in 2 a wkly comp to win FA Cup fina...</td>\n",
       "    </tr>\n",
       "    <tr>\n",
       "      <th>3</th>\n",
       "      <td>ham</td>\n",
       "      <td>U dun say so early hor... U c already then say...</td>\n",
       "    </tr>\n",
       "    <tr>\n",
       "      <th>4</th>\n",
       "      <td>ham</td>\n",
       "      <td>Nah I don't think he goes to usf, he lives aro...</td>\n",
       "    </tr>\n",
       "    <tr>\n",
       "      <th>...</th>\n",
       "      <td>...</td>\n",
       "      <td>...</td>\n",
       "    </tr>\n",
       "    <tr>\n",
       "      <th>5567</th>\n",
       "      <td>spam</td>\n",
       "      <td>This is the 2nd time we have tried 2 contact u...</td>\n",
       "    </tr>\n",
       "    <tr>\n",
       "      <th>5568</th>\n",
       "      <td>ham</td>\n",
       "      <td>Will Ã_ b going to esplanade fr home?</td>\n",
       "    </tr>\n",
       "    <tr>\n",
       "      <th>5569</th>\n",
       "      <td>ham</td>\n",
       "      <td>Pity, * was in mood for that. So...any other s...</td>\n",
       "    </tr>\n",
       "    <tr>\n",
       "      <th>5570</th>\n",
       "      <td>ham</td>\n",
       "      <td>The guy did some bitching but I acted like i'd...</td>\n",
       "    </tr>\n",
       "    <tr>\n",
       "      <th>5571</th>\n",
       "      <td>ham</td>\n",
       "      <td>Rofl. Its true to its name</td>\n",
       "    </tr>\n",
       "  </tbody>\n",
       "</table>\n",
       "<p>5572 rows × 2 columns</p>\n",
       "</div>"
      ],
      "text/plain": [
       "     Label                                            Message\n",
       "0      ham  Go until jurong point, crazy.. Available only ...\n",
       "1      ham                      Ok lar... Joking wif u oni...\n",
       "2     spam  Free entry in 2 a wkly comp to win FA Cup fina...\n",
       "3      ham  U dun say so early hor... U c already then say...\n",
       "4      ham  Nah I don't think he goes to usf, he lives aro...\n",
       "...    ...                                                ...\n",
       "5567  spam  This is the 2nd time we have tried 2 contact u...\n",
       "5568   ham              Will Ã_ b going to esplanade fr home?\n",
       "5569   ham  Pity, * was in mood for that. So...any other s...\n",
       "5570   ham  The guy did some bitching but I acted like i'd...\n",
       "5571   ham                         Rofl. Its true to its name\n",
       "\n",
       "[5572 rows x 2 columns]"
      ]
     },
     "execution_count": 864,
     "metadata": {},
     "output_type": "execute_result"
    }
   ],
   "source": [
    "dfspam"
   ]
  },
  {
   "cell_type": "markdown",
   "id": "4ce84f8b",
   "metadata": {},
   "source": [
    "## Remove Punctuation"
   ]
  },
  {
   "cell_type": "code",
   "execution_count": 865,
   "id": "29cf4445",
   "metadata": {},
   "outputs": [],
   "source": [
    "import string"
   ]
  },
  {
   "cell_type": "code",
   "execution_count": 866,
   "id": "3d3fb0ee",
   "metadata": {},
   "outputs": [],
   "source": [
    "punc = string.punctuation"
   ]
  },
  {
   "cell_type": "code",
   "execution_count": 867,
   "id": "180fd678",
   "metadata": {},
   "outputs": [
    {
     "data": {
      "text/plain": [
       "0       Go until jurong point, crazy.. Available only ...\n",
       "1                           Ok lar... Joking wif u oni...\n",
       "2       Free entry in 2 a wkly comp to win FA Cup fina...\n",
       "3       U dun say so early hor... U c already then say...\n",
       "4       Nah I don't think he goes to usf, he lives aro...\n",
       "                              ...                        \n",
       "5567    This is the 2nd time we have tried 2 contact u...\n",
       "5568                Will Ã_ b going to esplanade fr home?\n",
       "5569    Pity, * was in mood for that. So...any other s...\n",
       "5570    The guy did some bitching but I acted like i'd...\n",
       "5571                           Rofl. Its true to its name\n",
       "Name: Message, Length: 5572, dtype: object"
      ]
     },
     "execution_count": 867,
     "metadata": {},
     "output_type": "execute_result"
    }
   ],
   "source": [
    "dfspam[\"Message\"]"
   ]
  },
  {
   "cell_type": "code",
   "execution_count": 868,
   "id": "72bfb4b7",
   "metadata": {},
   "outputs": [],
   "source": [
    "# \"\".join([i for i in dfspam[\"Message\"][0] if i not in punc])"
   ]
  },
  {
   "cell_type": "code",
   "execution_count": 869,
   "id": "c8d50aa6",
   "metadata": {},
   "outputs": [
    {
     "data": {
      "text/plain": [
       "0       [G, o,  , u, n, t, i, l,  , j, u, r, o, n, g, ...\n",
       "1       [O, k,  , l, a, r, ., ., .,  , J, o, k, i, n, ...\n",
       "2       [F, r, e, e,  , e, n, t, r, y,  , i, n,  , 2, ...\n",
       "3       [U,  , d, u, n,  , s, a, y,  , s, o,  , e, a, ...\n",
       "4       [N, a, h,  , I,  , d, o, n, ', t,  , t, h, i, ...\n",
       "                              ...                        \n",
       "5567    [T, h, i, s,  , i, s,  , t, h, e,  , 2, n, d, ...\n",
       "5568    [W, i, l, l,  , Ã, _,  , b,  , g, o, i, n, g, ...\n",
       "5569    [P, i, t, y, ,,  , *,  , w, a, s,  , i, n,  , ...\n",
       "5570    [T, h, e,  , g, u, y,  , d, i, d,  , s, o, m, ...\n",
       "5571    [R, o, f, l, .,  , I, t, s,  , t, r, u, e,  , ...\n",
       "Name: Message, Length: 5572, dtype: object"
      ]
     },
     "execution_count": 869,
     "metadata": {},
     "output_type": "execute_result"
    }
   ],
   "source": [
    "dfspam[\"Message\"].map(lambda x : [i for i in x])"
   ]
  },
  {
   "cell_type": "code",
   "execution_count": 870,
   "id": "11f5ff98",
   "metadata": {
    "scrolled": true
   },
   "outputs": [],
   "source": [
    "dfspam[\"Msg1\"] = dfspam[\"Message\"].map(lambda x : \"\".join([i for i in x if i not in punc]) )"
   ]
  },
  {
   "cell_type": "code",
   "execution_count": 871,
   "id": "475f0236",
   "metadata": {},
   "outputs": [
    {
     "data": {
      "text/html": [
       "<div>\n",
       "<style scoped>\n",
       "    .dataframe tbody tr th:only-of-type {\n",
       "        vertical-align: middle;\n",
       "    }\n",
       "\n",
       "    .dataframe tbody tr th {\n",
       "        vertical-align: top;\n",
       "    }\n",
       "\n",
       "    .dataframe thead th {\n",
       "        text-align: right;\n",
       "    }\n",
       "</style>\n",
       "<table border=\"1\" class=\"dataframe\">\n",
       "  <thead>\n",
       "    <tr style=\"text-align: right;\">\n",
       "      <th></th>\n",
       "      <th>Label</th>\n",
       "      <th>Message</th>\n",
       "      <th>Msg1</th>\n",
       "    </tr>\n",
       "  </thead>\n",
       "  <tbody>\n",
       "    <tr>\n",
       "      <th>0</th>\n",
       "      <td>ham</td>\n",
       "      <td>Go until jurong point, crazy.. Available only ...</td>\n",
       "      <td>Go until jurong point crazy Available only in ...</td>\n",
       "    </tr>\n",
       "    <tr>\n",
       "      <th>1</th>\n",
       "      <td>ham</td>\n",
       "      <td>Ok lar... Joking wif u oni...</td>\n",
       "      <td>Ok lar Joking wif u oni</td>\n",
       "    </tr>\n",
       "    <tr>\n",
       "      <th>2</th>\n",
       "      <td>spam</td>\n",
       "      <td>Free entry in 2 a wkly comp to win FA Cup fina...</td>\n",
       "      <td>Free entry in 2 a wkly comp to win FA Cup fina...</td>\n",
       "    </tr>\n",
       "    <tr>\n",
       "      <th>3</th>\n",
       "      <td>ham</td>\n",
       "      <td>U dun say so early hor... U c already then say...</td>\n",
       "      <td>U dun say so early hor U c already then say</td>\n",
       "    </tr>\n",
       "    <tr>\n",
       "      <th>4</th>\n",
       "      <td>ham</td>\n",
       "      <td>Nah I don't think he goes to usf, he lives aro...</td>\n",
       "      <td>Nah I dont think he goes to usf he lives aroun...</td>\n",
       "    </tr>\n",
       "    <tr>\n",
       "      <th>...</th>\n",
       "      <td>...</td>\n",
       "      <td>...</td>\n",
       "      <td>...</td>\n",
       "    </tr>\n",
       "    <tr>\n",
       "      <th>5567</th>\n",
       "      <td>spam</td>\n",
       "      <td>This is the 2nd time we have tried 2 contact u...</td>\n",
       "      <td>This is the 2nd time we have tried 2 contact u...</td>\n",
       "    </tr>\n",
       "    <tr>\n",
       "      <th>5568</th>\n",
       "      <td>ham</td>\n",
       "      <td>Will Ã_ b going to esplanade fr home?</td>\n",
       "      <td>Will Ã b going to esplanade fr home</td>\n",
       "    </tr>\n",
       "    <tr>\n",
       "      <th>5569</th>\n",
       "      <td>ham</td>\n",
       "      <td>Pity, * was in mood for that. So...any other s...</td>\n",
       "      <td>Pity  was in mood for that Soany other suggest...</td>\n",
       "    </tr>\n",
       "    <tr>\n",
       "      <th>5570</th>\n",
       "      <td>ham</td>\n",
       "      <td>The guy did some bitching but I acted like i'd...</td>\n",
       "      <td>The guy did some bitching but I acted like id ...</td>\n",
       "    </tr>\n",
       "    <tr>\n",
       "      <th>5571</th>\n",
       "      <td>ham</td>\n",
       "      <td>Rofl. Its true to its name</td>\n",
       "      <td>Rofl Its true to its name</td>\n",
       "    </tr>\n",
       "  </tbody>\n",
       "</table>\n",
       "<p>5572 rows × 3 columns</p>\n",
       "</div>"
      ],
      "text/plain": [
       "     Label                                            Message  \\\n",
       "0      ham  Go until jurong point, crazy.. Available only ...   \n",
       "1      ham                      Ok lar... Joking wif u oni...   \n",
       "2     spam  Free entry in 2 a wkly comp to win FA Cup fina...   \n",
       "3      ham  U dun say so early hor... U c already then say...   \n",
       "4      ham  Nah I don't think he goes to usf, he lives aro...   \n",
       "...    ...                                                ...   \n",
       "5567  spam  This is the 2nd time we have tried 2 contact u...   \n",
       "5568   ham              Will Ã_ b going to esplanade fr home?   \n",
       "5569   ham  Pity, * was in mood for that. So...any other s...   \n",
       "5570   ham  The guy did some bitching but I acted like i'd...   \n",
       "5571   ham                         Rofl. Its true to its name   \n",
       "\n",
       "                                                   Msg1  \n",
       "0     Go until jurong point crazy Available only in ...  \n",
       "1                               Ok lar Joking wif u oni  \n",
       "2     Free entry in 2 a wkly comp to win FA Cup fina...  \n",
       "3           U dun say so early hor U c already then say  \n",
       "4     Nah I dont think he goes to usf he lives aroun...  \n",
       "...                                                 ...  \n",
       "5567  This is the 2nd time we have tried 2 contact u...  \n",
       "5568                Will Ã b going to esplanade fr home  \n",
       "5569  Pity  was in mood for that Soany other suggest...  \n",
       "5570  The guy did some bitching but I acted like id ...  \n",
       "5571                          Rofl Its true to its name  \n",
       "\n",
       "[5572 rows x 3 columns]"
      ]
     },
     "execution_count": 871,
     "metadata": {},
     "output_type": "execute_result"
    }
   ],
   "source": [
    "dfspam"
   ]
  },
  {
   "cell_type": "code",
   "execution_count": 872,
   "id": "8ef9339f",
   "metadata": {},
   "outputs": [],
   "source": [
    "dfspam[\"Message_len\"] = dfspam[\"Message\"].map(lambda x : len(x) )"
   ]
  },
  {
   "cell_type": "code",
   "execution_count": 873,
   "id": "7fbf14e0",
   "metadata": {},
   "outputs": [],
   "source": [
    "dfspam[\"Msg1_len\"] = dfspam[\"Msg1\"].map(lambda x : len(x) )"
   ]
  },
  {
   "cell_type": "code",
   "execution_count": 874,
   "id": "8394efde",
   "metadata": {},
   "outputs": [
    {
     "data": {
      "text/plain": [
       "Index(['Label', 'Message', 'Msg1', 'Message_len', 'Msg1_len'], dtype='object')"
      ]
     },
     "execution_count": 874,
     "metadata": {},
     "output_type": "execute_result"
    }
   ],
   "source": [
    "dfspam.columns"
   ]
  },
  {
   "cell_type": "code",
   "execution_count": 875,
   "id": "83ceca82",
   "metadata": {},
   "outputs": [],
   "source": [
    "dfspam = dfspam[['Label', 'Message', 'Message_len', 'Msg1', 'Msg1_len']]"
   ]
  },
  {
   "cell_type": "code",
   "execution_count": 876,
   "id": "0a58b818",
   "metadata": {},
   "outputs": [
    {
     "data": {
      "text/html": [
       "<div>\n",
       "<style scoped>\n",
       "    .dataframe tbody tr th:only-of-type {\n",
       "        vertical-align: middle;\n",
       "    }\n",
       "\n",
       "    .dataframe tbody tr th {\n",
       "        vertical-align: top;\n",
       "    }\n",
       "\n",
       "    .dataframe thead th {\n",
       "        text-align: right;\n",
       "    }\n",
       "</style>\n",
       "<table border=\"1\" class=\"dataframe\">\n",
       "  <thead>\n",
       "    <tr style=\"text-align: right;\">\n",
       "      <th></th>\n",
       "      <th>Label</th>\n",
       "      <th>Message</th>\n",
       "      <th>Message_len</th>\n",
       "      <th>Msg1</th>\n",
       "      <th>Msg1_len</th>\n",
       "    </tr>\n",
       "  </thead>\n",
       "  <tbody>\n",
       "    <tr>\n",
       "      <th>0</th>\n",
       "      <td>ham</td>\n",
       "      <td>Go until jurong point, crazy.. Available only ...</td>\n",
       "      <td>111</td>\n",
       "      <td>Go until jurong point crazy Available only in ...</td>\n",
       "      <td>102</td>\n",
       "    </tr>\n",
       "    <tr>\n",
       "      <th>1</th>\n",
       "      <td>ham</td>\n",
       "      <td>Ok lar... Joking wif u oni...</td>\n",
       "      <td>29</td>\n",
       "      <td>Ok lar Joking wif u oni</td>\n",
       "      <td>23</td>\n",
       "    </tr>\n",
       "    <tr>\n",
       "      <th>2</th>\n",
       "      <td>spam</td>\n",
       "      <td>Free entry in 2 a wkly comp to win FA Cup fina...</td>\n",
       "      <td>155</td>\n",
       "      <td>Free entry in 2 a wkly comp to win FA Cup fina...</td>\n",
       "      <td>149</td>\n",
       "    </tr>\n",
       "    <tr>\n",
       "      <th>3</th>\n",
       "      <td>ham</td>\n",
       "      <td>U dun say so early hor... U c already then say...</td>\n",
       "      <td>49</td>\n",
       "      <td>U dun say so early hor U c already then say</td>\n",
       "      <td>43</td>\n",
       "    </tr>\n",
       "    <tr>\n",
       "      <th>4</th>\n",
       "      <td>ham</td>\n",
       "      <td>Nah I don't think he goes to usf, he lives aro...</td>\n",
       "      <td>61</td>\n",
       "      <td>Nah I dont think he goes to usf he lives aroun...</td>\n",
       "      <td>59</td>\n",
       "    </tr>\n",
       "    <tr>\n",
       "      <th>...</th>\n",
       "      <td>...</td>\n",
       "      <td>...</td>\n",
       "      <td>...</td>\n",
       "      <td>...</td>\n",
       "      <td>...</td>\n",
       "    </tr>\n",
       "    <tr>\n",
       "      <th>5567</th>\n",
       "      <td>spam</td>\n",
       "      <td>This is the 2nd time we have tried 2 contact u...</td>\n",
       "      <td>161</td>\n",
       "      <td>This is the 2nd time we have tried 2 contact u...</td>\n",
       "      <td>153</td>\n",
       "    </tr>\n",
       "    <tr>\n",
       "      <th>5568</th>\n",
       "      <td>ham</td>\n",
       "      <td>Will Ã_ b going to esplanade fr home?</td>\n",
       "      <td>37</td>\n",
       "      <td>Will Ã b going to esplanade fr home</td>\n",
       "      <td>35</td>\n",
       "    </tr>\n",
       "    <tr>\n",
       "      <th>5569</th>\n",
       "      <td>ham</td>\n",
       "      <td>Pity, * was in mood for that. So...any other s...</td>\n",
       "      <td>57</td>\n",
       "      <td>Pity  was in mood for that Soany other suggest...</td>\n",
       "      <td>50</td>\n",
       "    </tr>\n",
       "    <tr>\n",
       "      <th>5570</th>\n",
       "      <td>ham</td>\n",
       "      <td>The guy did some bitching but I acted like i'd...</td>\n",
       "      <td>125</td>\n",
       "      <td>The guy did some bitching but I acted like id ...</td>\n",
       "      <td>124</td>\n",
       "    </tr>\n",
       "    <tr>\n",
       "      <th>5571</th>\n",
       "      <td>ham</td>\n",
       "      <td>Rofl. Its true to its name</td>\n",
       "      <td>26</td>\n",
       "      <td>Rofl Its true to its name</td>\n",
       "      <td>25</td>\n",
       "    </tr>\n",
       "  </tbody>\n",
       "</table>\n",
       "<p>5572 rows × 5 columns</p>\n",
       "</div>"
      ],
      "text/plain": [
       "     Label                                            Message  Message_len  \\\n",
       "0      ham  Go until jurong point, crazy.. Available only ...          111   \n",
       "1      ham                      Ok lar... Joking wif u oni...           29   \n",
       "2     spam  Free entry in 2 a wkly comp to win FA Cup fina...          155   \n",
       "3      ham  U dun say so early hor... U c already then say...           49   \n",
       "4      ham  Nah I don't think he goes to usf, he lives aro...           61   \n",
       "...    ...                                                ...          ...   \n",
       "5567  spam  This is the 2nd time we have tried 2 contact u...          161   \n",
       "5568   ham              Will Ã_ b going to esplanade fr home?           37   \n",
       "5569   ham  Pity, * was in mood for that. So...any other s...           57   \n",
       "5570   ham  The guy did some bitching but I acted like i'd...          125   \n",
       "5571   ham                         Rofl. Its true to its name           26   \n",
       "\n",
       "                                                   Msg1  Msg1_len  \n",
       "0     Go until jurong point crazy Available only in ...       102  \n",
       "1                               Ok lar Joking wif u oni        23  \n",
       "2     Free entry in 2 a wkly comp to win FA Cup fina...       149  \n",
       "3           U dun say so early hor U c already then say        43  \n",
       "4     Nah I dont think he goes to usf he lives aroun...        59  \n",
       "...                                                 ...       ...  \n",
       "5567  This is the 2nd time we have tried 2 contact u...       153  \n",
       "5568                Will Ã b going to esplanade fr home        35  \n",
       "5569  Pity  was in mood for that Soany other suggest...        50  \n",
       "5570  The guy did some bitching but I acted like id ...       124  \n",
       "5571                          Rofl Its true to its name        25  \n",
       "\n",
       "[5572 rows x 5 columns]"
      ]
     },
     "execution_count": 876,
     "metadata": {},
     "output_type": "execute_result"
    }
   ],
   "source": [
    "dfspam"
   ]
  },
  {
   "cell_type": "markdown",
   "id": "701f4eb7",
   "metadata": {},
   "source": [
    "## Stop Words Removing"
   ]
  },
  {
   "cell_type": "code",
   "execution_count": 877,
   "id": "89537ce9",
   "metadata": {},
   "outputs": [],
   "source": [
    "from nltk.corpus import stopwords"
   ]
  },
  {
   "cell_type": "code",
   "execution_count": 878,
   "id": "0bb59e14",
   "metadata": {},
   "outputs": [
    {
     "data": {
      "text/plain": [
       "179"
      ]
     },
     "execution_count": 878,
     "metadata": {},
     "output_type": "execute_result"
    }
   ],
   "source": [
    "eng = stopwords.words(\"english\")\n",
    "len(eng)"
   ]
  },
  {
   "cell_type": "code",
   "execution_count": 879,
   "id": "a96b5d3e",
   "metadata": {},
   "outputs": [],
   "source": [
    "dfspam1 = dfspam.drop([\"Message\",\"Message_len\"],axis=1)"
   ]
  },
  {
   "cell_type": "code",
   "execution_count": 880,
   "id": "66af33e3",
   "metadata": {},
   "outputs": [
    {
     "data": {
      "text/html": [
       "<div>\n",
       "<style scoped>\n",
       "    .dataframe tbody tr th:only-of-type {\n",
       "        vertical-align: middle;\n",
       "    }\n",
       "\n",
       "    .dataframe tbody tr th {\n",
       "        vertical-align: top;\n",
       "    }\n",
       "\n",
       "    .dataframe thead th {\n",
       "        text-align: right;\n",
       "    }\n",
       "</style>\n",
       "<table border=\"1\" class=\"dataframe\">\n",
       "  <thead>\n",
       "    <tr style=\"text-align: right;\">\n",
       "      <th></th>\n",
       "      <th>Label</th>\n",
       "      <th>Msg1</th>\n",
       "      <th>Msg1_len</th>\n",
       "    </tr>\n",
       "  </thead>\n",
       "  <tbody>\n",
       "    <tr>\n",
       "      <th>0</th>\n",
       "      <td>ham</td>\n",
       "      <td>Go until jurong point crazy Available only in ...</td>\n",
       "      <td>102</td>\n",
       "    </tr>\n",
       "    <tr>\n",
       "      <th>1</th>\n",
       "      <td>ham</td>\n",
       "      <td>Ok lar Joking wif u oni</td>\n",
       "      <td>23</td>\n",
       "    </tr>\n",
       "    <tr>\n",
       "      <th>2</th>\n",
       "      <td>spam</td>\n",
       "      <td>Free entry in 2 a wkly comp to win FA Cup fina...</td>\n",
       "      <td>149</td>\n",
       "    </tr>\n",
       "    <tr>\n",
       "      <th>3</th>\n",
       "      <td>ham</td>\n",
       "      <td>U dun say so early hor U c already then say</td>\n",
       "      <td>43</td>\n",
       "    </tr>\n",
       "    <tr>\n",
       "      <th>4</th>\n",
       "      <td>ham</td>\n",
       "      <td>Nah I dont think he goes to usf he lives aroun...</td>\n",
       "      <td>59</td>\n",
       "    </tr>\n",
       "    <tr>\n",
       "      <th>...</th>\n",
       "      <td>...</td>\n",
       "      <td>...</td>\n",
       "      <td>...</td>\n",
       "    </tr>\n",
       "    <tr>\n",
       "      <th>5567</th>\n",
       "      <td>spam</td>\n",
       "      <td>This is the 2nd time we have tried 2 contact u...</td>\n",
       "      <td>153</td>\n",
       "    </tr>\n",
       "    <tr>\n",
       "      <th>5568</th>\n",
       "      <td>ham</td>\n",
       "      <td>Will Ã b going to esplanade fr home</td>\n",
       "      <td>35</td>\n",
       "    </tr>\n",
       "    <tr>\n",
       "      <th>5569</th>\n",
       "      <td>ham</td>\n",
       "      <td>Pity  was in mood for that Soany other suggest...</td>\n",
       "      <td>50</td>\n",
       "    </tr>\n",
       "    <tr>\n",
       "      <th>5570</th>\n",
       "      <td>ham</td>\n",
       "      <td>The guy did some bitching but I acted like id ...</td>\n",
       "      <td>124</td>\n",
       "    </tr>\n",
       "    <tr>\n",
       "      <th>5571</th>\n",
       "      <td>ham</td>\n",
       "      <td>Rofl Its true to its name</td>\n",
       "      <td>25</td>\n",
       "    </tr>\n",
       "  </tbody>\n",
       "</table>\n",
       "<p>5572 rows × 3 columns</p>\n",
       "</div>"
      ],
      "text/plain": [
       "     Label                                               Msg1  Msg1_len\n",
       "0      ham  Go until jurong point crazy Available only in ...       102\n",
       "1      ham                            Ok lar Joking wif u oni        23\n",
       "2     spam  Free entry in 2 a wkly comp to win FA Cup fina...       149\n",
       "3      ham        U dun say so early hor U c already then say        43\n",
       "4      ham  Nah I dont think he goes to usf he lives aroun...        59\n",
       "...    ...                                                ...       ...\n",
       "5567  spam  This is the 2nd time we have tried 2 contact u...       153\n",
       "5568   ham                Will Ã b going to esplanade fr home        35\n",
       "5569   ham  Pity  was in mood for that Soany other suggest...        50\n",
       "5570   ham  The guy did some bitching but I acted like id ...       124\n",
       "5571   ham                          Rofl Its true to its name        25\n",
       "\n",
       "[5572 rows x 3 columns]"
      ]
     },
     "execution_count": 880,
     "metadata": {},
     "output_type": "execute_result"
    }
   ],
   "source": [
    "dfspam1"
   ]
  },
  {
   "cell_type": "code",
   "execution_count": 881,
   "id": "eb743644",
   "metadata": {},
   "outputs": [
    {
     "data": {
      "text/plain": [
       "['Go',\n",
       " 'until',\n",
       " 'jurong',\n",
       " 'point',\n",
       " 'crazy',\n",
       " 'Available',\n",
       " 'only',\n",
       " 'in',\n",
       " 'bugis',\n",
       " 'n',\n",
       " 'great',\n",
       " 'world',\n",
       " 'la',\n",
       " 'e',\n",
       " 'buffet',\n",
       " 'Cine',\n",
       " 'there',\n",
       " 'got',\n",
       " 'amore',\n",
       " 'wat']"
      ]
     },
     "execution_count": 881,
     "metadata": {},
     "output_type": "execute_result"
    }
   ],
   "source": [
    "dfspam1[\"Msg1\"][0].split()"
   ]
  },
  {
   "cell_type": "code",
   "execution_count": 882,
   "id": "5d049a37",
   "metadata": {},
   "outputs": [],
   "source": [
    "dfspam1[\"Msg_NSW\"] = dfspam1[\"Msg1\"].map(lambda x :\" \".join([i for i in x.split() if i not in eng]))"
   ]
  },
  {
   "cell_type": "code",
   "execution_count": 883,
   "id": "4559ec98",
   "metadata": {},
   "outputs": [
    {
     "name": "stderr",
     "output_type": "stream",
     "text": [
      "/opt/anaconda3/envs/tf/lib/python3.7/site-packages/ipykernel_launcher.py:3: SettingWithCopyWarning: \n",
      "A value is trying to be set on a copy of a slice from a DataFrame.\n",
      "Try using .loc[row_indexer,col_indexer] = value instead\n",
      "\n",
      "See the caveats in the documentation: https://pandas.pydata.org/pandas-docs/stable/user_guide/indexing.html#returning-a-view-versus-a-copy\n",
      "  This is separate from the ipykernel package so we can avoid doing imports until\n"
     ]
    }
   ],
   "source": [
    "## For Backup\n",
    "\n",
    "dfspam[\"Msg_NSW\"] = dfspam[\"Msg1\"].map(lambda x :\" \".join([i for i in x.split() if i not in eng]))"
   ]
  },
  {
   "cell_type": "code",
   "execution_count": 884,
   "id": "a634c2fb",
   "metadata": {},
   "outputs": [
    {
     "data": {
      "text/plain": [
       "0       102\n",
       "1        23\n",
       "2       149\n",
       "3        43\n",
       "4        59\n",
       "       ... \n",
       "5567    153\n",
       "5568     35\n",
       "5569     50\n",
       "5570    124\n",
       "5571     25\n",
       "Name: Msg1, Length: 5572, dtype: int64"
      ]
     },
     "execution_count": 884,
     "metadata": {},
     "output_type": "execute_result"
    }
   ],
   "source": [
    "## Len of msg without removing stopwords\n",
    "\n",
    "dfspam1[\"Msg1\"].map(lambda x :len(x))"
   ]
  },
  {
   "cell_type": "code",
   "execution_count": 885,
   "id": "1f240533",
   "metadata": {},
   "outputs": [],
   "source": [
    "dfspam1[\"Msg_NSW_Len\"] = dfspam1[\"Msg_NSW\"].map(lambda x :len(x))"
   ]
  },
  {
   "cell_type": "code",
   "execution_count": 886,
   "id": "83198df2",
   "metadata": {},
   "outputs": [
    {
     "data": {
      "text/html": [
       "<div>\n",
       "<style scoped>\n",
       "    .dataframe tbody tr th:only-of-type {\n",
       "        vertical-align: middle;\n",
       "    }\n",
       "\n",
       "    .dataframe tbody tr th {\n",
       "        vertical-align: top;\n",
       "    }\n",
       "\n",
       "    .dataframe thead th {\n",
       "        text-align: right;\n",
       "    }\n",
       "</style>\n",
       "<table border=\"1\" class=\"dataframe\">\n",
       "  <thead>\n",
       "    <tr style=\"text-align: right;\">\n",
       "      <th></th>\n",
       "      <th>Label</th>\n",
       "      <th>Msg1</th>\n",
       "      <th>Msg1_len</th>\n",
       "      <th>Msg_NSW</th>\n",
       "      <th>Msg_NSW_Len</th>\n",
       "    </tr>\n",
       "  </thead>\n",
       "  <tbody>\n",
       "    <tr>\n",
       "      <th>0</th>\n",
       "      <td>ham</td>\n",
       "      <td>Go until jurong point crazy Available only in ...</td>\n",
       "      <td>102</td>\n",
       "      <td>Go jurong point crazy Available bugis n great ...</td>\n",
       "      <td>82</td>\n",
       "    </tr>\n",
       "    <tr>\n",
       "      <th>1</th>\n",
       "      <td>ham</td>\n",
       "      <td>Ok lar Joking wif u oni</td>\n",
       "      <td>23</td>\n",
       "      <td>Ok lar Joking wif u oni</td>\n",
       "      <td>23</td>\n",
       "    </tr>\n",
       "    <tr>\n",
       "      <th>2</th>\n",
       "      <td>spam</td>\n",
       "      <td>Free entry in 2 a wkly comp to win FA Cup fina...</td>\n",
       "      <td>149</td>\n",
       "      <td>Free entry 2 wkly comp win FA Cup final tkts 2...</td>\n",
       "      <td>135</td>\n",
       "    </tr>\n",
       "    <tr>\n",
       "      <th>3</th>\n",
       "      <td>ham</td>\n",
       "      <td>U dun say so early hor U c already then say</td>\n",
       "      <td>43</td>\n",
       "      <td>U dun say early hor U c already say</td>\n",
       "      <td>35</td>\n",
       "    </tr>\n",
       "    <tr>\n",
       "      <th>4</th>\n",
       "      <td>ham</td>\n",
       "      <td>Nah I dont think he goes to usf he lives aroun...</td>\n",
       "      <td>59</td>\n",
       "      <td>Nah I dont think goes usf lives around though</td>\n",
       "      <td>45</td>\n",
       "    </tr>\n",
       "    <tr>\n",
       "      <th>...</th>\n",
       "      <td>...</td>\n",
       "      <td>...</td>\n",
       "      <td>...</td>\n",
       "      <td>...</td>\n",
       "      <td>...</td>\n",
       "    </tr>\n",
       "    <tr>\n",
       "      <th>5567</th>\n",
       "      <td>spam</td>\n",
       "      <td>This is the 2nd time we have tried 2 contact u...</td>\n",
       "      <td>153</td>\n",
       "      <td>This 2nd time tried 2 contact u U Â£750 Pound ...</td>\n",
       "      <td>122</td>\n",
       "    </tr>\n",
       "    <tr>\n",
       "      <th>5568</th>\n",
       "      <td>ham</td>\n",
       "      <td>Will Ã b going to esplanade fr home</td>\n",
       "      <td>35</td>\n",
       "      <td>Will Ã b going esplanade fr home</td>\n",
       "      <td>32</td>\n",
       "    </tr>\n",
       "    <tr>\n",
       "      <th>5569</th>\n",
       "      <td>ham</td>\n",
       "      <td>Pity  was in mood for that Soany other suggest...</td>\n",
       "      <td>50</td>\n",
       "      <td>Pity mood Soany suggestions</td>\n",
       "      <td>27</td>\n",
       "    </tr>\n",
       "    <tr>\n",
       "      <th>5570</th>\n",
       "      <td>ham</td>\n",
       "      <td>The guy did some bitching but I acted like id ...</td>\n",
       "      <td>124</td>\n",
       "      <td>The guy bitching I acted like id interested bu...</td>\n",
       "      <td>88</td>\n",
       "    </tr>\n",
       "    <tr>\n",
       "      <th>5571</th>\n",
       "      <td>ham</td>\n",
       "      <td>Rofl Its true to its name</td>\n",
       "      <td>25</td>\n",
       "      <td>Rofl Its true name</td>\n",
       "      <td>18</td>\n",
       "    </tr>\n",
       "  </tbody>\n",
       "</table>\n",
       "<p>5572 rows × 5 columns</p>\n",
       "</div>"
      ],
      "text/plain": [
       "     Label                                               Msg1  Msg1_len  \\\n",
       "0      ham  Go until jurong point crazy Available only in ...       102   \n",
       "1      ham                            Ok lar Joking wif u oni        23   \n",
       "2     spam  Free entry in 2 a wkly comp to win FA Cup fina...       149   \n",
       "3      ham        U dun say so early hor U c already then say        43   \n",
       "4      ham  Nah I dont think he goes to usf he lives aroun...        59   \n",
       "...    ...                                                ...       ...   \n",
       "5567  spam  This is the 2nd time we have tried 2 contact u...       153   \n",
       "5568   ham                Will Ã b going to esplanade fr home        35   \n",
       "5569   ham  Pity  was in mood for that Soany other suggest...        50   \n",
       "5570   ham  The guy did some bitching but I acted like id ...       124   \n",
       "5571   ham                          Rofl Its true to its name        25   \n",
       "\n",
       "                                                Msg_NSW  Msg_NSW_Len  \n",
       "0     Go jurong point crazy Available bugis n great ...           82  \n",
       "1                               Ok lar Joking wif u oni           23  \n",
       "2     Free entry 2 wkly comp win FA Cup final tkts 2...          135  \n",
       "3                   U dun say early hor U c already say           35  \n",
       "4         Nah I dont think goes usf lives around though           45  \n",
       "...                                                 ...          ...  \n",
       "5567  This 2nd time tried 2 contact u U Â£750 Pound ...          122  \n",
       "5568                   Will Ã b going esplanade fr home           32  \n",
       "5569                        Pity mood Soany suggestions           27  \n",
       "5570  The guy bitching I acted like id interested bu...           88  \n",
       "5571                                 Rofl Its true name           18  \n",
       "\n",
       "[5572 rows x 5 columns]"
      ]
     },
     "execution_count": 886,
     "metadata": {},
     "output_type": "execute_result"
    }
   ],
   "source": [
    "dfspam1"
   ]
  },
  {
   "cell_type": "markdown",
   "id": "6b095d3a",
   "metadata": {},
   "source": [
    "## Tokenization"
   ]
  },
  {
   "cell_type": "code",
   "execution_count": 887,
   "id": "61e8293e",
   "metadata": {},
   "outputs": [],
   "source": [
    "from nltk.tokenize import word_tokenize"
   ]
  },
  {
   "cell_type": "markdown",
   "id": "472b81e2",
   "metadata": {},
   "source": [
    "## Stemming"
   ]
  },
  {
   "cell_type": "code",
   "execution_count": 888,
   "id": "90728f2f",
   "metadata": {},
   "outputs": [],
   "source": [
    "from nltk.stem import PorterStemmer"
   ]
  },
  {
   "cell_type": "code",
   "execution_count": 889,
   "id": "9ea4cd0d",
   "metadata": {},
   "outputs": [],
   "source": [
    "porter = PorterStemmer()"
   ]
  },
  {
   "cell_type": "code",
   "execution_count": 890,
   "id": "3eb655e4",
   "metadata": {},
   "outputs": [
    {
     "data": {
      "text/plain": [
       "['Go',\n",
       " 'jurong',\n",
       " 'point',\n",
       " 'crazy',\n",
       " 'Available',\n",
       " 'bugis',\n",
       " 'n',\n",
       " 'great',\n",
       " 'world',\n",
       " 'la',\n",
       " 'e',\n",
       " 'buffet',\n",
       " 'Cine',\n",
       " 'got',\n",
       " 'amore',\n",
       " 'wat']"
      ]
     },
     "execution_count": 890,
     "metadata": {},
     "output_type": "execute_result"
    }
   ],
   "source": [
    "word_tokenize(dfspam1[\"Msg_NSW\"][0])"
   ]
  },
  {
   "cell_type": "code",
   "execution_count": 891,
   "id": "51706376",
   "metadata": {},
   "outputs": [
    {
     "data": {
      "text/plain": [
       "['Go',\n",
       " 'jurong',\n",
       " 'point',\n",
       " 'crazy',\n",
       " 'Available',\n",
       " 'bugis',\n",
       " 'great',\n",
       " 'world',\n",
       " 'la',\n",
       " 'buffet',\n",
       " 'Cine',\n",
       " 'got',\n",
       " 'amore',\n",
       " 'wat']"
      ]
     },
     "execution_count": 891,
     "metadata": {},
     "output_type": "execute_result"
    }
   ],
   "source": [
    "## For removing the short words \n",
    "\n",
    "[i for i in dfspam1[\"Msg_NSW\"][0].split() if len(i) > 1]"
   ]
  },
  {
   "cell_type": "code",
   "execution_count": 892,
   "id": "fb6c14b2",
   "metadata": {},
   "outputs": [],
   "source": [
    "## For Whole Column of msg\n",
    "\n",
    "#  dfspam1[\"Msg_NSW\"].map(lambda x : [i for i in x.split() if len(i) > 1])"
   ]
  },
  {
   "cell_type": "code",
   "execution_count": 893,
   "id": "c1a60c18",
   "metadata": {},
   "outputs": [
    {
     "data": {
      "text/plain": [
       "['go',\n",
       " 'jurong',\n",
       " 'point',\n",
       " 'crazi',\n",
       " 'avail',\n",
       " 'bugi',\n",
       " 'n',\n",
       " 'great',\n",
       " 'world',\n",
       " 'la',\n",
       " 'e',\n",
       " 'buffet',\n",
       " 'cine',\n",
       " 'got',\n",
       " 'amor',\n",
       " 'wat']"
      ]
     },
     "execution_count": 893,
     "metadata": {},
     "output_type": "execute_result"
    }
   ],
   "source": [
    "[porter.stem(i) for i in word_tokenize(dfspam1[\"Msg_NSW\"][0]) ]"
   ]
  },
  {
   "cell_type": "code",
   "execution_count": 894,
   "id": "face0d6e",
   "metadata": {},
   "outputs": [
    {
     "data": {
      "text/plain": [
       "0       Go jurong point crazy Available bugis n great ...\n",
       "1                                 Ok lar Joking wif u oni\n",
       "2       Free entry 2 wkly comp win FA Cup final tkts 2...\n",
       "3                     U dun say early hor U c already say\n",
       "4           Nah I dont think goes usf lives around though\n",
       "                              ...                        \n",
       "5567    This 2nd time tried 2 contact u U Â£750 Pound ...\n",
       "5568                     Will Ã b going esplanade fr home\n",
       "5569                          Pity mood Soany suggestions\n",
       "5570    The guy bitching I acted like id interested bu...\n",
       "5571                                   Rofl Its true name\n",
       "Name: Msg_NSW, Length: 5572, dtype: object"
      ]
     },
     "execution_count": 894,
     "metadata": {},
     "output_type": "execute_result"
    }
   ],
   "source": [
    "dfspam1[\"Msg_NSW\"]"
   ]
  },
  {
   "cell_type": "code",
   "execution_count": 895,
   "id": "3fed3b78",
   "metadata": {},
   "outputs": [],
   "source": [
    "dfspam1[\"Msg_stem\"] = dfspam1[\"Msg_NSW\"].map(lambda x :\" \".join([porter.stem(i) for i in word_tokenize(x) ]) )"
   ]
  },
  {
   "cell_type": "code",
   "execution_count": 896,
   "id": "0afa04a7",
   "metadata": {},
   "outputs": [],
   "source": [
    "dfspam1[\"Msg_stem_len\"] = dfspam1[\"Msg_stem\"].map(lambda x : len(x))"
   ]
  },
  {
   "cell_type": "code",
   "execution_count": 897,
   "id": "c0645786",
   "metadata": {},
   "outputs": [
    {
     "data": {
      "text/html": [
       "<div>\n",
       "<style scoped>\n",
       "    .dataframe tbody tr th:only-of-type {\n",
       "        vertical-align: middle;\n",
       "    }\n",
       "\n",
       "    .dataframe tbody tr th {\n",
       "        vertical-align: top;\n",
       "    }\n",
       "\n",
       "    .dataframe thead th {\n",
       "        text-align: right;\n",
       "    }\n",
       "</style>\n",
       "<table border=\"1\" class=\"dataframe\">\n",
       "  <thead>\n",
       "    <tr style=\"text-align: right;\">\n",
       "      <th></th>\n",
       "      <th>Label</th>\n",
       "      <th>Msg1</th>\n",
       "      <th>Msg1_len</th>\n",
       "      <th>Msg_NSW</th>\n",
       "      <th>Msg_NSW_Len</th>\n",
       "      <th>Msg_stem</th>\n",
       "      <th>Msg_stem_len</th>\n",
       "    </tr>\n",
       "  </thead>\n",
       "  <tbody>\n",
       "    <tr>\n",
       "      <th>0</th>\n",
       "      <td>ham</td>\n",
       "      <td>Go until jurong point crazy Available only in ...</td>\n",
       "      <td>102</td>\n",
       "      <td>Go jurong point crazy Available bugis n great ...</td>\n",
       "      <td>82</td>\n",
       "      <td>go jurong point crazi avail bugi n great world...</td>\n",
       "      <td>76</td>\n",
       "    </tr>\n",
       "    <tr>\n",
       "      <th>1</th>\n",
       "      <td>ham</td>\n",
       "      <td>Ok lar Joking wif u oni</td>\n",
       "      <td>23</td>\n",
       "      <td>Ok lar Joking wif u oni</td>\n",
       "      <td>23</td>\n",
       "      <td>ok lar joke wif u oni</td>\n",
       "      <td>21</td>\n",
       "    </tr>\n",
       "    <tr>\n",
       "      <th>2</th>\n",
       "      <td>spam</td>\n",
       "      <td>Free entry in 2 a wkly comp to win FA Cup fina...</td>\n",
       "      <td>149</td>\n",
       "      <td>Free entry 2 wkly comp win FA Cup final tkts 2...</td>\n",
       "      <td>135</td>\n",
       "      <td>free entri 2 wkli comp win fa cup final tkt 21...</td>\n",
       "      <td>131</td>\n",
       "    </tr>\n",
       "    <tr>\n",
       "      <th>3</th>\n",
       "      <td>ham</td>\n",
       "      <td>U dun say so early hor U c already then say</td>\n",
       "      <td>43</td>\n",
       "      <td>U dun say early hor U c already say</td>\n",
       "      <td>35</td>\n",
       "      <td>u dun say earli hor u c alreadi say</td>\n",
       "      <td>35</td>\n",
       "    </tr>\n",
       "    <tr>\n",
       "      <th>4</th>\n",
       "      <td>ham</td>\n",
       "      <td>Nah I dont think he goes to usf he lives aroun...</td>\n",
       "      <td>59</td>\n",
       "      <td>Nah I dont think goes usf lives around though</td>\n",
       "      <td>45</td>\n",
       "      <td>nah i dont think goe usf live around though</td>\n",
       "      <td>43</td>\n",
       "    </tr>\n",
       "    <tr>\n",
       "      <th>...</th>\n",
       "      <td>...</td>\n",
       "      <td>...</td>\n",
       "      <td>...</td>\n",
       "      <td>...</td>\n",
       "      <td>...</td>\n",
       "      <td>...</td>\n",
       "      <td>...</td>\n",
       "    </tr>\n",
       "    <tr>\n",
       "      <th>5567</th>\n",
       "      <td>spam</td>\n",
       "      <td>This is the 2nd time we have tried 2 contact u...</td>\n",
       "      <td>153</td>\n",
       "      <td>This 2nd time tried 2 contact u U Â£750 Pound ...</td>\n",
       "      <td>122</td>\n",
       "      <td>thi 2nd time tri 2 contact u u â£750 pound pri...</td>\n",
       "      <td>115</td>\n",
       "    </tr>\n",
       "    <tr>\n",
       "      <th>5568</th>\n",
       "      <td>ham</td>\n",
       "      <td>Will Ã b going to esplanade fr home</td>\n",
       "      <td>35</td>\n",
       "      <td>Will Ã b going esplanade fr home</td>\n",
       "      <td>32</td>\n",
       "      <td>will ã b go esplanad fr home</td>\n",
       "      <td>28</td>\n",
       "    </tr>\n",
       "    <tr>\n",
       "      <th>5569</th>\n",
       "      <td>ham</td>\n",
       "      <td>Pity  was in mood for that Soany other suggest...</td>\n",
       "      <td>50</td>\n",
       "      <td>Pity mood Soany suggestions</td>\n",
       "      <td>27</td>\n",
       "      <td>piti mood soani suggest</td>\n",
       "      <td>23</td>\n",
       "    </tr>\n",
       "    <tr>\n",
       "      <th>5570</th>\n",
       "      <td>ham</td>\n",
       "      <td>The guy did some bitching but I acted like id ...</td>\n",
       "      <td>124</td>\n",
       "      <td>The guy bitching I acted like id interested bu...</td>\n",
       "      <td>88</td>\n",
       "      <td>the guy bitch i act like id interest buy somet...</td>\n",
       "      <td>74</td>\n",
       "    </tr>\n",
       "    <tr>\n",
       "      <th>5571</th>\n",
       "      <td>ham</td>\n",
       "      <td>Rofl Its true to its name</td>\n",
       "      <td>25</td>\n",
       "      <td>Rofl Its true name</td>\n",
       "      <td>18</td>\n",
       "      <td>rofl it true name</td>\n",
       "      <td>17</td>\n",
       "    </tr>\n",
       "  </tbody>\n",
       "</table>\n",
       "<p>5572 rows × 7 columns</p>\n",
       "</div>"
      ],
      "text/plain": [
       "     Label                                               Msg1  Msg1_len  \\\n",
       "0      ham  Go until jurong point crazy Available only in ...       102   \n",
       "1      ham                            Ok lar Joking wif u oni        23   \n",
       "2     spam  Free entry in 2 a wkly comp to win FA Cup fina...       149   \n",
       "3      ham        U dun say so early hor U c already then say        43   \n",
       "4      ham  Nah I dont think he goes to usf he lives aroun...        59   \n",
       "...    ...                                                ...       ...   \n",
       "5567  spam  This is the 2nd time we have tried 2 contact u...       153   \n",
       "5568   ham                Will Ã b going to esplanade fr home        35   \n",
       "5569   ham  Pity  was in mood for that Soany other suggest...        50   \n",
       "5570   ham  The guy did some bitching but I acted like id ...       124   \n",
       "5571   ham                          Rofl Its true to its name        25   \n",
       "\n",
       "                                                Msg_NSW  Msg_NSW_Len  \\\n",
       "0     Go jurong point crazy Available bugis n great ...           82   \n",
       "1                               Ok lar Joking wif u oni           23   \n",
       "2     Free entry 2 wkly comp win FA Cup final tkts 2...          135   \n",
       "3                   U dun say early hor U c already say           35   \n",
       "4         Nah I dont think goes usf lives around though           45   \n",
       "...                                                 ...          ...   \n",
       "5567  This 2nd time tried 2 contact u U Â£750 Pound ...          122   \n",
       "5568                   Will Ã b going esplanade fr home           32   \n",
       "5569                        Pity mood Soany suggestions           27   \n",
       "5570  The guy bitching I acted like id interested bu...           88   \n",
       "5571                                 Rofl Its true name           18   \n",
       "\n",
       "                                               Msg_stem  Msg_stem_len  \n",
       "0     go jurong point crazi avail bugi n great world...            76  \n",
       "1                                 ok lar joke wif u oni            21  \n",
       "2     free entri 2 wkli comp win fa cup final tkt 21...           131  \n",
       "3                   u dun say earli hor u c alreadi say            35  \n",
       "4           nah i dont think goe usf live around though            43  \n",
       "...                                                 ...           ...  \n",
       "5567  thi 2nd time tri 2 contact u u â£750 pound pri...           115  \n",
       "5568                       will ã b go esplanad fr home            28  \n",
       "5569                            piti mood soani suggest            23  \n",
       "5570  the guy bitch i act like id interest buy somet...            74  \n",
       "5571                                  rofl it true name            17  \n",
       "\n",
       "[5572 rows x 7 columns]"
      ]
     },
     "execution_count": 897,
     "metadata": {},
     "output_type": "execute_result"
    }
   ],
   "source": [
    "dfspam1"
   ]
  },
  {
   "cell_type": "code",
   "execution_count": 898,
   "id": "a1e5483a",
   "metadata": {},
   "outputs": [
    {
     "data": {
      "text/plain": [
       "Index(['Label', 'Msg1', 'Msg1_len', 'Msg_NSW', 'Msg_NSW_Len', 'Msg_stem',\n",
       "       'Msg_stem_len'],\n",
       "      dtype='object')"
      ]
     },
     "execution_count": 898,
     "metadata": {},
     "output_type": "execute_result"
    }
   ],
   "source": [
    "dfspam1.columns"
   ]
  },
  {
   "cell_type": "code",
   "execution_count": 899,
   "id": "61135082",
   "metadata": {},
   "outputs": [],
   "source": [
    "dfspamfinal = dfspam1.drop([ 'Msg1', 'Msg1_len', 'Msg_NSW', 'Msg_NSW_Len'],axis=1)"
   ]
  },
  {
   "cell_type": "code",
   "execution_count": 900,
   "id": "25147295",
   "metadata": {},
   "outputs": [
    {
     "data": {
      "text/html": [
       "<div>\n",
       "<style scoped>\n",
       "    .dataframe tbody tr th:only-of-type {\n",
       "        vertical-align: middle;\n",
       "    }\n",
       "\n",
       "    .dataframe tbody tr th {\n",
       "        vertical-align: top;\n",
       "    }\n",
       "\n",
       "    .dataframe thead th {\n",
       "        text-align: right;\n",
       "    }\n",
       "</style>\n",
       "<table border=\"1\" class=\"dataframe\">\n",
       "  <thead>\n",
       "    <tr style=\"text-align: right;\">\n",
       "      <th></th>\n",
       "      <th>Label</th>\n",
       "      <th>Msg_stem</th>\n",
       "      <th>Msg_stem_len</th>\n",
       "    </tr>\n",
       "  </thead>\n",
       "  <tbody>\n",
       "    <tr>\n",
       "      <th>0</th>\n",
       "      <td>ham</td>\n",
       "      <td>go jurong point crazi avail bugi n great world...</td>\n",
       "      <td>76</td>\n",
       "    </tr>\n",
       "    <tr>\n",
       "      <th>1</th>\n",
       "      <td>ham</td>\n",
       "      <td>ok lar joke wif u oni</td>\n",
       "      <td>21</td>\n",
       "    </tr>\n",
       "    <tr>\n",
       "      <th>2</th>\n",
       "      <td>spam</td>\n",
       "      <td>free entri 2 wkli comp win fa cup final tkt 21...</td>\n",
       "      <td>131</td>\n",
       "    </tr>\n",
       "    <tr>\n",
       "      <th>3</th>\n",
       "      <td>ham</td>\n",
       "      <td>u dun say earli hor u c alreadi say</td>\n",
       "      <td>35</td>\n",
       "    </tr>\n",
       "    <tr>\n",
       "      <th>4</th>\n",
       "      <td>ham</td>\n",
       "      <td>nah i dont think goe usf live around though</td>\n",
       "      <td>43</td>\n",
       "    </tr>\n",
       "    <tr>\n",
       "      <th>...</th>\n",
       "      <td>...</td>\n",
       "      <td>...</td>\n",
       "      <td>...</td>\n",
       "    </tr>\n",
       "    <tr>\n",
       "      <th>5567</th>\n",
       "      <td>spam</td>\n",
       "      <td>thi 2nd time tri 2 contact u u â£750 pound pri...</td>\n",
       "      <td>115</td>\n",
       "    </tr>\n",
       "    <tr>\n",
       "      <th>5568</th>\n",
       "      <td>ham</td>\n",
       "      <td>will ã b go esplanad fr home</td>\n",
       "      <td>28</td>\n",
       "    </tr>\n",
       "    <tr>\n",
       "      <th>5569</th>\n",
       "      <td>ham</td>\n",
       "      <td>piti mood soani suggest</td>\n",
       "      <td>23</td>\n",
       "    </tr>\n",
       "    <tr>\n",
       "      <th>5570</th>\n",
       "      <td>ham</td>\n",
       "      <td>the guy bitch i act like id interest buy somet...</td>\n",
       "      <td>74</td>\n",
       "    </tr>\n",
       "    <tr>\n",
       "      <th>5571</th>\n",
       "      <td>ham</td>\n",
       "      <td>rofl it true name</td>\n",
       "      <td>17</td>\n",
       "    </tr>\n",
       "  </tbody>\n",
       "</table>\n",
       "<p>5572 rows × 3 columns</p>\n",
       "</div>"
      ],
      "text/plain": [
       "     Label                                           Msg_stem  Msg_stem_len\n",
       "0      ham  go jurong point crazi avail bugi n great world...            76\n",
       "1      ham                              ok lar joke wif u oni            21\n",
       "2     spam  free entri 2 wkli comp win fa cup final tkt 21...           131\n",
       "3      ham                u dun say earli hor u c alreadi say            35\n",
       "4      ham        nah i dont think goe usf live around though            43\n",
       "...    ...                                                ...           ...\n",
       "5567  spam  thi 2nd time tri 2 contact u u â£750 pound pri...           115\n",
       "5568   ham                       will ã b go esplanad fr home            28\n",
       "5569   ham                            piti mood soani suggest            23\n",
       "5570   ham  the guy bitch i act like id interest buy somet...            74\n",
       "5571   ham                                  rofl it true name            17\n",
       "\n",
       "[5572 rows x 3 columns]"
      ]
     },
     "execution_count": 900,
     "metadata": {},
     "output_type": "execute_result"
    }
   ],
   "source": [
    "dfspamfinal"
   ]
  },
  {
   "cell_type": "code",
   "execution_count": 901,
   "id": "fbda3ff0",
   "metadata": {},
   "outputs": [],
   "source": [
    "dfspamfinal.drop(\"Msg_stem_len\",axis=1,inplace=True)"
   ]
  },
  {
   "cell_type": "code",
   "execution_count": 902,
   "id": "a4f6f232",
   "metadata": {},
   "outputs": [
    {
     "data": {
      "text/html": [
       "<div>\n",
       "<style scoped>\n",
       "    .dataframe tbody tr th:only-of-type {\n",
       "        vertical-align: middle;\n",
       "    }\n",
       "\n",
       "    .dataframe tbody tr th {\n",
       "        vertical-align: top;\n",
       "    }\n",
       "\n",
       "    .dataframe thead th {\n",
       "        text-align: right;\n",
       "    }\n",
       "</style>\n",
       "<table border=\"1\" class=\"dataframe\">\n",
       "  <thead>\n",
       "    <tr style=\"text-align: right;\">\n",
       "      <th></th>\n",
       "      <th>Label</th>\n",
       "      <th>Msg_stem</th>\n",
       "    </tr>\n",
       "  </thead>\n",
       "  <tbody>\n",
       "    <tr>\n",
       "      <th>0</th>\n",
       "      <td>ham</td>\n",
       "      <td>go jurong point crazi avail bugi n great world...</td>\n",
       "    </tr>\n",
       "    <tr>\n",
       "      <th>1</th>\n",
       "      <td>ham</td>\n",
       "      <td>ok lar joke wif u oni</td>\n",
       "    </tr>\n",
       "    <tr>\n",
       "      <th>2</th>\n",
       "      <td>spam</td>\n",
       "      <td>free entri 2 wkli comp win fa cup final tkt 21...</td>\n",
       "    </tr>\n",
       "    <tr>\n",
       "      <th>3</th>\n",
       "      <td>ham</td>\n",
       "      <td>u dun say earli hor u c alreadi say</td>\n",
       "    </tr>\n",
       "    <tr>\n",
       "      <th>4</th>\n",
       "      <td>ham</td>\n",
       "      <td>nah i dont think goe usf live around though</td>\n",
       "    </tr>\n",
       "    <tr>\n",
       "      <th>...</th>\n",
       "      <td>...</td>\n",
       "      <td>...</td>\n",
       "    </tr>\n",
       "    <tr>\n",
       "      <th>5567</th>\n",
       "      <td>spam</td>\n",
       "      <td>thi 2nd time tri 2 contact u u â£750 pound pri...</td>\n",
       "    </tr>\n",
       "    <tr>\n",
       "      <th>5568</th>\n",
       "      <td>ham</td>\n",
       "      <td>will ã b go esplanad fr home</td>\n",
       "    </tr>\n",
       "    <tr>\n",
       "      <th>5569</th>\n",
       "      <td>ham</td>\n",
       "      <td>piti mood soani suggest</td>\n",
       "    </tr>\n",
       "    <tr>\n",
       "      <th>5570</th>\n",
       "      <td>ham</td>\n",
       "      <td>the guy bitch i act like id interest buy somet...</td>\n",
       "    </tr>\n",
       "    <tr>\n",
       "      <th>5571</th>\n",
       "      <td>ham</td>\n",
       "      <td>rofl it true name</td>\n",
       "    </tr>\n",
       "  </tbody>\n",
       "</table>\n",
       "<p>5572 rows × 2 columns</p>\n",
       "</div>"
      ],
      "text/plain": [
       "     Label                                           Msg_stem\n",
       "0      ham  go jurong point crazi avail bugi n great world...\n",
       "1      ham                              ok lar joke wif u oni\n",
       "2     spam  free entri 2 wkli comp win fa cup final tkt 21...\n",
       "3      ham                u dun say earli hor u c alreadi say\n",
       "4      ham        nah i dont think goe usf live around though\n",
       "...    ...                                                ...\n",
       "5567  spam  thi 2nd time tri 2 contact u u â£750 pound pri...\n",
       "5568   ham                       will ã b go esplanad fr home\n",
       "5569   ham                            piti mood soani suggest\n",
       "5570   ham  the guy bitch i act like id interest buy somet...\n",
       "5571   ham                                  rofl it true name\n",
       "\n",
       "[5572 rows x 2 columns]"
      ]
     },
     "execution_count": 902,
     "metadata": {},
     "output_type": "execute_result"
    }
   ],
   "source": [
    "dfspamfinal"
   ]
  },
  {
   "cell_type": "code",
   "execution_count": 903,
   "id": "a3fa3f60",
   "metadata": {},
   "outputs": [],
   "source": [
    "dfspamfinal.columns = ['Label', 'Msg']"
   ]
  },
  {
   "cell_type": "code",
   "execution_count": 904,
   "id": "0f0e6373",
   "metadata": {},
   "outputs": [
    {
     "data": {
      "text/html": [
       "<div>\n",
       "<style scoped>\n",
       "    .dataframe tbody tr th:only-of-type {\n",
       "        vertical-align: middle;\n",
       "    }\n",
       "\n",
       "    .dataframe tbody tr th {\n",
       "        vertical-align: top;\n",
       "    }\n",
       "\n",
       "    .dataframe thead th {\n",
       "        text-align: right;\n",
       "    }\n",
       "</style>\n",
       "<table border=\"1\" class=\"dataframe\">\n",
       "  <thead>\n",
       "    <tr style=\"text-align: right;\">\n",
       "      <th></th>\n",
       "      <th>Label</th>\n",
       "      <th>Msg</th>\n",
       "    </tr>\n",
       "  </thead>\n",
       "  <tbody>\n",
       "    <tr>\n",
       "      <th>0</th>\n",
       "      <td>ham</td>\n",
       "      <td>go jurong point crazi avail bugi n great world...</td>\n",
       "    </tr>\n",
       "    <tr>\n",
       "      <th>1</th>\n",
       "      <td>ham</td>\n",
       "      <td>ok lar joke wif u oni</td>\n",
       "    </tr>\n",
       "    <tr>\n",
       "      <th>2</th>\n",
       "      <td>spam</td>\n",
       "      <td>free entri 2 wkli comp win fa cup final tkt 21...</td>\n",
       "    </tr>\n",
       "    <tr>\n",
       "      <th>3</th>\n",
       "      <td>ham</td>\n",
       "      <td>u dun say earli hor u c alreadi say</td>\n",
       "    </tr>\n",
       "    <tr>\n",
       "      <th>4</th>\n",
       "      <td>ham</td>\n",
       "      <td>nah i dont think goe usf live around though</td>\n",
       "    </tr>\n",
       "    <tr>\n",
       "      <th>...</th>\n",
       "      <td>...</td>\n",
       "      <td>...</td>\n",
       "    </tr>\n",
       "    <tr>\n",
       "      <th>5567</th>\n",
       "      <td>spam</td>\n",
       "      <td>thi 2nd time tri 2 contact u u â£750 pound pri...</td>\n",
       "    </tr>\n",
       "    <tr>\n",
       "      <th>5568</th>\n",
       "      <td>ham</td>\n",
       "      <td>will ã b go esplanad fr home</td>\n",
       "    </tr>\n",
       "    <tr>\n",
       "      <th>5569</th>\n",
       "      <td>ham</td>\n",
       "      <td>piti mood soani suggest</td>\n",
       "    </tr>\n",
       "    <tr>\n",
       "      <th>5570</th>\n",
       "      <td>ham</td>\n",
       "      <td>the guy bitch i act like id interest buy somet...</td>\n",
       "    </tr>\n",
       "    <tr>\n",
       "      <th>5571</th>\n",
       "      <td>ham</td>\n",
       "      <td>rofl it true name</td>\n",
       "    </tr>\n",
       "  </tbody>\n",
       "</table>\n",
       "<p>5572 rows × 2 columns</p>\n",
       "</div>"
      ],
      "text/plain": [
       "     Label                                                Msg\n",
       "0      ham  go jurong point crazi avail bugi n great world...\n",
       "1      ham                              ok lar joke wif u oni\n",
       "2     spam  free entri 2 wkli comp win fa cup final tkt 21...\n",
       "3      ham                u dun say earli hor u c alreadi say\n",
       "4      ham        nah i dont think goe usf live around though\n",
       "...    ...                                                ...\n",
       "5567  spam  thi 2nd time tri 2 contact u u â£750 pound pri...\n",
       "5568   ham                       will ã b go esplanad fr home\n",
       "5569   ham                            piti mood soani suggest\n",
       "5570   ham  the guy bitch i act like id interest buy somet...\n",
       "5571   ham                                  rofl it true name\n",
       "\n",
       "[5572 rows x 2 columns]"
      ]
     },
     "execution_count": 904,
     "metadata": {},
     "output_type": "execute_result"
    }
   ],
   "source": [
    "dfspamfinal"
   ]
  },
  {
   "cell_type": "code",
   "execution_count": 905,
   "id": "af77bad5",
   "metadata": {},
   "outputs": [],
   "source": [
    "from sklearn.preprocessing import LabelEncoder"
   ]
  },
  {
   "cell_type": "code",
   "execution_count": 906,
   "id": "e34b77de",
   "metadata": {},
   "outputs": [],
   "source": [
    "le = LabelEncoder()"
   ]
  },
  {
   "cell_type": "code",
   "execution_count": 907,
   "id": "537bacb4",
   "metadata": {},
   "outputs": [],
   "source": [
    "ary1 = le.fit_transform(dfspamfinal[\"Label\"])"
   ]
  },
  {
   "cell_type": "code",
   "execution_count": 908,
   "id": "d8cd10d7",
   "metadata": {},
   "outputs": [
    {
     "data": {
      "text/plain": [
       "array(['ham', 'spam'], dtype=object)"
      ]
     },
     "execution_count": 908,
     "metadata": {},
     "output_type": "execute_result"
    }
   ],
   "source": [
    "le.classes_"
   ]
  },
  {
   "cell_type": "code",
   "execution_count": 909,
   "id": "13b55c69",
   "metadata": {},
   "outputs": [],
   "source": [
    "dfary1 = pd.DataFrame(ary1,columns=[\"label\"])"
   ]
  },
  {
   "cell_type": "code",
   "execution_count": 910,
   "id": "70f0f9ef",
   "metadata": {},
   "outputs": [
    {
     "data": {
      "text/html": [
       "<div>\n",
       "<style scoped>\n",
       "    .dataframe tbody tr th:only-of-type {\n",
       "        vertical-align: middle;\n",
       "    }\n",
       "\n",
       "    .dataframe tbody tr th {\n",
       "        vertical-align: top;\n",
       "    }\n",
       "\n",
       "    .dataframe thead th {\n",
       "        text-align: right;\n",
       "    }\n",
       "</style>\n",
       "<table border=\"1\" class=\"dataframe\">\n",
       "  <thead>\n",
       "    <tr style=\"text-align: right;\">\n",
       "      <th></th>\n",
       "      <th>label</th>\n",
       "    </tr>\n",
       "  </thead>\n",
       "  <tbody>\n",
       "    <tr>\n",
       "      <th>0</th>\n",
       "      <td>0</td>\n",
       "    </tr>\n",
       "    <tr>\n",
       "      <th>1</th>\n",
       "      <td>0</td>\n",
       "    </tr>\n",
       "    <tr>\n",
       "      <th>2</th>\n",
       "      <td>1</td>\n",
       "    </tr>\n",
       "    <tr>\n",
       "      <th>3</th>\n",
       "      <td>0</td>\n",
       "    </tr>\n",
       "    <tr>\n",
       "      <th>4</th>\n",
       "      <td>0</td>\n",
       "    </tr>\n",
       "    <tr>\n",
       "      <th>...</th>\n",
       "      <td>...</td>\n",
       "    </tr>\n",
       "    <tr>\n",
       "      <th>5567</th>\n",
       "      <td>1</td>\n",
       "    </tr>\n",
       "    <tr>\n",
       "      <th>5568</th>\n",
       "      <td>0</td>\n",
       "    </tr>\n",
       "    <tr>\n",
       "      <th>5569</th>\n",
       "      <td>0</td>\n",
       "    </tr>\n",
       "    <tr>\n",
       "      <th>5570</th>\n",
       "      <td>0</td>\n",
       "    </tr>\n",
       "    <tr>\n",
       "      <th>5571</th>\n",
       "      <td>0</td>\n",
       "    </tr>\n",
       "  </tbody>\n",
       "</table>\n",
       "<p>5572 rows × 1 columns</p>\n",
       "</div>"
      ],
      "text/plain": [
       "      label\n",
       "0         0\n",
       "1         0\n",
       "2         1\n",
       "3         0\n",
       "4         0\n",
       "...     ...\n",
       "5567      1\n",
       "5568      0\n",
       "5569      0\n",
       "5570      0\n",
       "5571      0\n",
       "\n",
       "[5572 rows x 1 columns]"
      ]
     },
     "execution_count": 910,
     "metadata": {},
     "output_type": "execute_result"
    }
   ],
   "source": [
    "dfary1"
   ]
  },
  {
   "cell_type": "code",
   "execution_count": 911,
   "id": "9aa742cd",
   "metadata": {},
   "outputs": [],
   "source": [
    "dfspamfinal = pd.concat([dfspamfinal,dfary1],axis=1)"
   ]
  },
  {
   "cell_type": "code",
   "execution_count": 912,
   "id": "27e73dc0",
   "metadata": {},
   "outputs": [],
   "source": [
    "dfspamfinal.drop(\"Label\",axis=1,inplace=True)"
   ]
  },
  {
   "cell_type": "code",
   "execution_count": 913,
   "id": "7555fa9e",
   "metadata": {},
   "outputs": [
    {
     "data": {
      "text/html": [
       "<div>\n",
       "<style scoped>\n",
       "    .dataframe tbody tr th:only-of-type {\n",
       "        vertical-align: middle;\n",
       "    }\n",
       "\n",
       "    .dataframe tbody tr th {\n",
       "        vertical-align: top;\n",
       "    }\n",
       "\n",
       "    .dataframe thead th {\n",
       "        text-align: right;\n",
       "    }\n",
       "</style>\n",
       "<table border=\"1\" class=\"dataframe\">\n",
       "  <thead>\n",
       "    <tr style=\"text-align: right;\">\n",
       "      <th></th>\n",
       "      <th>Msg</th>\n",
       "      <th>label</th>\n",
       "    </tr>\n",
       "  </thead>\n",
       "  <tbody>\n",
       "    <tr>\n",
       "      <th>0</th>\n",
       "      <td>go jurong point crazi avail bugi n great world...</td>\n",
       "      <td>0</td>\n",
       "    </tr>\n",
       "    <tr>\n",
       "      <th>1</th>\n",
       "      <td>ok lar joke wif u oni</td>\n",
       "      <td>0</td>\n",
       "    </tr>\n",
       "    <tr>\n",
       "      <th>2</th>\n",
       "      <td>free entri 2 wkli comp win fa cup final tkt 21...</td>\n",
       "      <td>1</td>\n",
       "    </tr>\n",
       "    <tr>\n",
       "      <th>3</th>\n",
       "      <td>u dun say earli hor u c alreadi say</td>\n",
       "      <td>0</td>\n",
       "    </tr>\n",
       "    <tr>\n",
       "      <th>4</th>\n",
       "      <td>nah i dont think goe usf live around though</td>\n",
       "      <td>0</td>\n",
       "    </tr>\n",
       "    <tr>\n",
       "      <th>...</th>\n",
       "      <td>...</td>\n",
       "      <td>...</td>\n",
       "    </tr>\n",
       "    <tr>\n",
       "      <th>5567</th>\n",
       "      <td>thi 2nd time tri 2 contact u u â£750 pound pri...</td>\n",
       "      <td>1</td>\n",
       "    </tr>\n",
       "    <tr>\n",
       "      <th>5568</th>\n",
       "      <td>will ã b go esplanad fr home</td>\n",
       "      <td>0</td>\n",
       "    </tr>\n",
       "    <tr>\n",
       "      <th>5569</th>\n",
       "      <td>piti mood soani suggest</td>\n",
       "      <td>0</td>\n",
       "    </tr>\n",
       "    <tr>\n",
       "      <th>5570</th>\n",
       "      <td>the guy bitch i act like id interest buy somet...</td>\n",
       "      <td>0</td>\n",
       "    </tr>\n",
       "    <tr>\n",
       "      <th>5571</th>\n",
       "      <td>rofl it true name</td>\n",
       "      <td>0</td>\n",
       "    </tr>\n",
       "  </tbody>\n",
       "</table>\n",
       "<p>5572 rows × 2 columns</p>\n",
       "</div>"
      ],
      "text/plain": [
       "                                                    Msg  label\n",
       "0     go jurong point crazi avail bugi n great world...      0\n",
       "1                                 ok lar joke wif u oni      0\n",
       "2     free entri 2 wkli comp win fa cup final tkt 21...      1\n",
       "3                   u dun say earli hor u c alreadi say      0\n",
       "4           nah i dont think goe usf live around though      0\n",
       "...                                                 ...    ...\n",
       "5567  thi 2nd time tri 2 contact u u â£750 pound pri...      1\n",
       "5568                       will ã b go esplanad fr home      0\n",
       "5569                            piti mood soani suggest      0\n",
       "5570  the guy bitch i act like id interest buy somet...      0\n",
       "5571                                  rofl it true name      0\n",
       "\n",
       "[5572 rows x 2 columns]"
      ]
     },
     "execution_count": 913,
     "metadata": {},
     "output_type": "execute_result"
    }
   ],
   "source": [
    "dfspamfinal"
   ]
  },
  {
   "cell_type": "code",
   "execution_count": 914,
   "id": "65b1502a",
   "metadata": {},
   "outputs": [],
   "source": [
    "dfspamfinal.columns = ['Msg', 'Label']"
   ]
  },
  {
   "cell_type": "code",
   "execution_count": 915,
   "id": "d0cf35f2",
   "metadata": {},
   "outputs": [
    {
     "data": {
      "text/html": [
       "<div>\n",
       "<style scoped>\n",
       "    .dataframe tbody tr th:only-of-type {\n",
       "        vertical-align: middle;\n",
       "    }\n",
       "\n",
       "    .dataframe tbody tr th {\n",
       "        vertical-align: top;\n",
       "    }\n",
       "\n",
       "    .dataframe thead th {\n",
       "        text-align: right;\n",
       "    }\n",
       "</style>\n",
       "<table border=\"1\" class=\"dataframe\">\n",
       "  <thead>\n",
       "    <tr style=\"text-align: right;\">\n",
       "      <th></th>\n",
       "      <th>Msg</th>\n",
       "      <th>Label</th>\n",
       "    </tr>\n",
       "  </thead>\n",
       "  <tbody>\n",
       "    <tr>\n",
       "      <th>0</th>\n",
       "      <td>go jurong point crazi avail bugi n great world...</td>\n",
       "      <td>0</td>\n",
       "    </tr>\n",
       "    <tr>\n",
       "      <th>1</th>\n",
       "      <td>ok lar joke wif u oni</td>\n",
       "      <td>0</td>\n",
       "    </tr>\n",
       "    <tr>\n",
       "      <th>2</th>\n",
       "      <td>free entri 2 wkli comp win fa cup final tkt 21...</td>\n",
       "      <td>1</td>\n",
       "    </tr>\n",
       "    <tr>\n",
       "      <th>3</th>\n",
       "      <td>u dun say earli hor u c alreadi say</td>\n",
       "      <td>0</td>\n",
       "    </tr>\n",
       "    <tr>\n",
       "      <th>4</th>\n",
       "      <td>nah i dont think goe usf live around though</td>\n",
       "      <td>0</td>\n",
       "    </tr>\n",
       "    <tr>\n",
       "      <th>...</th>\n",
       "      <td>...</td>\n",
       "      <td>...</td>\n",
       "    </tr>\n",
       "    <tr>\n",
       "      <th>5567</th>\n",
       "      <td>thi 2nd time tri 2 contact u u â£750 pound pri...</td>\n",
       "      <td>1</td>\n",
       "    </tr>\n",
       "    <tr>\n",
       "      <th>5568</th>\n",
       "      <td>will ã b go esplanad fr home</td>\n",
       "      <td>0</td>\n",
       "    </tr>\n",
       "    <tr>\n",
       "      <th>5569</th>\n",
       "      <td>piti mood soani suggest</td>\n",
       "      <td>0</td>\n",
       "    </tr>\n",
       "    <tr>\n",
       "      <th>5570</th>\n",
       "      <td>the guy bitch i act like id interest buy somet...</td>\n",
       "      <td>0</td>\n",
       "    </tr>\n",
       "    <tr>\n",
       "      <th>5571</th>\n",
       "      <td>rofl it true name</td>\n",
       "      <td>0</td>\n",
       "    </tr>\n",
       "  </tbody>\n",
       "</table>\n",
       "<p>5572 rows × 2 columns</p>\n",
       "</div>"
      ],
      "text/plain": [
       "                                                    Msg  Label\n",
       "0     go jurong point crazi avail bugi n great world...      0\n",
       "1                                 ok lar joke wif u oni      0\n",
       "2     free entri 2 wkli comp win fa cup final tkt 21...      1\n",
       "3                   u dun say earli hor u c alreadi say      0\n",
       "4           nah i dont think goe usf live around though      0\n",
       "...                                                 ...    ...\n",
       "5567  thi 2nd time tri 2 contact u u â£750 pound pri...      1\n",
       "5568                       will ã b go esplanad fr home      0\n",
       "5569                            piti mood soani suggest      0\n",
       "5570  the guy bitch i act like id interest buy somet...      0\n",
       "5571                                  rofl it true name      0\n",
       "\n",
       "[5572 rows x 2 columns]"
      ]
     },
     "execution_count": 915,
     "metadata": {},
     "output_type": "execute_result"
    }
   ],
   "source": [
    "dfspamfinal"
   ]
  },
  {
   "cell_type": "code",
   "execution_count": 916,
   "id": "9127f10e",
   "metadata": {},
   "outputs": [],
   "source": [
    "X = dfspamfinal[[\"Msg\"]]"
   ]
  },
  {
   "cell_type": "code",
   "execution_count": 917,
   "id": "636438ab",
   "metadata": {},
   "outputs": [],
   "source": [
    "y = dfspamfinal[\"Label\"]"
   ]
  },
  {
   "cell_type": "code",
   "execution_count": 918,
   "id": "3d4c0244",
   "metadata": {},
   "outputs": [
    {
     "data": {
      "text/html": [
       "<div>\n",
       "<style scoped>\n",
       "    .dataframe tbody tr th:only-of-type {\n",
       "        vertical-align: middle;\n",
       "    }\n",
       "\n",
       "    .dataframe tbody tr th {\n",
       "        vertical-align: top;\n",
       "    }\n",
       "\n",
       "    .dataframe thead th {\n",
       "        text-align: right;\n",
       "    }\n",
       "</style>\n",
       "<table border=\"1\" class=\"dataframe\">\n",
       "  <thead>\n",
       "    <tr style=\"text-align: right;\">\n",
       "      <th></th>\n",
       "      <th>Msg</th>\n",
       "    </tr>\n",
       "  </thead>\n",
       "  <tbody>\n",
       "    <tr>\n",
       "      <th>0</th>\n",
       "      <td>go jurong point crazi avail bugi n great world...</td>\n",
       "    </tr>\n",
       "    <tr>\n",
       "      <th>1</th>\n",
       "      <td>ok lar joke wif u oni</td>\n",
       "    </tr>\n",
       "    <tr>\n",
       "      <th>2</th>\n",
       "      <td>free entri 2 wkli comp win fa cup final tkt 21...</td>\n",
       "    </tr>\n",
       "    <tr>\n",
       "      <th>3</th>\n",
       "      <td>u dun say earli hor u c alreadi say</td>\n",
       "    </tr>\n",
       "    <tr>\n",
       "      <th>4</th>\n",
       "      <td>nah i dont think goe usf live around though</td>\n",
       "    </tr>\n",
       "    <tr>\n",
       "      <th>...</th>\n",
       "      <td>...</td>\n",
       "    </tr>\n",
       "    <tr>\n",
       "      <th>5567</th>\n",
       "      <td>thi 2nd time tri 2 contact u u â£750 pound pri...</td>\n",
       "    </tr>\n",
       "    <tr>\n",
       "      <th>5568</th>\n",
       "      <td>will ã b go esplanad fr home</td>\n",
       "    </tr>\n",
       "    <tr>\n",
       "      <th>5569</th>\n",
       "      <td>piti mood soani suggest</td>\n",
       "    </tr>\n",
       "    <tr>\n",
       "      <th>5570</th>\n",
       "      <td>the guy bitch i act like id interest buy somet...</td>\n",
       "    </tr>\n",
       "    <tr>\n",
       "      <th>5571</th>\n",
       "      <td>rofl it true name</td>\n",
       "    </tr>\n",
       "  </tbody>\n",
       "</table>\n",
       "<p>5572 rows × 1 columns</p>\n",
       "</div>"
      ],
      "text/plain": [
       "                                                    Msg\n",
       "0     go jurong point crazi avail bugi n great world...\n",
       "1                                 ok lar joke wif u oni\n",
       "2     free entri 2 wkli comp win fa cup final tkt 21...\n",
       "3                   u dun say earli hor u c alreadi say\n",
       "4           nah i dont think goe usf live around though\n",
       "...                                                 ...\n",
       "5567  thi 2nd time tri 2 contact u u â£750 pound pri...\n",
       "5568                       will ã b go esplanad fr home\n",
       "5569                            piti mood soani suggest\n",
       "5570  the guy bitch i act like id interest buy somet...\n",
       "5571                                  rofl it true name\n",
       "\n",
       "[5572 rows x 1 columns]"
      ]
     },
     "execution_count": 918,
     "metadata": {},
     "output_type": "execute_result"
    }
   ],
   "source": [
    "X"
   ]
  },
  {
   "cell_type": "code",
   "execution_count": 919,
   "id": "3971aa82",
   "metadata": {},
   "outputs": [
    {
     "data": {
      "text/plain": [
       "0       0\n",
       "1       0\n",
       "2       1\n",
       "3       0\n",
       "4       0\n",
       "       ..\n",
       "5567    1\n",
       "5568    0\n",
       "5569    0\n",
       "5570    0\n",
       "5571    0\n",
       "Name: Label, Length: 5572, dtype: int64"
      ]
     },
     "execution_count": 919,
     "metadata": {},
     "output_type": "execute_result"
    }
   ],
   "source": [
    "y"
   ]
  },
  {
   "cell_type": "code",
   "execution_count": 920,
   "id": "953cf129",
   "metadata": {},
   "outputs": [
    {
     "data": {
      "text/plain": [
       "<AxesSubplot:>"
      ]
     },
     "execution_count": 920,
     "metadata": {},
     "output_type": "execute_result"
    },
    {
     "data": {
      "image/png": "[encoded data removed]",
      "text/plain": [
       "<Figure size 432x288 with 1 Axes>"
      ]
     },
     "metadata": {
      "needs_background": "light"
     },
     "output_type": "display_data"
    }
   ],
   "source": [
    "## Imbalanced Data \n",
    "\n",
    "y.value_counts().plot(kind ='bar')"
   ]
  },
  {
   "cell_type": "code",
   "execution_count": 921,
   "id": "e5e6ac29",
   "metadata": {},
   "outputs": [],
   "source": [
    "from imblearn.over_sampling import SMOTE , RandomOverSampler"
   ]
  },
  {
   "cell_type": "code",
   "execution_count": 922,
   "id": "c233b2c6",
   "metadata": {},
   "outputs": [],
   "source": [
    "sm = SMOTE(random_state=12)"
   ]
  },
  {
   "cell_type": "code",
   "execution_count": 923,
   "id": "eab0744e",
   "metadata": {},
   "outputs": [],
   "source": [
    "#  Xsm ,ysm = sm.fit_resample(X,y)"
   ]
  },
  {
   "cell_type": "code",
   "execution_count": 924,
   "id": "680d7cae",
   "metadata": {},
   "outputs": [],
   "source": [
    "from sklearn.model_selection import train_test_split"
   ]
  },
  {
   "cell_type": "code",
   "execution_count": 925,
   "id": "489fc0f3",
   "metadata": {},
   "outputs": [],
   "source": [
    "Xtrain,Xtest,ytrain,ytest = train_test_split(X,y,test_size=.20)"
   ]
  },
  {
   "cell_type": "code",
   "execution_count": 926,
   "id": "074decb8",
   "metadata": {},
   "outputs": [
    {
     "data": {
      "text/plain": [
       "((4457, 1), (1115, 1), (5572, 1))"
      ]
     },
     "execution_count": 926,
     "metadata": {},
     "output_type": "execute_result"
    }
   ],
   "source": [
    "Xtrain.shape , Xtest.shape , X.shape"
   ]
  },
  {
   "cell_type": "code",
   "execution_count": 927,
   "id": "009cce93",
   "metadata": {},
   "outputs": [
    {
     "data": {
      "text/plain": [
       "((4457,), (1115,), (5572,))"
      ]
     },
     "execution_count": 927,
     "metadata": {},
     "output_type": "execute_result"
    }
   ],
   "source": [
    "ytrain.shape , ytest.shape , y.shape"
   ]
  },
  {
   "cell_type": "code",
   "execution_count": 928,
   "id": "af6d5346",
   "metadata": {},
   "outputs": [
    {
     "data": {
      "text/html": [
       "<div>\n",
       "<style scoped>\n",
       "    .dataframe tbody tr th:only-of-type {\n",
       "        vertical-align: middle;\n",
       "    }\n",
       "\n",
       "    .dataframe tbody tr th {\n",
       "        vertical-align: top;\n",
       "    }\n",
       "\n",
       "    .dataframe thead th {\n",
       "        text-align: right;\n",
       "    }\n",
       "</style>\n",
       "<table border=\"1\" class=\"dataframe\">\n",
       "  <thead>\n",
       "    <tr style=\"text-align: right;\">\n",
       "      <th></th>\n",
       "      <th>Msg</th>\n",
       "    </tr>\n",
       "  </thead>\n",
       "  <tbody>\n",
       "    <tr>\n",
       "      <th>2186</th>\n",
       "      <td>so anyth specif i regard jaklin idk fuck</td>\n",
       "    </tr>\n",
       "    <tr>\n",
       "      <th>119</th>\n",
       "      <td>privat your 2004 account statement 07742676969...</td>\n",
       "    </tr>\n",
       "    <tr>\n",
       "      <th>4112</th>\n",
       "      <td>thought could go dinner ill treat seem ok</td>\n",
       "    </tr>\n",
       "    <tr>\n",
       "      <th>295</th>\n",
       "      <td>tmobil custom may claim free camera phone upgr...</td>\n",
       "    </tr>\n",
       "    <tr>\n",
       "      <th>1850</th>\n",
       "      <td>then cant get da laptop my matric card wif ã lei</td>\n",
       "    </tr>\n",
       "    <tr>\n",
       "      <th>...</th>\n",
       "      <td>...</td>\n",
       "    </tr>\n",
       "    <tr>\n",
       "      <th>3729</th>\n",
       "      <td>i guess could good excus lol</td>\n",
       "    </tr>\n",
       "    <tr>\n",
       "      <th>171</th>\n",
       "      <td>hmmm thk sure got time hop ard ya go 4 free ab...</td>\n",
       "    </tr>\n",
       "    <tr>\n",
       "      <th>834</th>\n",
       "      <td>sure result offer</td>\n",
       "    </tr>\n",
       "    <tr>\n",
       "      <th>3276</th>\n",
       "      <td>it great day do beauti one</td>\n",
       "    </tr>\n",
       "    <tr>\n",
       "      <th>3082</th>\n",
       "      <td>kkhow train process</td>\n",
       "    </tr>\n",
       "  </tbody>\n",
       "</table>\n",
       "<p>4457 rows × 1 columns</p>\n",
       "</div>"
      ],
      "text/plain": [
       "                                                    Msg\n",
       "2186           so anyth specif i regard jaklin idk fuck\n",
       "119   privat your 2004 account statement 07742676969...\n",
       "4112          thought could go dinner ill treat seem ok\n",
       "295   tmobil custom may claim free camera phone upgr...\n",
       "1850   then cant get da laptop my matric card wif ã lei\n",
       "...                                                 ...\n",
       "3729                       i guess could good excus lol\n",
       "171   hmmm thk sure got time hop ard ya go 4 free ab...\n",
       "834                                   sure result offer\n",
       "3276                         it great day do beauti one\n",
       "3082                                kkhow train process\n",
       "\n",
       "[4457 rows x 1 columns]"
      ]
     },
     "execution_count": 928,
     "metadata": {},
     "output_type": "execute_result"
    }
   ],
   "source": [
    "Xtrain"
   ]
  },
  {
   "cell_type": "code",
   "execution_count": 929,
   "id": "dc310d63",
   "metadata": {},
   "outputs": [
    {
     "data": {
      "text/html": [
       "<div>\n",
       "<style scoped>\n",
       "    .dataframe tbody tr th:only-of-type {\n",
       "        vertical-align: middle;\n",
       "    }\n",
       "\n",
       "    .dataframe tbody tr th {\n",
       "        vertical-align: top;\n",
       "    }\n",
       "\n",
       "    .dataframe thead th {\n",
       "        text-align: right;\n",
       "    }\n",
       "</style>\n",
       "<table border=\"1\" class=\"dataframe\">\n",
       "  <thead>\n",
       "    <tr style=\"text-align: right;\">\n",
       "      <th></th>\n",
       "      <th>Msg</th>\n",
       "    </tr>\n",
       "  </thead>\n",
       "  <tbody>\n",
       "    <tr>\n",
       "      <th>880</th>\n",
       "      <td>remind you download content alreadi paid goto ...</td>\n",
       "    </tr>\n",
       "    <tr>\n",
       "      <th>2788</th>\n",
       "      <td>ãœ got wat buy tell us ã need come</td>\n",
       "    </tr>\n",
       "    <tr>\n",
       "      <th>1429</th>\n",
       "      <td>for sale arsen dartboard good condit doubl trebl</td>\n",
       "    </tr>\n",
       "    <tr>\n",
       "      <th>2318</th>\n",
       "      <td>on way offic da</td>\n",
       "    </tr>\n",
       "    <tr>\n",
       "      <th>3494</th>\n",
       "      <td>wan2 win meetgreet westlif 4 u m8 they current...</td>\n",
       "    </tr>\n",
       "    <tr>\n",
       "      <th>...</th>\n",
       "      <td>...</td>\n",
       "    </tr>\n",
       "    <tr>\n",
       "      <th>1290</th>\n",
       "      <td>eat jap done oso aft ur lect wat ãœ got lect 1...</td>\n",
       "    </tr>\n",
       "    <tr>\n",
       "      <th>2593</th>\n",
       "      <td>tmr timin still da wat co got lesson 6</td>\n",
       "    </tr>\n",
       "    <tr>\n",
       "      <th>71</th>\n",
       "      <td>finish class</td>\n",
       "    </tr>\n",
       "    <tr>\n",
       "      <th>3761</th>\n",
       "      <td>free 1st week no1 nokia tone 4 ur mob everi we...</td>\n",
       "    </tr>\n",
       "    <tr>\n",
       "      <th>2919</th>\n",
       "      <td>thanx 4 time weâ ’ ve spent 2geva bin mint ur ...</td>\n",
       "    </tr>\n",
       "  </tbody>\n",
       "</table>\n",
       "<p>1115 rows × 1 columns</p>\n",
       "</div>"
      ],
      "text/plain": [
       "                                                    Msg\n",
       "880   remind you download content alreadi paid goto ...\n",
       "2788                 ãœ got wat buy tell us ã need come\n",
       "1429   for sale arsen dartboard good condit doubl trebl\n",
       "2318                                    on way offic da\n",
       "3494  wan2 win meetgreet westlif 4 u m8 they current...\n",
       "...                                                 ...\n",
       "1290  eat jap done oso aft ur lect wat ãœ got lect 1...\n",
       "2593             tmr timin still da wat co got lesson 6\n",
       "71                                         finish class\n",
       "3761  free 1st week no1 nokia tone 4 ur mob everi we...\n",
       "2919  thanx 4 time weâ ’ ve spent 2geva bin mint ur ...\n",
       "\n",
       "[1115 rows x 1 columns]"
      ]
     },
     "execution_count": 929,
     "metadata": {},
     "output_type": "execute_result"
    }
   ],
   "source": [
    "Xtest"
   ]
  },
  {
   "cell_type": "code",
   "execution_count": 930,
   "id": "47557f6e",
   "metadata": {},
   "outputs": [],
   "source": [
    "from sklearn.feature_extraction.text import CountVectorizer ,TfidfTransformer"
   ]
  },
  {
   "cell_type": "code",
   "execution_count": 931,
   "id": "957224f4",
   "metadata": {},
   "outputs": [],
   "source": [
    "cvec = CountVectorizer()"
   ]
  },
  {
   "cell_type": "code",
   "execution_count": 932,
   "id": "6abf3e9a",
   "metadata": {},
   "outputs": [
    {
     "data": {
      "text/plain": [
       "CountVectorizer()"
      ]
     },
     "execution_count": 932,
     "metadata": {},
     "output_type": "execute_result"
    }
   ],
   "source": [
    "cvec.fit(Xtrain[\"Msg\"])"
   ]
  },
  {
   "cell_type": "code",
   "execution_count": 933,
   "id": "446f014d",
   "metadata": {},
   "outputs": [
    {
     "name": "stderr",
     "output_type": "stream",
     "text": [
      "/opt/anaconda3/envs/tf/lib/python3.7/site-packages/sklearn/utils/deprecation.py:87: FutureWarning: Function get_feature_names is deprecated; get_feature_names is deprecated in 1.0 and will be removed in 1.2. Please use get_feature_names_out instead.\n",
      "  warnings.warn(msg, category=FutureWarning)\n"
     ]
    },
    {
     "data": {
      "text/plain": [
       "7140"
      ]
     },
     "execution_count": 933,
     "metadata": {},
     "output_type": "execute_result"
    }
   ],
   "source": [
    "len(cvec.get_feature_names())"
   ]
  },
  {
   "cell_type": "code",
   "execution_count": 934,
   "id": "47e44c7d",
   "metadata": {},
   "outputs": [],
   "source": [
    "Xtrain_cvec = cvec.transform(Xtrain[\"Msg\"])"
   ]
  },
  {
   "cell_type": "code",
   "execution_count": 935,
   "id": "acb0cf7e",
   "metadata": {},
   "outputs": [
    {
     "data": {
      "text/plain": [
       "array([[0, 0, 0, ..., 0, 0, 0],\n",
       "       [0, 0, 0, ..., 0, 0, 0],\n",
       "       [0, 0, 0, ..., 0, 0, 0],\n",
       "       ...,\n",
       "       [0, 0, 0, ..., 0, 0, 0],\n",
       "       [0, 0, 0, ..., 0, 0, 0],\n",
       "       [0, 0, 0, ..., 0, 0, 0]])"
      ]
     },
     "execution_count": 935,
     "metadata": {},
     "output_type": "execute_result"
    }
   ],
   "source": [
    "Xtrain_cvec.toarray()"
   ]
  },
  {
   "cell_type": "code",
   "execution_count": 936,
   "id": "8cac79b6",
   "metadata": {},
   "outputs": [],
   "source": [
    "trans = TfidfTransformer()"
   ]
  },
  {
   "cell_type": "code",
   "execution_count": 937,
   "id": "dc1a2b97",
   "metadata": {},
   "outputs": [
    {
     "data": {
      "text/plain": [
       "<4457x7140 sparse matrix of type '<class 'numpy.float64'>'\n",
       "\twith 40733 stored elements in Compressed Sparse Row format>"
      ]
     },
     "execution_count": 937,
     "metadata": {},
     "output_type": "execute_result"
    }
   ],
   "source": [
    "trans.fit_transform(Xtrain_cvec)"
   ]
  },
  {
   "cell_type": "code",
   "execution_count": 938,
   "id": "feffe0d4",
   "metadata": {},
   "outputs": [],
   "source": [
    "Xtrain_trans = trans.fit_transform(Xtrain_cvec)"
   ]
  },
  {
   "cell_type": "code",
   "execution_count": 939,
   "id": "954beb06",
   "metadata": {},
   "outputs": [
    {
     "data": {
      "text/plain": [
       "0.0"
      ]
     },
     "execution_count": 939,
     "metadata": {},
     "output_type": "execute_result"
    }
   ],
   "source": [
    "Xtrain_trans.toarray().min()"
   ]
  },
  {
   "cell_type": "code",
   "execution_count": 940,
   "id": "739dfec3",
   "metadata": {
    "scrolled": true
   },
   "outputs": [
    {
     "data": {
      "text/plain": [
       "1.0"
      ]
     },
     "execution_count": 940,
     "metadata": {},
     "output_type": "execute_result"
    }
   ],
   "source": [
    "Xtrain_trans.toarray().max()"
   ]
  },
  {
   "cell_type": "code",
   "execution_count": 941,
   "id": "7ca8fd8c",
   "metadata": {},
   "outputs": [],
   "source": [
    "Xtest_cvec= cvec.transform(Xtest[\"Msg\"])"
   ]
  },
  {
   "cell_type": "code",
   "execution_count": 942,
   "id": "501dedea",
   "metadata": {},
   "outputs": [
    {
     "data": {
      "text/plain": [
       "array([[0, 0, 0, ..., 0, 0, 0],\n",
       "       [0, 0, 0, ..., 1, 0, 0],\n",
       "       [0, 0, 0, ..., 0, 0, 0],\n",
       "       ...,\n",
       "       [0, 0, 0, ..., 0, 0, 0],\n",
       "       [0, 0, 0, ..., 0, 0, 0],\n",
       "       [0, 0, 0, ..., 0, 0, 0]])"
      ]
     },
     "execution_count": 942,
     "metadata": {},
     "output_type": "execute_result"
    }
   ],
   "source": [
    "Xtest_cvec.toarray()"
   ]
  },
  {
   "cell_type": "raw",
   "id": "0b10ff18",
   "metadata": {},
   "source": [
    "trans.transform(Xtest_cvec)"
   ]
  },
  {
   "cell_type": "code",
   "execution_count": 943,
   "id": "5ddc2742",
   "metadata": {},
   "outputs": [],
   "source": [
    "Xtest_trans = trans.transform(Xtest_cvec)"
   ]
  },
  {
   "cell_type": "code",
   "execution_count": 944,
   "id": "b896e26d",
   "metadata": {},
   "outputs": [
    {
     "data": {
      "text/plain": [
       "array([[0.        , 0.        , 0.        , ..., 0.        , 0.        ,\n",
       "        0.        ],\n",
       "       [0.        , 0.        , 0.        , ..., 0.41661949, 0.        ,\n",
       "        0.        ],\n",
       "       [0.        , 0.        , 0.        , ..., 0.        , 0.        ,\n",
       "        0.        ],\n",
       "       ...,\n",
       "       [0.        , 0.        , 0.        , ..., 0.        , 0.        ,\n",
       "        0.        ],\n",
       "       [0.        , 0.        , 0.        , ..., 0.        , 0.        ,\n",
       "        0.        ],\n",
       "       [0.        , 0.        , 0.        , ..., 0.        , 0.        ,\n",
       "        0.        ]])"
      ]
     },
     "execution_count": 944,
     "metadata": {},
     "output_type": "execute_result"
    }
   ],
   "source": [
    "Xtest_trans.toarray()"
   ]
  },
  {
   "cell_type": "code",
   "execution_count": 945,
   "id": "fb717ad2",
   "metadata": {},
   "outputs": [],
   "source": [
    "from sklearn.naive_bayes import MultinomialNB"
   ]
  },
  {
   "cell_type": "code",
   "execution_count": 946,
   "id": "a7a12b3d",
   "metadata": {},
   "outputs": [],
   "source": [
    "mn = MultinomialNB()"
   ]
  },
  {
   "cell_type": "code",
   "execution_count": 947,
   "id": "632488f0",
   "metadata": {},
   "outputs": [
    {
     "data": {
      "text/plain": [
       "MultinomialNB()"
      ]
     },
     "execution_count": 947,
     "metadata": {},
     "output_type": "execute_result"
    }
   ],
   "source": [
    "mn.fit(Xtrain_trans,ytrain)"
   ]
  },
  {
   "cell_type": "code",
   "execution_count": 948,
   "id": "023d4368",
   "metadata": {},
   "outputs": [
    {
     "data": {
      "text/plain": [
       "0.9659192825112107"
      ]
     },
     "execution_count": 948,
     "metadata": {},
     "output_type": "execute_result"
    }
   ],
   "source": [
    "mn.score(Xtest_trans,ytest)"
   ]
  },
  {
   "cell_type": "code",
   "execution_count": 949,
   "id": "25fb1f9f",
   "metadata": {},
   "outputs": [],
   "source": [
    "result = { 0 : \"Valid Msg - Ham\", 1 : \"Invalid Msg - Spam\"}"
   ]
  },
  {
   "cell_type": "code",
   "execution_count": 950,
   "id": "70bc0789",
   "metadata": {},
   "outputs": [
    {
     "data": {
      "text/plain": [
       "'Valid Msg - Ham'"
      ]
     },
     "execution_count": 950,
     "metadata": {},
     "output_type": "execute_result"
    }
   ],
   "source": [
    "result[0]"
   ]
  },
  {
   "cell_type": "code",
   "execution_count": 951,
   "id": "05f6d3dc",
   "metadata": {},
   "outputs": [
    {
     "data": {
      "text/plain": [
       "'Invalid Msg - Spam'"
      ]
     },
     "execution_count": 951,
     "metadata": {},
     "output_type": "execute_result"
    }
   ],
   "source": [
    "result[1]"
   ]
  },
  {
   "cell_type": "code",
   "execution_count": 952,
   "id": "97a2a31d",
   "metadata": {},
   "outputs": [],
   "source": [
    "msg = [\"You are eligible for special offer\"]"
   ]
  },
  {
   "cell_type": "code",
   "execution_count": 953,
   "id": "b94de4d4",
   "metadata": {},
   "outputs": [],
   "source": [
    "msg_cvec = cvec.transform(msg)"
   ]
  },
  {
   "cell_type": "code",
   "execution_count": 954,
   "id": "37d75643",
   "metadata": {},
   "outputs": [
    {
     "data": {
      "text/plain": [
       "<1x7140 sparse matrix of type '<class 'numpy.int64'>'\n",
       "\twith 5 stored elements in Compressed Sparse Row format>"
      ]
     },
     "execution_count": 954,
     "metadata": {},
     "output_type": "execute_result"
    }
   ],
   "source": [
    "msg_cvec"
   ]
  },
  {
   "cell_type": "code",
   "execution_count": 955,
   "id": "f91157a0",
   "metadata": {},
   "outputs": [],
   "source": [
    "msg_trans = trans.transform(msg_cvec)"
   ]
  },
  {
   "cell_type": "code",
   "execution_count": 956,
   "id": "f6e27931",
   "metadata": {},
   "outputs": [
    {
     "data": {
      "text/plain": [
       "array([0])"
      ]
     },
     "execution_count": 956,
     "metadata": {},
     "output_type": "execute_result"
    }
   ],
   "source": [
    "mn.predict(msg_trans)"
   ]
  },
  {
   "cell_type": "code",
   "execution_count": 957,
   "id": "a15ce687",
   "metadata": {},
   "outputs": [
    {
     "data": {
      "text/plain": [
       "'Valid Msg - Ham'"
      ]
     },
     "execution_count": 957,
     "metadata": {},
     "output_type": "execute_result"
    }
   ],
   "source": [
    "result[mn.predict(msg_trans)[0]]"
   ]
  },
  {
   "cell_type": "markdown",
   "id": "a2514983",
   "metadata": {},
   "source": [
    "## Balancing the DF"
   ]
  },
  {
   "cell_type": "code",
   "execution_count": 958,
   "id": "945fd780",
   "metadata": {},
   "outputs": [],
   "source": [
    "dfone = dfspamfinal[dfspamfinal[\"Label\"] == 1]"
   ]
  },
  {
   "cell_type": "code",
   "execution_count": 959,
   "id": "38e8e322",
   "metadata": {},
   "outputs": [],
   "source": [
    "dfzero = dfspamfinal[dfspamfinal[\"Label\"] == 0].sample(747)"
   ]
  },
  {
   "cell_type": "code",
   "execution_count": 960,
   "id": "3867ee86",
   "metadata": {},
   "outputs": [],
   "source": [
    "dffinal = pd.concat([dfone,dfzero],axis=0)"
   ]
  },
  {
   "cell_type": "code",
   "execution_count": 961,
   "id": "0bcb15ee",
   "metadata": {},
   "outputs": [
    {
     "data": {
      "text/plain": [
       "1    747\n",
       "0    747\n",
       "Name: Label, dtype: int64"
      ]
     },
     "execution_count": 961,
     "metadata": {},
     "output_type": "execute_result"
    }
   ],
   "source": [
    "dffinal[\"Label\"].value_counts()"
   ]
  },
  {
   "cell_type": "code",
   "execution_count": 962,
   "id": "4a9a0242",
   "metadata": {},
   "outputs": [],
   "source": [
    "Xmsg = dffinal[[\"Msg\"]]"
   ]
  },
  {
   "cell_type": "code",
   "execution_count": 963,
   "id": "6a543cb8",
   "metadata": {},
   "outputs": [
    {
     "data": {
      "text/html": [
       "<div>\n",
       "<style scoped>\n",
       "    .dataframe tbody tr th:only-of-type {\n",
       "        vertical-align: middle;\n",
       "    }\n",
       "\n",
       "    .dataframe tbody tr th {\n",
       "        vertical-align: top;\n",
       "    }\n",
       "\n",
       "    .dataframe thead th {\n",
       "        text-align: right;\n",
       "    }\n",
       "</style>\n",
       "<table border=\"1\" class=\"dataframe\">\n",
       "  <thead>\n",
       "    <tr style=\"text-align: right;\">\n",
       "      <th></th>\n",
       "      <th>Msg</th>\n",
       "    </tr>\n",
       "  </thead>\n",
       "  <tbody>\n",
       "    <tr>\n",
       "      <th>2</th>\n",
       "      <td>free entri 2 wkli comp win fa cup final tkt 21...</td>\n",
       "    </tr>\n",
       "    <tr>\n",
       "      <th>5</th>\n",
       "      <td>freemsg hey darl 3 week word back id like fun ...</td>\n",
       "    </tr>\n",
       "    <tr>\n",
       "      <th>8</th>\n",
       "      <td>winner as valu network custom select receivea ...</td>\n",
       "    </tr>\n",
       "    <tr>\n",
       "      <th>9</th>\n",
       "      <td>had mobil 11 month u r entitl updat latest col...</td>\n",
       "    </tr>\n",
       "    <tr>\n",
       "      <th>11</th>\n",
       "      <td>six chanc win cash from 100 20000 pound txt cs...</td>\n",
       "    </tr>\n",
       "    <tr>\n",
       "      <th>...</th>\n",
       "      <td>...</td>\n",
       "    </tr>\n",
       "    <tr>\n",
       "      <th>1986</th>\n",
       "      <td>santha num corrct dane</td>\n",
       "    </tr>\n",
       "    <tr>\n",
       "      <th>278</th>\n",
       "      <td>just sent so type food like</td>\n",
       "    </tr>\n",
       "    <tr>\n",
       "      <th>2138</th>\n",
       "      <td>k still love</td>\n",
       "    </tr>\n",
       "    <tr>\n",
       "      <th>3222</th>\n",
       "      <td>well must pain catch</td>\n",
       "    </tr>\n",
       "    <tr>\n",
       "      <th>4943</th>\n",
       "      <td>wrong phone thi phone i answer one assum peopl...</td>\n",
       "    </tr>\n",
       "  </tbody>\n",
       "</table>\n",
       "<p>1494 rows × 1 columns</p>\n",
       "</div>"
      ],
      "text/plain": [
       "                                                    Msg\n",
       "2     free entri 2 wkli comp win fa cup final tkt 21...\n",
       "5     freemsg hey darl 3 week word back id like fun ...\n",
       "8     winner as valu network custom select receivea ...\n",
       "9     had mobil 11 month u r entitl updat latest col...\n",
       "11    six chanc win cash from 100 20000 pound txt cs...\n",
       "...                                                 ...\n",
       "1986                             santha num corrct dane\n",
       "278                         just sent so type food like\n",
       "2138                                       k still love\n",
       "3222                               well must pain catch\n",
       "4943  wrong phone thi phone i answer one assum peopl...\n",
       "\n",
       "[1494 rows x 1 columns]"
      ]
     },
     "execution_count": 963,
     "metadata": {},
     "output_type": "execute_result"
    }
   ],
   "source": [
    "Xmsg"
   ]
  },
  {
   "cell_type": "code",
   "execution_count": 964,
   "id": "bafd6adb",
   "metadata": {},
   "outputs": [],
   "source": [
    "ysmg = dffinal[\"Label\"]"
   ]
  },
  {
   "cell_type": "code",
   "execution_count": 965,
   "id": "845a4390",
   "metadata": {},
   "outputs": [
    {
     "data": {
      "text/plain": [
       "2       1\n",
       "5       1\n",
       "8       1\n",
       "9       1\n",
       "11      1\n",
       "       ..\n",
       "1986    0\n",
       "278     0\n",
       "2138    0\n",
       "3222    0\n",
       "4943    0\n",
       "Name: Label, Length: 1494, dtype: int64"
      ]
     },
     "execution_count": 965,
     "metadata": {},
     "output_type": "execute_result"
    }
   ],
   "source": [
    "ysmg"
   ]
  },
  {
   "cell_type": "code",
   "execution_count": 966,
   "id": "2702e650",
   "metadata": {},
   "outputs": [],
   "source": [
    "X_train,X_test ,y_train,y_test = train_test_split(Xmsg,ysmg,test_size=.20)"
   ]
  },
  {
   "cell_type": "code",
   "execution_count": 967,
   "id": "6cf29814",
   "metadata": {},
   "outputs": [
    {
     "data": {
      "text/html": [
       "<div>\n",
       "<style scoped>\n",
       "    .dataframe tbody tr th:only-of-type {\n",
       "        vertical-align: middle;\n",
       "    }\n",
       "\n",
       "    .dataframe tbody tr th {\n",
       "        vertical-align: top;\n",
       "    }\n",
       "\n",
       "    .dataframe thead th {\n",
       "        text-align: right;\n",
       "    }\n",
       "</style>\n",
       "<table border=\"1\" class=\"dataframe\">\n",
       "  <thead>\n",
       "    <tr style=\"text-align: right;\">\n",
       "      <th></th>\n",
       "      <th>Msg</th>\n",
       "    </tr>\n",
       "  </thead>\n",
       "  <tbody>\n",
       "    <tr>\n",
       "      <th>2994</th>\n",
       "      <td>mm entir sure understood text hey ho which wee...</td>\n",
       "    </tr>\n",
       "    <tr>\n",
       "      <th>3172</th>\n",
       "      <td>dear voucher holder to claim week offer pc ple...</td>\n",
       "    </tr>\n",
       "    <tr>\n",
       "      <th>1126</th>\n",
       "      <td>not tonight mate catch sleep thi new number way</td>\n",
       "    </tr>\n",
       "    <tr>\n",
       "      <th>528</th>\n",
       "      <td>you reciev tone within next 24hr for term cond...</td>\n",
       "    </tr>\n",
       "    <tr>\n",
       "      <th>4540</th>\n",
       "      <td>hiya how last night ive naughti bought cloth l...</td>\n",
       "    </tr>\n",
       "    <tr>\n",
       "      <th>...</th>\n",
       "      <td>...</td>\n",
       "    </tr>\n",
       "    <tr>\n",
       "      <th>121</th>\n",
       "      <td>new address applespairsal malarki</td>\n",
       "    </tr>\n",
       "    <tr>\n",
       "      <th>333</th>\n",
       "      <td>ani chanc might evapor soon violat privaci ste...</td>\n",
       "    </tr>\n",
       "    <tr>\n",
       "      <th>526</th>\n",
       "      <td>today offer claim ur â£150 worth discount vouc...</td>\n",
       "    </tr>\n",
       "    <tr>\n",
       "      <th>3989</th>\n",
       "      <td>bank granit issu strongbuy explos pick for our...</td>\n",
       "    </tr>\n",
       "    <tr>\n",
       "      <th>4612</th>\n",
       "      <td>how much got clean</td>\n",
       "    </tr>\n",
       "  </tbody>\n",
       "</table>\n",
       "<p>1195 rows × 1 columns</p>\n",
       "</div>"
      ],
      "text/plain": [
       "                                                    Msg\n",
       "2994  mm entir sure understood text hey ho which wee...\n",
       "3172  dear voucher holder to claim week offer pc ple...\n",
       "1126    not tonight mate catch sleep thi new number way\n",
       "528   you reciev tone within next 24hr for term cond...\n",
       "4540  hiya how last night ive naughti bought cloth l...\n",
       "...                                                 ...\n",
       "121                   new address applespairsal malarki\n",
       "333   ani chanc might evapor soon violat privaci ste...\n",
       "526   today offer claim ur â£150 worth discount vouc...\n",
       "3989  bank granit issu strongbuy explos pick for our...\n",
       "4612                                 how much got clean\n",
       "\n",
       "[1195 rows x 1 columns]"
      ]
     },
     "execution_count": 967,
     "metadata": {},
     "output_type": "execute_result"
    }
   ],
   "source": [
    "X_train"
   ]
  },
  {
   "cell_type": "code",
   "execution_count": 968,
   "id": "e2c9dc4d",
   "metadata": {},
   "outputs": [
    {
     "data": {
      "text/html": [
       "<div>\n",
       "<style scoped>\n",
       "    .dataframe tbody tr th:only-of-type {\n",
       "        vertical-align: middle;\n",
       "    }\n",
       "\n",
       "    .dataframe tbody tr th {\n",
       "        vertical-align: top;\n",
       "    }\n",
       "\n",
       "    .dataframe thead th {\n",
       "        text-align: right;\n",
       "    }\n",
       "</style>\n",
       "<table border=\"1\" class=\"dataframe\">\n",
       "  <thead>\n",
       "    <tr style=\"text-align: right;\">\n",
       "      <th></th>\n",
       "      <th>Msg</th>\n",
       "    </tr>\n",
       "  </thead>\n",
       "  <tbody>\n",
       "    <tr>\n",
       "      <th>2112</th>\n",
       "      <td>you winner special select receiv â£1000 cash â...</td>\n",
       "    </tr>\n",
       "    <tr>\n",
       "      <th>2289</th>\n",
       "      <td>had mobil 11mth updat free orang latest colour...</td>\n",
       "    </tr>\n",
       "    <tr>\n",
       "      <th>3919</th>\n",
       "      <td>freerington repli real poli eg real1 1 pushbut...</td>\n",
       "    </tr>\n",
       "    <tr>\n",
       "      <th>1929</th>\n",
       "      <td>free 1st week entri 2 textpod 4 chanc 2 win 40...</td>\n",
       "    </tr>\n",
       "    <tr>\n",
       "      <th>4728</th>\n",
       "      <td>ive reach alreadi</td>\n",
       "    </tr>\n",
       "    <tr>\n",
       "      <th>...</th>\n",
       "      <td>...</td>\n",
       "    </tr>\n",
       "    <tr>\n",
       "      <th>1941</th>\n",
       "      <td>well done your 4 costa del sol holiday â£5000 ...</td>\n",
       "    </tr>\n",
       "    <tr>\n",
       "      <th>3003</th>\n",
       "      <td>youv tkt euro2004 cup final â£800 cash collect...</td>\n",
       "    </tr>\n",
       "    <tr>\n",
       "      <th>2988</th>\n",
       "      <td>no 1 polyphon tone 4 ur mob everi week just tx...</td>\n",
       "    </tr>\n",
       "    <tr>\n",
       "      <th>64</th>\n",
       "      <td>ok lar doubl check wif da hair dresser alreadi...</td>\n",
       "    </tr>\n",
       "    <tr>\n",
       "      <th>4239</th>\n",
       "      <td>the lay man just let know miss thought do grea...</td>\n",
       "    </tr>\n",
       "  </tbody>\n",
       "</table>\n",
       "<p>299 rows × 1 columns</p>\n",
       "</div>"
      ],
      "text/plain": [
       "                                                    Msg\n",
       "2112  you winner special select receiv â£1000 cash â...\n",
       "2289  had mobil 11mth updat free orang latest colour...\n",
       "3919  freerington repli real poli eg real1 1 pushbut...\n",
       "1929  free 1st week entri 2 textpod 4 chanc 2 win 40...\n",
       "4728                                  ive reach alreadi\n",
       "...                                                 ...\n",
       "1941  well done your 4 costa del sol holiday â£5000 ...\n",
       "3003  youv tkt euro2004 cup final â£800 cash collect...\n",
       "2988  no 1 polyphon tone 4 ur mob everi week just tx...\n",
       "64    ok lar doubl check wif da hair dresser alreadi...\n",
       "4239  the lay man just let know miss thought do grea...\n",
       "\n",
       "[299 rows x 1 columns]"
      ]
     },
     "execution_count": 968,
     "metadata": {},
     "output_type": "execute_result"
    }
   ],
   "source": [
    "X_test"
   ]
  },
  {
   "cell_type": "code",
   "execution_count": 969,
   "id": "c0cf2015",
   "metadata": {},
   "outputs": [],
   "source": [
    "from sklearn.feature_extraction.text import TfidfVectorizer"
   ]
  },
  {
   "cell_type": "code",
   "execution_count": 970,
   "id": "bba47509",
   "metadata": {},
   "outputs": [],
   "source": [
    "tfvec = TfidfVectorizer()"
   ]
  },
  {
   "cell_type": "code",
   "execution_count": 971,
   "id": "16e4e6da",
   "metadata": {},
   "outputs": [
    {
     "data": {
      "text/plain": [
       "TfidfVectorizer()"
      ]
     },
     "execution_count": 971,
     "metadata": {},
     "output_type": "execute_result"
    }
   ],
   "source": [
    "tfvec.fit(X_train[\"Msg\"])"
   ]
  },
  {
   "cell_type": "code",
   "execution_count": 972,
   "id": "5f26784f",
   "metadata": {},
   "outputs": [],
   "source": [
    "X_train_tfvec = tfvec.transform(X_train[\"Msg\"])"
   ]
  },
  {
   "cell_type": "code",
   "execution_count": 973,
   "id": "1e674a91",
   "metadata": {},
   "outputs": [
    {
     "data": {
      "text/plain": [
       "<1195x3795 sparse matrix of type '<class 'numpy.float64'>'\n",
       "\twith 14591 stored elements in Compressed Sparse Row format>"
      ]
     },
     "execution_count": 973,
     "metadata": {},
     "output_type": "execute_result"
    }
   ],
   "source": [
    "X_train_tfvec"
   ]
  },
  {
   "cell_type": "code",
   "execution_count": 974,
   "id": "0e5c2aa7",
   "metadata": {},
   "outputs": [],
   "source": [
    "X_test_tfvec = tfvec.transform(X_test[\"Msg\"])"
   ]
  },
  {
   "cell_type": "code",
   "execution_count": 975,
   "id": "b8a09a31",
   "metadata": {},
   "outputs": [
    {
     "data": {
      "text/plain": [
       "<299x3795 sparse matrix of type '<class 'numpy.float64'>'\n",
       "\twith 3200 stored elements in Compressed Sparse Row format>"
      ]
     },
     "execution_count": 975,
     "metadata": {},
     "output_type": "execute_result"
    }
   ],
   "source": [
    "X_test_tfvec"
   ]
  },
  {
   "cell_type": "code",
   "execution_count": 976,
   "id": "0196bbbd",
   "metadata": {},
   "outputs": [],
   "source": [
    "mn1 = MultinomialNB()"
   ]
  },
  {
   "cell_type": "code",
   "execution_count": 977,
   "id": "7af6e9f8",
   "metadata": {},
   "outputs": [
    {
     "data": {
      "text/plain": [
       "MultinomialNB()"
      ]
     },
     "execution_count": 977,
     "metadata": {},
     "output_type": "execute_result"
    }
   ],
   "source": [
    "mn1.fit(X_train_tfvec,y_train)"
   ]
  },
  {
   "cell_type": "code",
   "execution_count": 978,
   "id": "e8250984",
   "metadata": {},
   "outputs": [
    {
     "data": {
      "text/plain": [
       "0.9531772575250836"
      ]
     },
     "execution_count": 978,
     "metadata": {},
     "output_type": "execute_result"
    }
   ],
   "source": [
    "mn1.score(X_test_tfvec,y_test)"
   ]
  },
  {
   "cell_type": "code",
   "execution_count": 979,
   "id": "b04c74d4",
   "metadata": {},
   "outputs": [],
   "source": [
    "msg1 = [\"Hey\"]"
   ]
  },
  {
   "cell_type": "code",
   "execution_count": 980,
   "id": "61c2df07",
   "metadata": {},
   "outputs": [],
   "source": [
    "msg1_tfvec = tfvec.transform(msg1)"
   ]
  },
  {
   "cell_type": "code",
   "execution_count": 981,
   "id": "afdcc680",
   "metadata": {},
   "outputs": [
    {
     "data": {
      "text/plain": [
       "<1x3795 sparse matrix of type '<class 'numpy.float64'>'\n",
       "\twith 1 stored elements in Compressed Sparse Row format>"
      ]
     },
     "execution_count": 981,
     "metadata": {},
     "output_type": "execute_result"
    }
   ],
   "source": [
    "msg1_tfvec"
   ]
  },
  {
   "cell_type": "code",
   "execution_count": 982,
   "id": "44bd2aa0",
   "metadata": {},
   "outputs": [
    {
     "data": {
      "text/plain": [
       "array([0])"
      ]
     },
     "execution_count": 982,
     "metadata": {},
     "output_type": "execute_result"
    }
   ],
   "source": [
    "mn1.predict(msg1_tfvec)"
   ]
  },
  {
   "cell_type": "code",
   "execution_count": 983,
   "id": "e322374e",
   "metadata": {},
   "outputs": [
    {
     "data": {
      "text/plain": [
       "'Valid Msg - Ham'"
      ]
     },
     "execution_count": 983,
     "metadata": {},
     "output_type": "execute_result"
    }
   ],
   "source": [
    "result[mn1.predict(msg1_tfvec)[0]]"
   ]
  },
  {
   "cell_type": "code",
   "execution_count": 984,
   "id": "92463e6a",
   "metadata": {},
   "outputs": [],
   "source": [
    "msg2 = [\"Hey Brother\"]"
   ]
  },
  {
   "cell_type": "code",
   "execution_count": 985,
   "id": "6ba8261d",
   "metadata": {},
   "outputs": [],
   "source": [
    "msg2_tfvec = tfvec.transform(msg2)"
   ]
  },
  {
   "cell_type": "code",
   "execution_count": 986,
   "id": "9af35437",
   "metadata": {},
   "outputs": [
    {
     "data": {
      "text/plain": [
       "<1x3795 sparse matrix of type '<class 'numpy.float64'>'\n",
       "\twith 2 stored elements in Compressed Sparse Row format>"
      ]
     },
     "execution_count": 986,
     "metadata": {},
     "output_type": "execute_result"
    }
   ],
   "source": [
    "msg2_tfvec"
   ]
  },
  {
   "cell_type": "code",
   "execution_count": 987,
   "id": "3d3f73d2",
   "metadata": {},
   "outputs": [
    {
     "data": {
      "text/plain": [
       "array([0])"
      ]
     },
     "execution_count": 987,
     "metadata": {},
     "output_type": "execute_result"
    }
   ],
   "source": [
    "mn1.predict(msg2_tfvec)"
   ]
  },
  {
   "cell_type": "code",
   "execution_count": 988,
   "id": "d89d2b1a",
   "metadata": {},
   "outputs": [
    {
     "data": {
      "text/plain": [
       "'Valid Msg - Ham'"
      ]
     },
     "execution_count": 988,
     "metadata": {},
     "output_type": "execute_result"
    }
   ],
   "source": [
    "result[mn1.predict(msg2_tfvec)[0]]"
   ]
  },
  {
   "cell_type": "code",
   "execution_count": 989,
   "id": "25727a8d",
   "metadata": {},
   "outputs": [],
   "source": [
    "msg3 = [\"Hey Brother,Here is a discount code for u \"]"
   ]
  },
  {
   "cell_type": "code",
   "execution_count": 990,
   "id": "0a322406",
   "metadata": {},
   "outputs": [],
   "source": [
    "msg3_tfvec = tfvec.transform(msg3)"
   ]
  },
  {
   "cell_type": "code",
   "execution_count": 991,
   "id": "c05bdd48",
   "metadata": {},
   "outputs": [
    {
     "data": {
      "text/plain": [
       "<1x3795 sparse matrix of type '<class 'numpy.float64'>'\n",
       "\twith 7 stored elements in Compressed Sparse Row format>"
      ]
     },
     "execution_count": 991,
     "metadata": {},
     "output_type": "execute_result"
    }
   ],
   "source": [
    "msg3_tfvec"
   ]
  },
  {
   "cell_type": "code",
   "execution_count": 992,
   "id": "e4aee827",
   "metadata": {},
   "outputs": [
    {
     "data": {
      "text/plain": [
       "array([1])"
      ]
     },
     "execution_count": 992,
     "metadata": {},
     "output_type": "execute_result"
    }
   ],
   "source": [
    "mn1.predict(msg3_tfvec)"
   ]
  },
  {
   "cell_type": "code",
   "execution_count": 993,
   "id": "b24340e0",
   "metadata": {},
   "outputs": [
    {
     "data": {
      "text/plain": [
       "'Invalid Msg - Spam'"
      ]
     },
     "execution_count": 993,
     "metadata": {},
     "output_type": "execute_result"
    }
   ],
   "source": [
    "result[mn1.predict(msg3_tfvec)[0]]"
   ]
  },
  {
   "cell_type": "code",
   "execution_count": 994,
   "id": "5088527e",
   "metadata": {},
   "outputs": [],
   "source": [
    "import speech_recognition as sr"
   ]
  },
  {
   "cell_type": "code",
   "execution_count": 995,
   "id": "dfee7bc6",
   "metadata": {},
   "outputs": [],
   "source": [
    "r = sr.Recognizer()"
   ]
  },
  {
   "cell_type": "code",
   "execution_count": 1003,
   "id": "16edfdfc",
   "metadata": {},
   "outputs": [],
   "source": [
    "def msgvalid(text):\n",
    "    t = tfvec.transform([text])\n",
    "    mn1.predict(t)\n",
    "    ss= result[mn1.predict(t)[0]]\n",
    "    print(ss)"
   ]
  },
  {
   "cell_type": "code",
   "execution_count": 1000,
   "id": "1a8357dd",
   "metadata": {},
   "outputs": [],
   "source": [
    "def speak(msg):\n",
    "    import pyttsx3\n",
    "    engine = pyttsx3.init()\n",
    "    engine.say(msg)\n",
    "    engine.runAndWait()"
   ]
  },
  {
   "cell_type": "code",
   "execution_count": null,
   "id": "aaf4ea27",
   "metadata": {},
   "outputs": [],
   "source": [
    "with sr.Microphone() as src:\n",
    "    audio = r.listen(src)\n",
    "    msg = r.recognize_google(audio)\n",
    "    print(msg)\n",
    "    msgvalid(msg)\n",
    "    speak(msg)"
   ]
  },
  {
   "cell_type": "markdown",
   "id": "091983ba",
   "metadata": {},
   "source": []
  }
 ],
 "metadata": {
  "kernelspec": {
   "display_name": "Python 3 (ipykernel)",
   "language": "python",
   "name": "python3"
  },
  "language_info": {
   "codemirror_mode": {
    "name": "ipython",
    "version": 3
   },
   "file_extension": ".py",
   "mimetype": "text/x-python",
   "name": "python",
   "nbconvert_exporter": "python",
   "pygments_lexer": "ipython3",
   "version": "3.7.13"
  }
 },
 "nbformat": 4,
 "nbformat_minor": 5
}
