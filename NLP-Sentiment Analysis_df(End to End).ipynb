{
 "cells": [
  {
   "cell_type": "code",
   "execution_count": 1,
   "id": "974e5116",
   "metadata": {},
   "outputs": [],
   "source": [
    "import pandas as pd"
   ]
  },
  {
   "cell_type": "code",
   "execution_count": 2,
   "id": "c6a517f7",
   "metadata": {},
   "outputs": [],
   "source": [
    "df = pd.read_csv(\"/Users/dev/Personal/DS & AI Class Notes/Data Sets/Naive Bays/sent_analysis.csv\")"
   ]
  },
  {
   "cell_type": "code",
   "execution_count": 3,
   "id": "f7426fb3",
   "metadata": {},
   "outputs": [
    {
     "data": {
      "text/html": [
       "<div>\n",
       "<style scoped>\n",
       "    .dataframe tbody tr th:only-of-type {\n",
       "        vertical-align: middle;\n",
       "    }\n",
       "\n",
       "    .dataframe tbody tr th {\n",
       "        vertical-align: top;\n",
       "    }\n",
       "\n",
       "    .dataframe thead th {\n",
       "        text-align: right;\n",
       "    }\n",
       "</style>\n",
       "<table border=\"1\" class=\"dataframe\">\n",
       "  <thead>\n",
       "    <tr style=\"text-align: right;\">\n",
       "      <th></th>\n",
       "      <th>class</th>\n",
       "      <th>text</th>\n",
       "    </tr>\n",
       "  </thead>\n",
       "  <tbody>\n",
       "    <tr>\n",
       "      <th>0</th>\n",
       "      <td>Pos</td>\n",
       "      <td>films adapted from comic books have had plent...</td>\n",
       "    </tr>\n",
       "    <tr>\n",
       "      <th>1</th>\n",
       "      <td>Pos</td>\n",
       "      <td>every now and then a movie comes along from a...</td>\n",
       "    </tr>\n",
       "    <tr>\n",
       "      <th>2</th>\n",
       "      <td>Pos</td>\n",
       "      <td>you ve got mail works alot better than it des...</td>\n",
       "    </tr>\n",
       "    <tr>\n",
       "      <th>3</th>\n",
       "      <td>Pos</td>\n",
       "      <td>jaws   is a rare film that grabs your atte...</td>\n",
       "    </tr>\n",
       "    <tr>\n",
       "      <th>4</th>\n",
       "      <td>Pos</td>\n",
       "      <td>moviemaking is a lot like being the general m...</td>\n",
       "    </tr>\n",
       "    <tr>\n",
       "      <th>...</th>\n",
       "      <td>...</td>\n",
       "      <td>...</td>\n",
       "    </tr>\n",
       "    <tr>\n",
       "      <th>1995</th>\n",
       "      <td>Neg</td>\n",
       "      <td>if anything     stigmata   should be taken as...</td>\n",
       "    </tr>\n",
       "    <tr>\n",
       "      <th>1996</th>\n",
       "      <td>Neg</td>\n",
       "      <td>john boorman s   zardoz   is a goofy cinemati...</td>\n",
       "    </tr>\n",
       "    <tr>\n",
       "      <th>1997</th>\n",
       "      <td>Neg</td>\n",
       "      <td>the kids in the hall are an acquired taste   ...</td>\n",
       "    </tr>\n",
       "    <tr>\n",
       "      <th>1998</th>\n",
       "      <td>Neg</td>\n",
       "      <td>there was a time when john carpenter was a gr...</td>\n",
       "    </tr>\n",
       "    <tr>\n",
       "      <th>1999</th>\n",
       "      <td>Neg</td>\n",
       "      <td>two party guys bob their heads to haddaway s ...</td>\n",
       "    </tr>\n",
       "  </tbody>\n",
       "</table>\n",
       "<p>2000 rows × 2 columns</p>\n",
       "</div>"
      ],
      "text/plain": [
       "     class                                               text\n",
       "0      Pos   films adapted from comic books have had plent...\n",
       "1      Pos   every now and then a movie comes along from a...\n",
       "2      Pos   you ve got mail works alot better than it des...\n",
       "3      Pos      jaws   is a rare film that grabs your atte...\n",
       "4      Pos   moviemaking is a lot like being the general m...\n",
       "...    ...                                                ...\n",
       "1995   Neg   if anything     stigmata   should be taken as...\n",
       "1996   Neg   john boorman s   zardoz   is a goofy cinemati...\n",
       "1997   Neg   the kids in the hall are an acquired taste   ...\n",
       "1998   Neg   there was a time when john carpenter was a gr...\n",
       "1999   Neg   two party guys bob their heads to haddaway s ...\n",
       "\n",
       "[2000 rows x 2 columns]"
      ]
     },
     "execution_count": 3,
     "metadata": {},
     "output_type": "execute_result"
    }
   ],
   "source": [
    "df"
   ]
  },
  {
   "cell_type": "markdown",
   "id": "2625004d",
   "metadata": {},
   "source": [
    "## Punc."
   ]
  },
  {
   "cell_type": "code",
   "execution_count": 4,
   "id": "39c0b13c",
   "metadata": {},
   "outputs": [],
   "source": [
    "import string"
   ]
  },
  {
   "cell_type": "code",
   "execution_count": 5,
   "id": "b6c25b6b",
   "metadata": {},
   "outputs": [],
   "source": [
    "punc = string.punctuation"
   ]
  },
  {
   "cell_type": "code",
   "execution_count": 6,
   "id": "f550f0a7",
   "metadata": {},
   "outputs": [],
   "source": [
    "df[\"text_len\"]=df[\"text\"].map(lambda x : len(x))"
   ]
  },
  {
   "cell_type": "code",
   "execution_count": 7,
   "id": "197c60d5",
   "metadata": {},
   "outputs": [],
   "source": [
    "df[\"text_NPunc\"] = df[\"text\"].map(lambda x : \"\".join([i for i in x if i not in punc]))"
   ]
  },
  {
   "cell_type": "code",
   "execution_count": 8,
   "id": "9dc7a015",
   "metadata": {},
   "outputs": [],
   "source": [
    "df[\"text_NPunc_len\"] = df[\"text\"].map(lambda x : len(\"\".join([i for i in x if i not in punc])))"
   ]
  },
  {
   "cell_type": "code",
   "execution_count": 9,
   "id": "bff731bb",
   "metadata": {},
   "outputs": [
    {
     "data": {
      "text/html": [
       "<div>\n",
       "<style scoped>\n",
       "    .dataframe tbody tr th:only-of-type {\n",
       "        vertical-align: middle;\n",
       "    }\n",
       "\n",
       "    .dataframe tbody tr th {\n",
       "        vertical-align: top;\n",
       "    }\n",
       "\n",
       "    .dataframe thead th {\n",
       "        text-align: right;\n",
       "    }\n",
       "</style>\n",
       "<table border=\"1\" class=\"dataframe\">\n",
       "  <thead>\n",
       "    <tr style=\"text-align: right;\">\n",
       "      <th></th>\n",
       "      <th>class</th>\n",
       "      <th>text</th>\n",
       "      <th>text_len</th>\n",
       "      <th>text_NPunc</th>\n",
       "      <th>text_NPunc_len</th>\n",
       "    </tr>\n",
       "  </thead>\n",
       "  <tbody>\n",
       "    <tr>\n",
       "      <th>0</th>\n",
       "      <td>Pos</td>\n",
       "      <td>films adapted from comic books have had plent...</td>\n",
       "      <td>4228</td>\n",
       "      <td>films adapted from comic books have had plent...</td>\n",
       "      <td>4226</td>\n",
       "    </tr>\n",
       "    <tr>\n",
       "      <th>1</th>\n",
       "      <td>Pos</td>\n",
       "      <td>every now and then a movie comes along from a...</td>\n",
       "      <td>4097</td>\n",
       "      <td>every now and then a movie comes along from a...</td>\n",
       "      <td>4096</td>\n",
       "    </tr>\n",
       "    <tr>\n",
       "      <th>2</th>\n",
       "      <td>Pos</td>\n",
       "      <td>you ve got mail works alot better than it des...</td>\n",
       "      <td>2422</td>\n",
       "      <td>you ve got mail works alot better than it des...</td>\n",
       "      <td>2421</td>\n",
       "    </tr>\n",
       "    <tr>\n",
       "      <th>3</th>\n",
       "      <td>Pos</td>\n",
       "      <td>jaws   is a rare film that grabs your atte...</td>\n",
       "      <td>6093</td>\n",
       "      <td>jaws   is a rare film that grabs your atte...</td>\n",
       "      <td>6093</td>\n",
       "    </tr>\n",
       "    <tr>\n",
       "      <th>4</th>\n",
       "      <td>Pos</td>\n",
       "      <td>moviemaking is a lot like being the general m...</td>\n",
       "      <td>3899</td>\n",
       "      <td>moviemaking is a lot like being the general m...</td>\n",
       "      <td>3896</td>\n",
       "    </tr>\n",
       "    <tr>\n",
       "      <th>...</th>\n",
       "      <td>...</td>\n",
       "      <td>...</td>\n",
       "      <td>...</td>\n",
       "      <td>...</td>\n",
       "      <td>...</td>\n",
       "    </tr>\n",
       "    <tr>\n",
       "      <th>1995</th>\n",
       "      <td>Neg</td>\n",
       "      <td>if anything     stigmata   should be taken as...</td>\n",
       "      <td>8357</td>\n",
       "      <td>if anything     stigmata   should be taken as...</td>\n",
       "      <td>8349</td>\n",
       "    </tr>\n",
       "    <tr>\n",
       "      <th>1996</th>\n",
       "      <td>Neg</td>\n",
       "      <td>john boorman s   zardoz   is a goofy cinemati...</td>\n",
       "      <td>6212</td>\n",
       "      <td>john boorman s   zardoz   is a goofy cinemati...</td>\n",
       "      <td>6212</td>\n",
       "    </tr>\n",
       "    <tr>\n",
       "      <th>1997</th>\n",
       "      <td>Neg</td>\n",
       "      <td>the kids in the hall are an acquired taste   ...</td>\n",
       "      <td>2343</td>\n",
       "      <td>the kids in the hall are an acquired taste   ...</td>\n",
       "      <td>2343</td>\n",
       "    </tr>\n",
       "    <tr>\n",
       "      <th>1998</th>\n",
       "      <td>Neg</td>\n",
       "      <td>there was a time when john carpenter was a gr...</td>\n",
       "      <td>3184</td>\n",
       "      <td>there was a time when john carpenter was a gr...</td>\n",
       "      <td>3184</td>\n",
       "    </tr>\n",
       "    <tr>\n",
       "      <th>1999</th>\n",
       "      <td>Neg</td>\n",
       "      <td>two party guys bob their heads to haddaway s ...</td>\n",
       "      <td>3256</td>\n",
       "      <td>two party guys bob their heads to haddaway s ...</td>\n",
       "      <td>3256</td>\n",
       "    </tr>\n",
       "  </tbody>\n",
       "</table>\n",
       "<p>2000 rows × 5 columns</p>\n",
       "</div>"
      ],
      "text/plain": [
       "     class                                               text  text_len  \\\n",
       "0      Pos   films adapted from comic books have had plent...      4228   \n",
       "1      Pos   every now and then a movie comes along from a...      4097   \n",
       "2      Pos   you ve got mail works alot better than it des...      2422   \n",
       "3      Pos      jaws   is a rare film that grabs your atte...      6093   \n",
       "4      Pos   moviemaking is a lot like being the general m...      3899   \n",
       "...    ...                                                ...       ...   \n",
       "1995   Neg   if anything     stigmata   should be taken as...      8357   \n",
       "1996   Neg   john boorman s   zardoz   is a goofy cinemati...      6212   \n",
       "1997   Neg   the kids in the hall are an acquired taste   ...      2343   \n",
       "1998   Neg   there was a time when john carpenter was a gr...      3184   \n",
       "1999   Neg   two party guys bob their heads to haddaway s ...      3256   \n",
       "\n",
       "                                             text_NPunc  text_NPunc_len  \n",
       "0      films adapted from comic books have had plent...            4226  \n",
       "1      every now and then a movie comes along from a...            4096  \n",
       "2      you ve got mail works alot better than it des...            2421  \n",
       "3         jaws   is a rare film that grabs your atte...            6093  \n",
       "4      moviemaking is a lot like being the general m...            3896  \n",
       "...                                                 ...             ...  \n",
       "1995   if anything     stigmata   should be taken as...            8349  \n",
       "1996   john boorman s   zardoz   is a goofy cinemati...            6212  \n",
       "1997   the kids in the hall are an acquired taste   ...            2343  \n",
       "1998   there was a time when john carpenter was a gr...            3184  \n",
       "1999   two party guys bob their heads to haddaway s ...            3256  \n",
       "\n",
       "[2000 rows x 5 columns]"
      ]
     },
     "execution_count": 9,
     "metadata": {},
     "output_type": "execute_result"
    }
   ],
   "source": [
    "df"
   ]
  },
  {
   "cell_type": "markdown",
   "id": "f4ca5b53",
   "metadata": {},
   "source": [
    "## Remove Stop Words"
   ]
  },
  {
   "cell_type": "code",
   "execution_count": 10,
   "id": "1d8e327b",
   "metadata": {},
   "outputs": [],
   "source": [
    "from nltk.corpus import stopwords"
   ]
  },
  {
   "cell_type": "code",
   "execution_count": 11,
   "id": "399606ac",
   "metadata": {},
   "outputs": [],
   "source": [
    "stpwrds = stopwords.words('english')"
   ]
  },
  {
   "cell_type": "code",
   "execution_count": 12,
   "id": "4fea9c2e",
   "metadata": {},
   "outputs": [],
   "source": [
    "df[\"text_NStpwrds\"] = df[\"text_NPunc\"].map(lambda x : \" \".join([i for i in x.split() if i not in stpwrds]))"
   ]
  },
  {
   "cell_type": "code",
   "execution_count": 13,
   "id": "ca213739",
   "metadata": {},
   "outputs": [],
   "source": [
    "df[\"text_NStpwrds_len\"] = df[\"text_NPunc\"].map(lambda x : len(\" \".join([i for i in x.split() if i not in stpwrds])))"
   ]
  },
  {
   "cell_type": "code",
   "execution_count": 14,
   "id": "546183cf",
   "metadata": {},
   "outputs": [
    {
     "data": {
      "text/html": [
       "<div>\n",
       "<style scoped>\n",
       "    .dataframe tbody tr th:only-of-type {\n",
       "        vertical-align: middle;\n",
       "    }\n",
       "\n",
       "    .dataframe tbody tr th {\n",
       "        vertical-align: top;\n",
       "    }\n",
       "\n",
       "    .dataframe thead th {\n",
       "        text-align: right;\n",
       "    }\n",
       "</style>\n",
       "<table border=\"1\" class=\"dataframe\">\n",
       "  <thead>\n",
       "    <tr style=\"text-align: right;\">\n",
       "      <th></th>\n",
       "      <th>class</th>\n",
       "      <th>text</th>\n",
       "      <th>text_len</th>\n",
       "      <th>text_NPunc</th>\n",
       "      <th>text_NPunc_len</th>\n",
       "      <th>text_NStpwrds</th>\n",
       "      <th>text_NStpwrds_len</th>\n",
       "    </tr>\n",
       "  </thead>\n",
       "  <tbody>\n",
       "    <tr>\n",
       "      <th>0</th>\n",
       "      <td>Pos</td>\n",
       "      <td>films adapted from comic books have had plent...</td>\n",
       "      <td>4228</td>\n",
       "      <td>films adapted from comic books have had plent...</td>\n",
       "      <td>4226</td>\n",
       "      <td>films adapted comic books plenty success wheth...</td>\n",
       "      <td>2811</td>\n",
       "    </tr>\n",
       "    <tr>\n",
       "      <th>1</th>\n",
       "      <td>Pos</td>\n",
       "      <td>every now and then a movie comes along from a...</td>\n",
       "      <td>4097</td>\n",
       "      <td>every now and then a movie comes along from a...</td>\n",
       "      <td>4096</td>\n",
       "      <td>every movie comes along suspect studio every i...</td>\n",
       "      <td>2591</td>\n",
       "    </tr>\n",
       "    <tr>\n",
       "      <th>2</th>\n",
       "      <td>Pos</td>\n",
       "      <td>you ve got mail works alot better than it des...</td>\n",
       "      <td>2422</td>\n",
       "      <td>you ve got mail works alot better than it des...</td>\n",
       "      <td>2421</td>\n",
       "      <td>got mail works alot better deserves order make...</td>\n",
       "      <td>1445</td>\n",
       "    </tr>\n",
       "    <tr>\n",
       "      <th>3</th>\n",
       "      <td>Pos</td>\n",
       "      <td>jaws   is a rare film that grabs your atte...</td>\n",
       "      <td>6093</td>\n",
       "      <td>jaws   is a rare film that grabs your atte...</td>\n",
       "      <td>6093</td>\n",
       "      <td>jaws rare film grabs attention shows single im...</td>\n",
       "      <td>3998</td>\n",
       "    </tr>\n",
       "    <tr>\n",
       "      <th>4</th>\n",
       "      <td>Pos</td>\n",
       "      <td>moviemaking is a lot like being the general m...</td>\n",
       "      <td>3899</td>\n",
       "      <td>moviemaking is a lot like being the general m...</td>\n",
       "      <td>3896</td>\n",
       "      <td>moviemaking lot like general manager nfl team ...</td>\n",
       "      <td>2537</td>\n",
       "    </tr>\n",
       "    <tr>\n",
       "      <th>...</th>\n",
       "      <td>...</td>\n",
       "      <td>...</td>\n",
       "      <td>...</td>\n",
       "      <td>...</td>\n",
       "      <td>...</td>\n",
       "      <td>...</td>\n",
       "      <td>...</td>\n",
       "    </tr>\n",
       "    <tr>\n",
       "      <th>1995</th>\n",
       "      <td>Neg</td>\n",
       "      <td>if anything     stigmata   should be taken as...</td>\n",
       "      <td>8357</td>\n",
       "      <td>if anything     stigmata   should be taken as...</td>\n",
       "      <td>8349</td>\n",
       "      <td>anything stigmata taken warning releasing simi...</td>\n",
       "      <td>5066</td>\n",
       "    </tr>\n",
       "    <tr>\n",
       "      <th>1996</th>\n",
       "      <td>Neg</td>\n",
       "      <td>john boorman s   zardoz   is a goofy cinemati...</td>\n",
       "      <td>6212</td>\n",
       "      <td>john boorman s   zardoz   is a goofy cinemati...</td>\n",
       "      <td>6212</td>\n",
       "      <td>john boorman zardoz goofy cinematic debacle fu...</td>\n",
       "      <td>4062</td>\n",
       "    </tr>\n",
       "    <tr>\n",
       "      <th>1997</th>\n",
       "      <td>Neg</td>\n",
       "      <td>the kids in the hall are an acquired taste   ...</td>\n",
       "      <td>2343</td>\n",
       "      <td>the kids in the hall are an acquired taste   ...</td>\n",
       "      <td>2343</td>\n",
       "      <td>kids hall acquired taste took least season wat...</td>\n",
       "      <td>1469</td>\n",
       "    </tr>\n",
       "    <tr>\n",
       "      <th>1998</th>\n",
       "      <td>Neg</td>\n",
       "      <td>there was a time when john carpenter was a gr...</td>\n",
       "      <td>3184</td>\n",
       "      <td>there was a time when john carpenter was a gr...</td>\n",
       "      <td>3184</td>\n",
       "      <td>time john carpenter great horror director cour...</td>\n",
       "      <td>1951</td>\n",
       "    </tr>\n",
       "    <tr>\n",
       "      <th>1999</th>\n",
       "      <td>Neg</td>\n",
       "      <td>two party guys bob their heads to haddaway s ...</td>\n",
       "      <td>3256</td>\n",
       "      <td>two party guys bob their heads to haddaway s ...</td>\n",
       "      <td>3256</td>\n",
       "      <td>two party guys bob heads haddaway dance hit lo...</td>\n",
       "      <td>2093</td>\n",
       "    </tr>\n",
       "  </tbody>\n",
       "</table>\n",
       "<p>2000 rows × 7 columns</p>\n",
       "</div>"
      ],
      "text/plain": [
       "     class                                               text  text_len  \\\n",
       "0      Pos   films adapted from comic books have had plent...      4228   \n",
       "1      Pos   every now and then a movie comes along from a...      4097   \n",
       "2      Pos   you ve got mail works alot better than it des...      2422   \n",
       "3      Pos      jaws   is a rare film that grabs your atte...      6093   \n",
       "4      Pos   moviemaking is a lot like being the general m...      3899   \n",
       "...    ...                                                ...       ...   \n",
       "1995   Neg   if anything     stigmata   should be taken as...      8357   \n",
       "1996   Neg   john boorman s   zardoz   is a goofy cinemati...      6212   \n",
       "1997   Neg   the kids in the hall are an acquired taste   ...      2343   \n",
       "1998   Neg   there was a time when john carpenter was a gr...      3184   \n",
       "1999   Neg   two party guys bob their heads to haddaway s ...      3256   \n",
       "\n",
       "                                             text_NPunc  text_NPunc_len  \\\n",
       "0      films adapted from comic books have had plent...            4226   \n",
       "1      every now and then a movie comes along from a...            4096   \n",
       "2      you ve got mail works alot better than it des...            2421   \n",
       "3         jaws   is a rare film that grabs your atte...            6093   \n",
       "4      moviemaking is a lot like being the general m...            3896   \n",
       "...                                                 ...             ...   \n",
       "1995   if anything     stigmata   should be taken as...            8349   \n",
       "1996   john boorman s   zardoz   is a goofy cinemati...            6212   \n",
       "1997   the kids in the hall are an acquired taste   ...            2343   \n",
       "1998   there was a time when john carpenter was a gr...            3184   \n",
       "1999   two party guys bob their heads to haddaway s ...            3256   \n",
       "\n",
       "                                          text_NStpwrds  text_NStpwrds_len  \n",
       "0     films adapted comic books plenty success wheth...               2811  \n",
       "1     every movie comes along suspect studio every i...               2591  \n",
       "2     got mail works alot better deserves order make...               1445  \n",
       "3     jaws rare film grabs attention shows single im...               3998  \n",
       "4     moviemaking lot like general manager nfl team ...               2537  \n",
       "...                                                 ...                ...  \n",
       "1995  anything stigmata taken warning releasing simi...               5066  \n",
       "1996  john boorman zardoz goofy cinematic debacle fu...               4062  \n",
       "1997  kids hall acquired taste took least season wat...               1469  \n",
       "1998  time john carpenter great horror director cour...               1951  \n",
       "1999  two party guys bob heads haddaway dance hit lo...               2093  \n",
       "\n",
       "[2000 rows x 7 columns]"
      ]
     },
     "execution_count": 14,
     "metadata": {},
     "output_type": "execute_result"
    }
   ],
   "source": [
    "df"
   ]
  },
  {
   "cell_type": "markdown",
   "id": "cf3d28b0",
   "metadata": {},
   "source": [
    "## Stemming and Tokenize"
   ]
  },
  {
   "cell_type": "code",
   "execution_count": 15,
   "id": "5d88dc3e",
   "metadata": {},
   "outputs": [],
   "source": [
    "from nltk.tokenize import word_tokenize"
   ]
  },
  {
   "cell_type": "code",
   "execution_count": 16,
   "id": "3ea32af2",
   "metadata": {},
   "outputs": [],
   "source": [
    "from nltk.stem import PorterStemmer"
   ]
  },
  {
   "cell_type": "code",
   "execution_count": 17,
   "id": "d249333c",
   "metadata": {},
   "outputs": [],
   "source": [
    "pstem = PorterStemmer()"
   ]
  },
  {
   "cell_type": "code",
   "execution_count": 18,
   "id": "54abdae5",
   "metadata": {},
   "outputs": [
    {
     "name": "stdout",
     "output_type": "stream",
     "text": [
      "['film', 'adapt', 'comic', 'book', 'plenti', 'success', 'whether', 'superhero', 'batman', 'superman', 'spawn', 'gear', 'toward', 'kid', 'casper', 'arthous', 'crowd', 'ghost', 'world', 'never', 'realli', 'comic', 'book', 'like', 'hell', 'starter', 'creat', 'alan', 'moor', 'eddi', 'campbel', 'brought', 'medium', 'whole', 'new', 'level', 'mid', '80', '12', 'part', 'seri', 'call', 'watchmen', 'say', 'moor', 'campbel', 'thoroughli', 'research', 'subject', 'jack', 'ripper', 'would', 'like', 'say', 'michael', 'jackson', 'start', 'look', 'littl', 'odd', 'book', 'graphic', 'novel', '500', 'page', 'long', 'includ', 'nearli', '30', 'consist', 'noth', 'footnot', 'word', 'dismiss', 'film', 'sourc', 'get', 'past', 'whole', 'comic', 'book', 'thing', 'might', 'find', 'anoth', 'stumbl', 'block', 'hell', 'director', 'albert', 'allen', 'hugh', 'get', 'hugh', 'brother', 'direct', 'seem', 'almost', 'ludicr', 'cast', 'carrot', 'top', 'well', 'anyth', 'riddl', 'better', 'direct', 'film', 'set', 'ghetto', 'featur', 'realli', 'violent', 'street', 'crime', 'mad', 'genius', 'behind', 'menac', 'ii', 'societi', 'ghetto', 'question', 'cours', 'whitechapel', '1888', 'london', 'east', 'end', 'filthi', 'sooti', 'place', 'whore', 'call', 'unfortun', 'start', 'get', 'littl', 'nervou', 'mysteri', 'psychopath', 'carv', 'profess', 'surgic', 'precis', 'first', 'stiff', 'turn', 'copper', 'peter', 'godley', 'robbi', 'coltran', 'world', 'enough', 'call', 'inspector', 'frederick', 'abberlin', 'johnni', 'depp', 'blow', 'crack', 'case', 'abberlin', 'widow', 'prophet', 'dream', 'unsuccess', 'tri', 'quell', 'copiou', 'amount', 'absinth', 'opium', 'upon', 'arriv', 'whitechapel', 'befriend', 'unfortun', 'name', 'mari', 'kelli', 'heather', 'graham', 'say', 'proce', 'investig', 'horribl', 'gruesom', 'crime', 'even', 'polic', 'surgeon', 'stomach', 'think', 'anyon', 'need', 'brief', 'jack', 'ripper', 'go', 'particular', 'say', 'moor', 'campbel', 'uniqu', 'interest', 'theori', 'ident', 'killer', 'reason', 'choos', 'slay', 'comic', 'bother', 'cloak', 'ident', 'ripper', 'screenwrit', 'terri', 'hay', 'vertic', 'limit', 'rafael', 'yglesia', 'le', 'mi', 'rabl', 'good', 'job', 'keep', 'hidden', 'viewer', 'end', 'funni', 'watch', 'local', 'blindli', 'point', 'finger', 'blame', 'jew', 'indian', 'englishman', 'could', 'never', 'capabl', 'commit', 'ghastli', 'act', 'hell', 'end', 'whistl', 'stonecutt', 'song', 'simpson', 'day', 'hold', 'back', 'electr', 'carwho', 'made', 'steve', 'guttenberg', 'star', 'worri', 'make', 'sens', 'see', 'onto', 'hell', 'appear', 'certainli', 'dark', 'bleak', 'enough', 'surpris', 'see', 'much', 'look', 'like', 'tim', 'burton', 'film', 'planet', 'ape', 'time', 'seem', 'like', 'sleepi', 'hollow', '2', 'print', 'saw', 'complet', 'finish', 'color', 'music', 'final', 'comment', 'marilyn', 'manson', 'cinematograph', 'peter', 'deme', 'say', 'word', 'abli', 'captur', 'dreari', 'victorian', 'era', 'london', 'help', 'make', 'flashi', 'kill', 'scene', 'remind', 'crazi', 'flashback', 'twin', 'peak', 'even', 'though', 'violenc', 'film', 'pale', 'comparison', 'black', 'white', 'comic', 'oscar', 'winner', 'martin', 'child', 'shakespear', 'love', 'product', 'design', 'turn', 'origin', 'pragu', 'surround', 'one', 'creepi', 'place', 'even', 'act', 'hell', 'solid', 'dreami', 'depp', 'turn', 'typic', 'strong', 'perform', 'deftli', 'handl', 'british', 'accent', 'ian', 'holm', 'joe', 'gould', 'secret', 'richardson', '102', 'dalmatian', 'log', 'great', 'support', 'role', 'big', 'surpris', 'graham', 'cring', 'first', 'time', 'open', 'mouth', 'imagin', 'attempt', 'irish', 'accent', 'actual', 'half', 'bad', 'film', 'howev', 'good', '2', '00', 'r', 'strong', 'violencegor', 'sexual', 'languag', 'drug', 'content']\n"
     ]
    }
   ],
   "source": [
    "l = []\n",
    "for i in word_tokenize(df[\"text_NStpwrds\"][0]):\n",
    "    l.append(pstem.stem(i))\n",
    "print(l)"
   ]
  },
  {
   "cell_type": "code",
   "execution_count": 19,
   "id": "e853a127",
   "metadata": {
    "scrolled": true
   },
   "outputs": [],
   "source": [
    "df[\"text_Stem\"] = df[\"text_NStpwrds\"].map(lambda x : \" \".join( [ pstem.stem(i) for i in word_tokenize(x) ] ))"
   ]
  },
  {
   "cell_type": "code",
   "execution_count": 20,
   "id": "36cd9a76",
   "metadata": {},
   "outputs": [],
   "source": [
    "df[\"text_Stem_len\"] = df[\"text_NStpwrds\"].map(lambda x : len(\" \".join( [ pstem.stem(i) for i in word_tokenize(x) ] )))"
   ]
  },
  {
   "cell_type": "code",
   "execution_count": 21,
   "id": "33c36fa5",
   "metadata": {},
   "outputs": [
    {
     "data": {
      "text/html": [
       "<div>\n",
       "<style scoped>\n",
       "    .dataframe tbody tr th:only-of-type {\n",
       "        vertical-align: middle;\n",
       "    }\n",
       "\n",
       "    .dataframe tbody tr th {\n",
       "        vertical-align: top;\n",
       "    }\n",
       "\n",
       "    .dataframe thead th {\n",
       "        text-align: right;\n",
       "    }\n",
       "</style>\n",
       "<table border=\"1\" class=\"dataframe\">\n",
       "  <thead>\n",
       "    <tr style=\"text-align: right;\">\n",
       "      <th></th>\n",
       "      <th>class</th>\n",
       "      <th>text</th>\n",
       "      <th>text_len</th>\n",
       "      <th>text_NPunc</th>\n",
       "      <th>text_NPunc_len</th>\n",
       "      <th>text_NStpwrds</th>\n",
       "      <th>text_NStpwrds_len</th>\n",
       "      <th>text_Stem</th>\n",
       "      <th>text_Stem_len</th>\n",
       "    </tr>\n",
       "  </thead>\n",
       "  <tbody>\n",
       "    <tr>\n",
       "      <th>0</th>\n",
       "      <td>Pos</td>\n",
       "      <td>films adapted from comic books have had plent...</td>\n",
       "      <td>4228</td>\n",
       "      <td>films adapted from comic books have had plent...</td>\n",
       "      <td>4226</td>\n",
       "      <td>films adapted comic books plenty success wheth...</td>\n",
       "      <td>2811</td>\n",
       "      <td>film adapt comic book plenti success whether s...</td>\n",
       "      <td>2515</td>\n",
       "    </tr>\n",
       "    <tr>\n",
       "      <th>1</th>\n",
       "      <td>Pos</td>\n",
       "      <td>every now and then a movie comes along from a...</td>\n",
       "      <td>4097</td>\n",
       "      <td>every now and then a movie comes along from a...</td>\n",
       "      <td>4096</td>\n",
       "      <td>every movie comes along suspect studio every i...</td>\n",
       "      <td>2591</td>\n",
       "      <td>everi movi come along suspect studio everi ind...</td>\n",
       "      <td>2294</td>\n",
       "    </tr>\n",
       "    <tr>\n",
       "      <th>2</th>\n",
       "      <td>Pos</td>\n",
       "      <td>you ve got mail works alot better than it des...</td>\n",
       "      <td>2422</td>\n",
       "      <td>you ve got mail works alot better than it des...</td>\n",
       "      <td>2421</td>\n",
       "      <td>got mail works alot better deserves order make...</td>\n",
       "      <td>1445</td>\n",
       "      <td>got mail work alot better deserv order make fi...</td>\n",
       "      <td>1264</td>\n",
       "    </tr>\n",
       "    <tr>\n",
       "      <th>3</th>\n",
       "      <td>Pos</td>\n",
       "      <td>jaws   is a rare film that grabs your atte...</td>\n",
       "      <td>6093</td>\n",
       "      <td>jaws   is a rare film that grabs your atte...</td>\n",
       "      <td>6093</td>\n",
       "      <td>jaws rare film grabs attention shows single im...</td>\n",
       "      <td>3998</td>\n",
       "      <td>jaw rare film grab attent show singl imag scre...</td>\n",
       "      <td>3537</td>\n",
       "    </tr>\n",
       "    <tr>\n",
       "      <th>4</th>\n",
       "      <td>Pos</td>\n",
       "      <td>moviemaking is a lot like being the general m...</td>\n",
       "      <td>3899</td>\n",
       "      <td>moviemaking is a lot like being the general m...</td>\n",
       "      <td>3896</td>\n",
       "      <td>moviemaking lot like general manager nfl team ...</td>\n",
       "      <td>2537</td>\n",
       "      <td>moviemak lot like gener manag nfl team post sa...</td>\n",
       "      <td>2264</td>\n",
       "    </tr>\n",
       "    <tr>\n",
       "      <th>...</th>\n",
       "      <td>...</td>\n",
       "      <td>...</td>\n",
       "      <td>...</td>\n",
       "      <td>...</td>\n",
       "      <td>...</td>\n",
       "      <td>...</td>\n",
       "      <td>...</td>\n",
       "      <td>...</td>\n",
       "      <td>...</td>\n",
       "    </tr>\n",
       "    <tr>\n",
       "      <th>1995</th>\n",
       "      <td>Neg</td>\n",
       "      <td>if anything     stigmata   should be taken as...</td>\n",
       "      <td>8357</td>\n",
       "      <td>if anything     stigmata   should be taken as...</td>\n",
       "      <td>8349</td>\n",
       "      <td>anything stigmata taken warning releasing simi...</td>\n",
       "      <td>5066</td>\n",
       "      <td>anyth stigmata taken warn releas similarli the...</td>\n",
       "      <td>4427</td>\n",
       "    </tr>\n",
       "    <tr>\n",
       "      <th>1996</th>\n",
       "      <td>Neg</td>\n",
       "      <td>john boorman s   zardoz   is a goofy cinemati...</td>\n",
       "      <td>6212</td>\n",
       "      <td>john boorman s   zardoz   is a goofy cinemati...</td>\n",
       "      <td>6212</td>\n",
       "      <td>john boorman zardoz goofy cinematic debacle fu...</td>\n",
       "      <td>4062</td>\n",
       "      <td>john boorman zardoz goofi cinemat debacl funda...</td>\n",
       "      <td>3554</td>\n",
       "    </tr>\n",
       "    <tr>\n",
       "      <th>1997</th>\n",
       "      <td>Neg</td>\n",
       "      <td>the kids in the hall are an acquired taste   ...</td>\n",
       "      <td>2343</td>\n",
       "      <td>the kids in the hall are an acquired taste   ...</td>\n",
       "      <td>2343</td>\n",
       "      <td>kids hall acquired taste took least season wat...</td>\n",
       "      <td>1469</td>\n",
       "      <td>kid hall acquir tast took least season watch s...</td>\n",
       "      <td>1279</td>\n",
       "    </tr>\n",
       "    <tr>\n",
       "      <th>1998</th>\n",
       "      <td>Neg</td>\n",
       "      <td>there was a time when john carpenter was a gr...</td>\n",
       "      <td>3184</td>\n",
       "      <td>there was a time when john carpenter was a gr...</td>\n",
       "      <td>3184</td>\n",
       "      <td>time john carpenter great horror director cour...</td>\n",
       "      <td>1951</td>\n",
       "      <td>time john carpent great horror director cours ...</td>\n",
       "      <td>1726</td>\n",
       "    </tr>\n",
       "    <tr>\n",
       "      <th>1999</th>\n",
       "      <td>Neg</td>\n",
       "      <td>two party guys bob their heads to haddaway s ...</td>\n",
       "      <td>3256</td>\n",
       "      <td>two party guys bob their heads to haddaway s ...</td>\n",
       "      <td>3256</td>\n",
       "      <td>two party guys bob heads haddaway dance hit lo...</td>\n",
       "      <td>2093</td>\n",
       "      <td>two parti guy bob head haddaway danc hit love ...</td>\n",
       "      <td>1860</td>\n",
       "    </tr>\n",
       "  </tbody>\n",
       "</table>\n",
       "<p>2000 rows × 9 columns</p>\n",
       "</div>"
      ],
      "text/plain": [
       "     class                                               text  text_len  \\\n",
       "0      Pos   films adapted from comic books have had plent...      4228   \n",
       "1      Pos   every now and then a movie comes along from a...      4097   \n",
       "2      Pos   you ve got mail works alot better than it des...      2422   \n",
       "3      Pos      jaws   is a rare film that grabs your atte...      6093   \n",
       "4      Pos   moviemaking is a lot like being the general m...      3899   \n",
       "...    ...                                                ...       ...   \n",
       "1995   Neg   if anything     stigmata   should be taken as...      8357   \n",
       "1996   Neg   john boorman s   zardoz   is a goofy cinemati...      6212   \n",
       "1997   Neg   the kids in the hall are an acquired taste   ...      2343   \n",
       "1998   Neg   there was a time when john carpenter was a gr...      3184   \n",
       "1999   Neg   two party guys bob their heads to haddaway s ...      3256   \n",
       "\n",
       "                                             text_NPunc  text_NPunc_len  \\\n",
       "0      films adapted from comic books have had plent...            4226   \n",
       "1      every now and then a movie comes along from a...            4096   \n",
       "2      you ve got mail works alot better than it des...            2421   \n",
       "3         jaws   is a rare film that grabs your atte...            6093   \n",
       "4      moviemaking is a lot like being the general m...            3896   \n",
       "...                                                 ...             ...   \n",
       "1995   if anything     stigmata   should be taken as...            8349   \n",
       "1996   john boorman s   zardoz   is a goofy cinemati...            6212   \n",
       "1997   the kids in the hall are an acquired taste   ...            2343   \n",
       "1998   there was a time when john carpenter was a gr...            3184   \n",
       "1999   two party guys bob their heads to haddaway s ...            3256   \n",
       "\n",
       "                                          text_NStpwrds  text_NStpwrds_len  \\\n",
       "0     films adapted comic books plenty success wheth...               2811   \n",
       "1     every movie comes along suspect studio every i...               2591   \n",
       "2     got mail works alot better deserves order make...               1445   \n",
       "3     jaws rare film grabs attention shows single im...               3998   \n",
       "4     moviemaking lot like general manager nfl team ...               2537   \n",
       "...                                                 ...                ...   \n",
       "1995  anything stigmata taken warning releasing simi...               5066   \n",
       "1996  john boorman zardoz goofy cinematic debacle fu...               4062   \n",
       "1997  kids hall acquired taste took least season wat...               1469   \n",
       "1998  time john carpenter great horror director cour...               1951   \n",
       "1999  two party guys bob heads haddaway dance hit lo...               2093   \n",
       "\n",
       "                                              text_Stem  text_Stem_len  \n",
       "0     film adapt comic book plenti success whether s...           2515  \n",
       "1     everi movi come along suspect studio everi ind...           2294  \n",
       "2     got mail work alot better deserv order make fi...           1264  \n",
       "3     jaw rare film grab attent show singl imag scre...           3537  \n",
       "4     moviemak lot like gener manag nfl team post sa...           2264  \n",
       "...                                                 ...            ...  \n",
       "1995  anyth stigmata taken warn releas similarli the...           4427  \n",
       "1996  john boorman zardoz goofi cinemat debacl funda...           3554  \n",
       "1997  kid hall acquir tast took least season watch s...           1279  \n",
       "1998  time john carpent great horror director cours ...           1726  \n",
       "1999  two parti guy bob head haddaway danc hit love ...           1860  \n",
       "\n",
       "[2000 rows x 9 columns]"
      ]
     },
     "execution_count": 21,
     "metadata": {},
     "output_type": "execute_result"
    }
   ],
   "source": [
    "df"
   ]
  },
  {
   "cell_type": "code",
   "execution_count": 22,
   "id": "c756c635",
   "metadata": {},
   "outputs": [
    {
     "data": {
      "text/plain": [
       "Index(['class', 'text', 'text_len', 'text_NPunc', 'text_NPunc_len',\n",
       "       'text_NStpwrds', 'text_NStpwrds_len', 'text_Stem', 'text_Stem_len'],\n",
       "      dtype='object')"
      ]
     },
     "execution_count": 22,
     "metadata": {},
     "output_type": "execute_result"
    }
   ],
   "source": [
    "df.columns"
   ]
  },
  {
   "cell_type": "code",
   "execution_count": 23,
   "id": "b9931449",
   "metadata": {},
   "outputs": [],
   "source": [
    "df1 = df.drop(['text', 'text_len', 'text_NPunc', 'text_NPunc_len',\n",
    "       'text_NStpwrds', 'text_NStpwrds_len', 'text_Stem_len'],axis=1)"
   ]
  },
  {
   "cell_type": "code",
   "execution_count": 24,
   "id": "930a14ec",
   "metadata": {},
   "outputs": [
    {
     "data": {
      "text/html": [
       "<div>\n",
       "<style scoped>\n",
       "    .dataframe tbody tr th:only-of-type {\n",
       "        vertical-align: middle;\n",
       "    }\n",
       "\n",
       "    .dataframe tbody tr th {\n",
       "        vertical-align: top;\n",
       "    }\n",
       "\n",
       "    .dataframe thead th {\n",
       "        text-align: right;\n",
       "    }\n",
       "</style>\n",
       "<table border=\"1\" class=\"dataframe\">\n",
       "  <thead>\n",
       "    <tr style=\"text-align: right;\">\n",
       "      <th></th>\n",
       "      <th>class</th>\n",
       "      <th>text_Stem</th>\n",
       "    </tr>\n",
       "  </thead>\n",
       "  <tbody>\n",
       "    <tr>\n",
       "      <th>0</th>\n",
       "      <td>Pos</td>\n",
       "      <td>film adapt comic book plenti success whether s...</td>\n",
       "    </tr>\n",
       "    <tr>\n",
       "      <th>1</th>\n",
       "      <td>Pos</td>\n",
       "      <td>everi movi come along suspect studio everi ind...</td>\n",
       "    </tr>\n",
       "    <tr>\n",
       "      <th>2</th>\n",
       "      <td>Pos</td>\n",
       "      <td>got mail work alot better deserv order make fi...</td>\n",
       "    </tr>\n",
       "    <tr>\n",
       "      <th>3</th>\n",
       "      <td>Pos</td>\n",
       "      <td>jaw rare film grab attent show singl imag scre...</td>\n",
       "    </tr>\n",
       "    <tr>\n",
       "      <th>4</th>\n",
       "      <td>Pos</td>\n",
       "      <td>moviemak lot like gener manag nfl team post sa...</td>\n",
       "    </tr>\n",
       "    <tr>\n",
       "      <th>...</th>\n",
       "      <td>...</td>\n",
       "      <td>...</td>\n",
       "    </tr>\n",
       "    <tr>\n",
       "      <th>1995</th>\n",
       "      <td>Neg</td>\n",
       "      <td>anyth stigmata taken warn releas similarli the...</td>\n",
       "    </tr>\n",
       "    <tr>\n",
       "      <th>1996</th>\n",
       "      <td>Neg</td>\n",
       "      <td>john boorman zardoz goofi cinemat debacl funda...</td>\n",
       "    </tr>\n",
       "    <tr>\n",
       "      <th>1997</th>\n",
       "      <td>Neg</td>\n",
       "      <td>kid hall acquir tast took least season watch s...</td>\n",
       "    </tr>\n",
       "    <tr>\n",
       "      <th>1998</th>\n",
       "      <td>Neg</td>\n",
       "      <td>time john carpent great horror director cours ...</td>\n",
       "    </tr>\n",
       "    <tr>\n",
       "      <th>1999</th>\n",
       "      <td>Neg</td>\n",
       "      <td>two parti guy bob head haddaway danc hit love ...</td>\n",
       "    </tr>\n",
       "  </tbody>\n",
       "</table>\n",
       "<p>2000 rows × 2 columns</p>\n",
       "</div>"
      ],
      "text/plain": [
       "     class                                          text_Stem\n",
       "0      Pos  film adapt comic book plenti success whether s...\n",
       "1      Pos  everi movi come along suspect studio everi ind...\n",
       "2      Pos  got mail work alot better deserv order make fi...\n",
       "3      Pos  jaw rare film grab attent show singl imag scre...\n",
       "4      Pos  moviemak lot like gener manag nfl team post sa...\n",
       "...    ...                                                ...\n",
       "1995   Neg  anyth stigmata taken warn releas similarli the...\n",
       "1996   Neg  john boorman zardoz goofi cinemat debacl funda...\n",
       "1997   Neg  kid hall acquir tast took least season watch s...\n",
       "1998   Neg  time john carpent great horror director cours ...\n",
       "1999   Neg  two parti guy bob head haddaway danc hit love ...\n",
       "\n",
       "[2000 rows x 2 columns]"
      ]
     },
     "execution_count": 24,
     "metadata": {},
     "output_type": "execute_result"
    }
   ],
   "source": [
    "df1"
   ]
  },
  {
   "cell_type": "markdown",
   "id": "d419dbf6",
   "metadata": {},
   "source": [
    "## Checking Balance of the Dependent Column"
   ]
  },
  {
   "cell_type": "code",
   "execution_count": 25,
   "id": "7f2ab11e",
   "metadata": {},
   "outputs": [
    {
     "data": {
      "text/plain": [
       "<AxesSubplot:ylabel='class'>"
      ]
     },
     "execution_count": 25,
     "metadata": {},
     "output_type": "execute_result"
    },
    {
     "data": {
      "image/png": "[encoded data removed]",
      "text/plain": [
       "<Figure size 432x288 with 1 Axes>"
      ]
     },
     "metadata": {},
     "output_type": "display_data"
    }
   ],
   "source": [
    "df1[\"class\"].value_counts().plot(kind = \"pie\")"
   ]
  },
  {
   "cell_type": "markdown",
   "id": "edd358b9",
   "metadata": {},
   "source": [
    "## Encoding"
   ]
  },
  {
   "cell_type": "code",
   "execution_count": 26,
   "id": "bc016c2f",
   "metadata": {},
   "outputs": [],
   "source": [
    "from sklearn.preprocessing import LabelEncoder"
   ]
  },
  {
   "cell_type": "code",
   "execution_count": 27,
   "id": "d1da6414",
   "metadata": {},
   "outputs": [],
   "source": [
    "le = LabelEncoder()"
   ]
  },
  {
   "cell_type": "code",
   "execution_count": 28,
   "id": "b17032a1",
   "metadata": {},
   "outputs": [],
   "source": [
    "df1 = pd.concat([df1,pd.DataFrame(le.fit_transform(df1[\"class\"]),columns=[\"Class\"])],axis=1)"
   ]
  },
  {
   "cell_type": "code",
   "execution_count": 29,
   "id": "c6b38ba4",
   "metadata": {},
   "outputs": [
    {
     "data": {
      "text/plain": [
       "array(['Neg', 'Pos'], dtype=object)"
      ]
     },
     "execution_count": 29,
     "metadata": {},
     "output_type": "execute_result"
    }
   ],
   "source": [
    "le.classes_"
   ]
  },
  {
   "cell_type": "code",
   "execution_count": 30,
   "id": "5312914c",
   "metadata": {},
   "outputs": [],
   "source": [
    "df1.drop(\"class\",axis=1,inplace=True)"
   ]
  },
  {
   "cell_type": "code",
   "execution_count": 31,
   "id": "ca682978",
   "metadata": {},
   "outputs": [],
   "source": [
    "df1.columns = [\"Msg\",\"Label\"]"
   ]
  },
  {
   "cell_type": "code",
   "execution_count": 32,
   "id": "bb789180",
   "metadata": {},
   "outputs": [],
   "source": [
    "X = df1[[\"Msg\"]]"
   ]
  },
  {
   "cell_type": "code",
   "execution_count": 33,
   "id": "dec46a0f",
   "metadata": {},
   "outputs": [],
   "source": [
    "y = df1[\"Label\"]"
   ]
  },
  {
   "cell_type": "code",
   "execution_count": 34,
   "id": "0257c35e",
   "metadata": {},
   "outputs": [
    {
     "data": {
      "text/html": [
       "<div>\n",
       "<style scoped>\n",
       "    .dataframe tbody tr th:only-of-type {\n",
       "        vertical-align: middle;\n",
       "    }\n",
       "\n",
       "    .dataframe tbody tr th {\n",
       "        vertical-align: top;\n",
       "    }\n",
       "\n",
       "    .dataframe thead th {\n",
       "        text-align: right;\n",
       "    }\n",
       "</style>\n",
       "<table border=\"1\" class=\"dataframe\">\n",
       "  <thead>\n",
       "    <tr style=\"text-align: right;\">\n",
       "      <th></th>\n",
       "      <th>Msg</th>\n",
       "    </tr>\n",
       "  </thead>\n",
       "  <tbody>\n",
       "    <tr>\n",
       "      <th>690</th>\n",
       "      <td>charli sheen star zane radio astronom listen s...</td>\n",
       "    </tr>\n",
       "  </tbody>\n",
       "</table>\n",
       "</div>"
      ],
      "text/plain": [
       "                                                   Msg\n",
       "690  charli sheen star zane radio astronom listen s..."
      ]
     },
     "execution_count": 34,
     "metadata": {},
     "output_type": "execute_result"
    }
   ],
   "source": [
    "X.sample()"
   ]
  },
  {
   "cell_type": "code",
   "execution_count": 35,
   "id": "2adde290",
   "metadata": {},
   "outputs": [
    {
     "data": {
      "text/plain": [
       "1665    0\n",
       "Name: Label, dtype: int64"
      ]
     },
     "execution_count": 35,
     "metadata": {},
     "output_type": "execute_result"
    }
   ],
   "source": [
    "y.sample()"
   ]
  },
  {
   "cell_type": "code",
   "execution_count": 36,
   "id": "781b7b95",
   "metadata": {},
   "outputs": [],
   "source": [
    "from sklearn.model_selection import train_test_split"
   ]
  },
  {
   "cell_type": "code",
   "execution_count": 37,
   "id": "17fe0939",
   "metadata": {},
   "outputs": [],
   "source": [
    "Xtrain,Xtest,ytrain,ytest = train_test_split(X,y,test_size=.20)"
   ]
  },
  {
   "cell_type": "code",
   "execution_count": 38,
   "id": "b5425a80",
   "metadata": {},
   "outputs": [
    {
     "data": {
      "text/plain": [
       "((1600, 1), (400, 1), (2000, 1))"
      ]
     },
     "execution_count": 38,
     "metadata": {},
     "output_type": "execute_result"
    }
   ],
   "source": [
    "Xtrain.shape , Xtest.shape , X.shape"
   ]
  },
  {
   "cell_type": "code",
   "execution_count": 39,
   "id": "3544f0cc",
   "metadata": {},
   "outputs": [
    {
     "data": {
      "text/plain": [
       "((1600,), (400,), (2000,))"
      ]
     },
     "execution_count": 39,
     "metadata": {},
     "output_type": "execute_result"
    }
   ],
   "source": [
    "ytrain.shape , ytest.shape , y.shape"
   ]
  },
  {
   "cell_type": "code",
   "execution_count": 40,
   "id": "7aefc9a8",
   "metadata": {},
   "outputs": [],
   "source": [
    "from sklearn.feature_extraction.text import TfidfVectorizer"
   ]
  },
  {
   "cell_type": "code",
   "execution_count": 41,
   "id": "283e5385",
   "metadata": {},
   "outputs": [],
   "source": [
    "tfvec = TfidfVectorizer()"
   ]
  },
  {
   "cell_type": "code",
   "execution_count": 42,
   "id": "b4068efe",
   "metadata": {},
   "outputs": [
    {
     "data": {
      "text/plain": [
       "TfidfVectorizer()"
      ]
     },
     "execution_count": 42,
     "metadata": {},
     "output_type": "execute_result"
    }
   ],
   "source": [
    "tfvec.fit(Xtrain[\"Msg\"])"
   ]
  },
  {
   "cell_type": "code",
   "execution_count": 43,
   "id": "007cc75b",
   "metadata": {},
   "outputs": [],
   "source": [
    "tfvec_Xtrain = tfvec.transform(Xtrain[\"Msg\"])"
   ]
  },
  {
   "cell_type": "code",
   "execution_count": 44,
   "id": "730fa847",
   "metadata": {},
   "outputs": [],
   "source": [
    "tfvec_Xtest = tfvec.transform(Xtest[\"Msg\"])"
   ]
  },
  {
   "cell_type": "code",
   "execution_count": 45,
   "id": "3c2b8d23",
   "metadata": {},
   "outputs": [
    {
     "data": {
      "text/plain": [
       "<400x23769 sparse matrix of type '<class 'numpy.float64'>'\n",
       "\twith 100025 stored elements in Compressed Sparse Row format>"
      ]
     },
     "execution_count": 45,
     "metadata": {},
     "output_type": "execute_result"
    }
   ],
   "source": [
    "tfvec_Xtest"
   ]
  },
  {
   "cell_type": "code",
   "execution_count": 46,
   "id": "0265063b",
   "metadata": {},
   "outputs": [],
   "source": [
    "from sklearn.naive_bayes import MultinomialNB"
   ]
  },
  {
   "cell_type": "code",
   "execution_count": 47,
   "id": "fd381832",
   "metadata": {},
   "outputs": [],
   "source": [
    "mn = MultinomialNB()"
   ]
  },
  {
   "cell_type": "code",
   "execution_count": 48,
   "id": "03a62193",
   "metadata": {},
   "outputs": [
    {
     "data": {
      "text/plain": [
       "MultinomialNB()"
      ]
     },
     "execution_count": 48,
     "metadata": {},
     "output_type": "execute_result"
    }
   ],
   "source": [
    "mn.fit(tfvec_Xtrain,ytrain)"
   ]
  },
  {
   "cell_type": "code",
   "execution_count": 49,
   "id": "ddfc5cac",
   "metadata": {},
   "outputs": [
    {
     "data": {
      "text/plain": [
       "0.79"
      ]
     },
     "execution_count": 49,
     "metadata": {},
     "output_type": "execute_result"
    }
   ],
   "source": [
    "mn.score(tfvec_Xtest,ytest)"
   ]
  },
  {
   "cell_type": "markdown",
   "id": "2c404f81",
   "metadata": {},
   "source": [
    "## Testing"
   ]
  },
  {
   "cell_type": "code",
   "execution_count": 50,
   "id": "f6fb3a32",
   "metadata": {},
   "outputs": [],
   "source": [
    "result = { 0 : \"It's a Neg. Review\", 1 : \"It's a Pos. Review\"}"
   ]
  },
  {
   "cell_type": "code",
   "execution_count": 51,
   "id": "0b17f017",
   "metadata": {},
   "outputs": [],
   "source": [
    "msg1 = [\"I Watched That And I'm totally Amazed with the Direction\"]"
   ]
  },
  {
   "cell_type": "code",
   "execution_count": 52,
   "id": "f91f2965",
   "metadata": {},
   "outputs": [],
   "source": [
    "msg1_tfvec = tfvec.transform(msg1)"
   ]
  },
  {
   "cell_type": "code",
   "execution_count": 53,
   "id": "5807ab15",
   "metadata": {},
   "outputs": [
    {
     "data": {
      "text/plain": [
       "array([1])"
      ]
     },
     "execution_count": 53,
     "metadata": {},
     "output_type": "execute_result"
    }
   ],
   "source": [
    "mn.predict(msg1_tfvec)"
   ]
  },
  {
   "cell_type": "code",
   "execution_count": 54,
   "id": "1e675e09",
   "metadata": {},
   "outputs": [
    {
     "data": {
      "text/plain": [
       "\"It's a Pos. Review\""
      ]
     },
     "execution_count": 54,
     "metadata": {},
     "output_type": "execute_result"
    }
   ],
   "source": [
    "result[mn.predict(msg1_tfvec)[0]]"
   ]
  },
  {
   "cell_type": "code",
   "execution_count": 55,
   "id": "92b0810f",
   "metadata": {},
   "outputs": [],
   "source": [
    "msg2 = [\"I'm totally disappointed with the sounds and the action also\"]"
   ]
  },
  {
   "cell_type": "code",
   "execution_count": 56,
   "id": "581ed263",
   "metadata": {},
   "outputs": [],
   "source": [
    "msg2_tfvec = tfvec.transform(msg2)"
   ]
  },
  {
   "cell_type": "code",
   "execution_count": 57,
   "id": "4b5eb782",
   "metadata": {},
   "outputs": [
    {
     "data": {
      "text/plain": [
       "array([1])"
      ]
     },
     "execution_count": 57,
     "metadata": {},
     "output_type": "execute_result"
    }
   ],
   "source": [
    "mn.predict(msg2_tfvec)"
   ]
  },
  {
   "cell_type": "code",
   "execution_count": 58,
   "id": "04e20891",
   "metadata": {},
   "outputs": [
    {
     "data": {
      "text/plain": [
       "\"It's a Pos. Review\""
      ]
     },
     "execution_count": 58,
     "metadata": {},
     "output_type": "execute_result"
    }
   ],
   "source": [
    "result[mn.predict(msg2_tfvec)[0]]"
   ]
  },
  {
   "cell_type": "code",
   "execution_count": 59,
   "id": "069d0f81",
   "metadata": {},
   "outputs": [],
   "source": [
    "msg3 = [\"I'm totally Like the movie\"]"
   ]
  },
  {
   "cell_type": "code",
   "execution_count": 60,
   "id": "db3c8d0b",
   "metadata": {},
   "outputs": [],
   "source": [
    "msg3_tfvec = tfvec.transform(msg3)"
   ]
  },
  {
   "cell_type": "code",
   "execution_count": 61,
   "id": "443c5e4d",
   "metadata": {},
   "outputs": [
    {
     "data": {
      "text/plain": [
       "array([0])"
      ]
     },
     "execution_count": 61,
     "metadata": {},
     "output_type": "execute_result"
    }
   ],
   "source": [
    "mn.predict(msg3_tfvec)"
   ]
  },
  {
   "cell_type": "code",
   "execution_count": 62,
   "id": "3bcfbc3e",
   "metadata": {},
   "outputs": [
    {
     "data": {
      "text/plain": [
       "\"It's a Neg. Review\""
      ]
     },
     "execution_count": 62,
     "metadata": {},
     "output_type": "execute_result"
    }
   ],
   "source": [
    "result[mn.predict(msg3_tfvec)[0]]"
   ]
  },
  {
   "cell_type": "code",
   "execution_count": 63,
   "id": "3f92bb74",
   "metadata": {},
   "outputs": [],
   "source": [
    "import speech_recognition as sr"
   ]
  },
  {
   "cell_type": "code",
   "execution_count": 64,
   "id": "6da1f149",
   "metadata": {},
   "outputs": [],
   "source": [
    "r = sr.Recognizer()"
   ]
  },
  {
   "cell_type": "code",
   "execution_count": 65,
   "id": "7d85d721",
   "metadata": {},
   "outputs": [],
   "source": [
    "## For Checking the Sentiment of the Said Words. \n",
    "\n",
    "\n",
    "def msgvalid(text):\n",
    "    global ss\n",
    "    t = tfvec.transform([text])\n",
    "    mn.predict(t)\n",
    "    ss= result[mn.predict(t)[0]]\n",
    "    print()\n",
    "    print(ss)"
   ]
  },
  {
   "cell_type": "code",
   "execution_count": 66,
   "id": "138d1573",
   "metadata": {},
   "outputs": [],
   "source": [
    "## For Speaking Back The Said Words   \n",
    "\n",
    "\n",
    "def speak(msg):\n",
    "    import pyttsx3\n",
    "    engine = pyttsx3.init()\n",
    "    engine.say(msg)\n",
    "    engine.runAndWait()"
   ]
  },
  {
   "cell_type": "code",
   "execution_count": 67,
   "id": "cd756a3f",
   "metadata": {},
   "outputs": [
    {
     "name": "stdout",
     "output_type": "stream",
     "text": [
      "hello hello\n",
      "\n",
      "It's a Neg. Review\n"
     ]
    }
   ],
   "source": [
    "with sr.Microphone() as src:\n",
    "    audio = r.listen(src)\n",
    "    msg = r.recognize_google(audio)\n",
    "    print(msg)\n",
    "    msgvalid(msg)\n",
    "    speak(msg)\n",
    "    speak(ss)"
   ]
  },
  {
   "cell_type": "code",
   "execution_count": null,
   "id": "0e580f2b",
   "metadata": {},
   "outputs": [],
   "source": []
  }
 ],
 "metadata": {
  "kernelspec": {
   "display_name": "Python 3 (ipykernel)",
   "language": "python",
   "name": "python3"
  },
  "language_info": {
   "codemirror_mode": {
    "name": "ipython",
    "version": 3
   },
   "file_extension": ".py",
   "mimetype": "text/x-python",
   "name": "python",
   "nbconvert_exporter": "python",
   "pygments_lexer": "ipython3",
   "version": "3.7.13"
  }
 },
 "nbformat": 4,
 "nbformat_minor": 5
}
